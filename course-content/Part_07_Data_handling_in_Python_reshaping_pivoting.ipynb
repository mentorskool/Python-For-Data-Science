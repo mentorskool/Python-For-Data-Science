{
  "cells": [
    {
      "metadata": {},
      "cell_type": "markdown",
      "source": "# Part 7"
    },
    {
      "metadata": {},
      "cell_type": "markdown",
      "source": "# Reshaping data frames"
    },
    {
      "metadata": {
        "trusted": true
      },
      "cell_type": "code",
      "source": "import numpy as np\nimport pandas as pd\nfrom pandas import Series, DataFrame",
      "execution_count": 2,
      "outputs": []
    },
    {
      "metadata": {
        "trusted": true
      },
      "cell_type": "code",
      "source": "dframe1 = DataFrame(np.arange(8).reshape((2, 4)),\n                    index = pd.Index(['LA', 'SF'], name = 'city'),\n                    columns = pd.Index(['A', 'B', 'C','D'], name = 'letter')) \n# by using pd.Index we can name the index and the columns\ntype(dframe1)",
      "execution_count": 7,
      "outputs": [
        {
          "output_type": "execute_result",
          "execution_count": 7,
          "data": {
            "text/plain": "pandas.core.frame.DataFrame"
          },
          "metadata": {}
        }
      ]
    },
    {
      "metadata": {
        "trusted": true
      },
      "cell_type": "code",
      "source": "dframe_st = dframe1.stack() # \"pivots\" rows into columns - actually melts wide into long format\ntype(dframe_st)",
      "execution_count": 10,
      "outputs": [
        {
          "output_type": "execute_result",
          "execution_count": 10,
          "data": {
            "text/plain": "pandas.core.series.Series"
          },
          "metadata": {}
        }
      ]
    },
    {
      "metadata": {
        "trusted": true
      },
      "cell_type": "code",
      "source": "dframe_st.unstack() # casts long into wide format",
      "execution_count": 11,
      "outputs": [
        {
          "output_type": "execute_result",
          "execution_count": 11,
          "data": {
            "text/html": "<div>\n<table border=\"1\" class=\"dataframe\">\n  <thead>\n    <tr style=\"text-align: right;\">\n      <th>letter</th>\n      <th>A</th>\n      <th>B</th>\n      <th>C</th>\n      <th>D</th>\n    </tr>\n    <tr>\n      <th>city</th>\n      <th></th>\n      <th></th>\n      <th></th>\n      <th></th>\n    </tr>\n  </thead>\n  <tbody>\n    <tr>\n      <th>LA</th>\n      <td>0</td>\n      <td>1</td>\n      <td>2</td>\n      <td>3</td>\n    </tr>\n    <tr>\n      <th>SF</th>\n      <td>4</td>\n      <td>5</td>\n      <td>6</td>\n      <td>7</td>\n    </tr>\n  </tbody>\n</table>\n</div>",
            "text/plain": "letter  A  B  C  D\ncity              \nLA      0  1  2  3\nSF      4  5  6  7"
          },
          "metadata": {}
        }
      ]
    },
    {
      "metadata": {
        "trusted": true,
        "scrolled": true
      },
      "cell_type": "code",
      "source": "dframe_st.unstack('city') # specify which column to unstack by",
      "execution_count": 12,
      "outputs": [
        {
          "output_type": "execute_result",
          "execution_count": 12,
          "data": {
            "text/html": "<div>\n<table border=\"1\" class=\"dataframe\">\n  <thead>\n    <tr style=\"text-align: right;\">\n      <th>city</th>\n      <th>LA</th>\n      <th>SF</th>\n    </tr>\n    <tr>\n      <th>letter</th>\n      <th></th>\n      <th></th>\n    </tr>\n  </thead>\n  <tbody>\n    <tr>\n      <th>A</th>\n      <td>0</td>\n      <td>4</td>\n    </tr>\n    <tr>\n      <th>B</th>\n      <td>1</td>\n      <td>5</td>\n    </tr>\n    <tr>\n      <th>C</th>\n      <td>2</td>\n      <td>6</td>\n    </tr>\n    <tr>\n      <th>D</th>\n      <td>3</td>\n      <td>7</td>\n    </tr>\n  </tbody>\n</table>\n</div>",
            "text/plain": "city    LA  SF\nletter        \nA        0   4\nB        1   5\nC        2   6\nD        3   7"
          },
          "metadata": {}
        }
      ]
    },
    {
      "metadata": {
        "trusted": true
      },
      "cell_type": "code",
      "source": "ser1 = Series([0, 1, 2], index=['Q', 'X', 'Y'])\nser1",
      "execution_count": 17,
      "outputs": [
        {
          "output_type": "execute_result",
          "execution_count": 17,
          "data": {
            "text/plain": "Q    0\nX    1\nY    2\ndtype: int64"
          },
          "metadata": {}
        }
      ]
    },
    {
      "metadata": {
        "trusted": true
      },
      "cell_type": "code",
      "source": "ser2 = Series([4, 5, 6], index=['X', 'Y', 'Z'])\nser2",
      "execution_count": 18,
      "outputs": [
        {
          "output_type": "execute_result",
          "execution_count": 18,
          "data": {
            "text/plain": "X    4\nY    5\nZ    6\ndtype: int64"
          },
          "metadata": {}
        }
      ]
    },
    {
      "metadata": {
        "trusted": true
      },
      "cell_type": "code",
      "source": "dframe = pd.concat([ser1,ser2],keys = ['Alpha','Beta'])\ndframe",
      "execution_count": 19,
      "outputs": [
        {
          "output_type": "execute_result",
          "execution_count": 19,
          "data": {
            "text/plain": "Alpha  Q    0\n       X    1\n       Y    2\nBeta   X    4\n       Y    5\n       Z    6\ndtype: int64"
          },
          "metadata": {}
        }
      ]
    },
    {
      "metadata": {
        "trusted": true
      },
      "cell_type": "code",
      "source": "# Not really a DF yet - just two series concatenated into a single series",
      "execution_count": null,
      "outputs": []
    },
    {
      "metadata": {
        "trusted": true
      },
      "cell_type": "code",
      "source": "df_new1 = dframe.unstack() # turns it into a DF\ndf_new1",
      "execution_count": 20,
      "outputs": [
        {
          "output_type": "execute_result",
          "execution_count": 20,
          "data": {
            "text/html": "<div>\n<table border=\"1\" class=\"dataframe\">\n  <thead>\n    <tr style=\"text-align: right;\">\n      <th></th>\n      <th>Q</th>\n      <th>X</th>\n      <th>Y</th>\n      <th>Z</th>\n    </tr>\n  </thead>\n  <tbody>\n    <tr>\n      <th>Alpha</th>\n      <td>0.0</td>\n      <td>1.0</td>\n      <td>2.0</td>\n      <td>NaN</td>\n    </tr>\n    <tr>\n      <th>Beta</th>\n      <td>NaN</td>\n      <td>4.0</td>\n      <td>5.0</td>\n      <td>6.0</td>\n    </tr>\n  </tbody>\n</table>\n</div>",
            "text/plain": "         Q    X    Y    Z\nAlpha  0.0  1.0  2.0  NaN\nBeta   NaN  4.0  5.0  6.0"
          },
          "metadata": {}
        }
      ]
    },
    {
      "metadata": {
        "trusted": true
      },
      "cell_type": "code",
      "source": "df_new1.stack() # automatically filters out null values",
      "execution_count": 21,
      "outputs": [
        {
          "output_type": "execute_result",
          "execution_count": 21,
          "data": {
            "text/plain": "Alpha  Q    0.0\n       X    1.0\n       Y    2.0\nBeta   X    4.0\n       Y    5.0\n       Z    6.0\ndtype: float64"
          },
          "metadata": {}
        }
      ]
    },
    {
      "metadata": {
        "trusted": true
      },
      "cell_type": "code",
      "source": "dframe = dframe.unstack()\ndframe",
      "execution_count": 24,
      "outputs": [
        {
          "output_type": "execute_result",
          "execution_count": 24,
          "data": {
            "text/html": "<div>\n<table border=\"1\" class=\"dataframe\">\n  <thead>\n    <tr style=\"text-align: right;\">\n      <th></th>\n      <th>Q</th>\n      <th>X</th>\n      <th>Y</th>\n      <th>Z</th>\n    </tr>\n  </thead>\n  <tbody>\n    <tr>\n      <th>Alpha</th>\n      <td>0.0</td>\n      <td>1.0</td>\n      <td>2.0</td>\n      <td>NaN</td>\n    </tr>\n    <tr>\n      <th>Beta</th>\n      <td>NaN</td>\n      <td>4.0</td>\n      <td>5.0</td>\n      <td>6.0</td>\n    </tr>\n  </tbody>\n</table>\n</div>",
            "text/plain": "         Q    X    Y    Z\nAlpha  0.0  1.0  2.0  NaN\nBeta   NaN  4.0  5.0  6.0"
          },
          "metadata": {}
        }
      ]
    },
    {
      "metadata": {
        "trusted": true
      },
      "cell_type": "code",
      "source": "dframe.stack() # doesn't keep null values",
      "execution_count": 25,
      "outputs": [
        {
          "output_type": "execute_result",
          "execution_count": 25,
          "data": {
            "text/plain": "Alpha  Q    0.0\n       X    1.0\n       Y    2.0\nBeta   X    4.0\n       Y    5.0\n       Z    6.0\ndtype: float64"
          },
          "metadata": {}
        }
      ]
    },
    {
      "metadata": {
        "trusted": true
      },
      "cell_type": "code",
      "source": "df_new1.stack(dropna = False) # retains null values",
      "execution_count": 22,
      "outputs": [
        {
          "output_type": "execute_result",
          "execution_count": 22,
          "data": {
            "text/plain": "Alpha  Q    0.0\n       X    1.0\n       Y    2.0\n       Z    NaN\nBeta   Q    NaN\n       X    4.0\n       Y    5.0\n       Z    6.0\ndtype: float64"
          },
          "metadata": {}
        }
      ]
    },
    {
      "metadata": {},
      "cell_type": "markdown",
      "source": "# Pivoting"
    },
    {
      "metadata": {
        "trusted": true
      },
      "cell_type": "code",
      "source": "dframe = pd.read_csv(\"data/dummydata2.csv\")",
      "execution_count": 26,
      "outputs": []
    },
    {
      "metadata": {
        "trusted": true
      },
      "cell_type": "code",
      "source": "dframe",
      "execution_count": 27,
      "outputs": [
        {
          "output_type": "execute_result",
          "execution_count": 27,
          "data": {
            "text/html": "<div>\n<table border=\"1\" class=\"dataframe\">\n  <thead>\n    <tr style=\"text-align: right;\">\n      <th></th>\n      <th>date</th>\n      <th>city</th>\n      <th>total_sales</th>\n    </tr>\n  </thead>\n  <tbody>\n    <tr>\n      <th>0</th>\n      <td>2018-04-03</td>\n      <td>London</td>\n      <td>31.2</td>\n    </tr>\n    <tr>\n      <th>1</th>\n      <td>2018-04-04</td>\n      <td>London</td>\n      <td>29.8</td>\n    </tr>\n    <tr>\n      <th>2</th>\n      <td>2018-04-05</td>\n      <td>London</td>\n      <td>30.3</td>\n    </tr>\n    <tr>\n      <th>3</th>\n      <td>2018-04-03</td>\n      <td>Tokyo</td>\n      <td>26.7</td>\n    </tr>\n    <tr>\n      <th>4</th>\n      <td>2018-04-04</td>\n      <td>Tokyo</td>\n      <td>28.4</td>\n    </tr>\n    <tr>\n      <th>5</th>\n      <td>2018-04-05</td>\n      <td>Tokyo</td>\n      <td>27.7</td>\n    </tr>\n    <tr>\n      <th>6</th>\n      <td>2018-04-03</td>\n      <td>Delhi</td>\n      <td>33.2</td>\n    </tr>\n    <tr>\n      <th>7</th>\n      <td>2018-04-04</td>\n      <td>Delhi</td>\n      <td>26.3</td>\n    </tr>\n    <tr>\n      <th>8</th>\n      <td>2018-04-05</td>\n      <td>Delhi</td>\n      <td>23.8</td>\n    </tr>\n    <tr>\n      <th>9</th>\n      <td>2018-04-03</td>\n      <td>Chicago</td>\n      <td>29.5</td>\n    </tr>\n    <tr>\n      <th>10</th>\n      <td>2018-04-04</td>\n      <td>Chicago</td>\n      <td>32.2</td>\n    </tr>\n    <tr>\n      <th>11</th>\n      <td>2018-04-05</td>\n      <td>Chicago</td>\n      <td>30.7</td>\n    </tr>\n  </tbody>\n</table>\n</div>",
            "text/plain": "          date     city  total_sales\n0   2018-04-03   London         31.2\n1   2018-04-04   London         29.8\n2   2018-04-05   London         30.3\n3   2018-04-03    Tokyo         26.7\n4   2018-04-04    Tokyo         28.4\n5   2018-04-05    Tokyo         27.7\n6   2018-04-03    Delhi         33.2\n7   2018-04-04    Delhi         26.3\n8   2018-04-05    Delhi         23.8\n9   2018-04-03  Chicago         29.5\n10  2018-04-04  Chicago         32.2\n11  2018-04-05  Chicago         30.7"
          },
          "metadata": {}
        }
      ]
    },
    {
      "metadata": {
        "trusted": true
      },
      "cell_type": "code",
      "source": "dframe_piv = dframe.pivot('date','city','total_sales') # row,column,value\ndframe_piv",
      "execution_count": 28,
      "outputs": [
        {
          "output_type": "execute_result",
          "execution_count": 28,
          "data": {
            "text/html": "<div>\n<table border=\"1\" class=\"dataframe\">\n  <thead>\n    <tr style=\"text-align: right;\">\n      <th>city</th>\n      <th>Chicago</th>\n      <th>Delhi</th>\n      <th>London</th>\n      <th>Tokyo</th>\n    </tr>\n    <tr>\n      <th>date</th>\n      <th></th>\n      <th></th>\n      <th></th>\n      <th></th>\n    </tr>\n  </thead>\n  <tbody>\n    <tr>\n      <th>2018-04-03</th>\n      <td>29.5</td>\n      <td>33.2</td>\n      <td>31.2</td>\n      <td>26.7</td>\n    </tr>\n    <tr>\n      <th>2018-04-04</th>\n      <td>32.2</td>\n      <td>26.3</td>\n      <td>29.8</td>\n      <td>28.4</td>\n    </tr>\n    <tr>\n      <th>2018-04-05</th>\n      <td>30.7</td>\n      <td>23.8</td>\n      <td>30.3</td>\n      <td>27.7</td>\n    </tr>\n  </tbody>\n</table>\n</div>",
            "text/plain": "city        Chicago  Delhi  London  Tokyo\ndate                                     \n2018-04-03     29.5   33.2    31.2   26.7\n2018-04-04     32.2   26.3    29.8   28.4\n2018-04-05     30.7   23.8    30.3   27.7"
          },
          "metadata": {}
        }
      ]
    },
    {
      "metadata": {
        "trusted": true
      },
      "cell_type": "code",
      "source": "dframe.pivot('city','date','total_sales') # R users - you can do this by typing xtabs(total_sales ~ city + date)",
      "execution_count": null,
      "outputs": []
    },
    {
      "metadata": {},
      "cell_type": "markdown",
      "source": "## End of part 7"
    }
  ],
  "metadata": {
    "kernelspec": {
      "name": "python3",
      "display_name": "Python 3",
      "language": "python"
    },
    "language_info": {
      "mimetype": "text/x-python",
      "nbconvert_exporter": "python",
      "name": "python",
      "file_extension": ".py",
      "version": "3.5.4",
      "pygments_lexer": "ipython3",
      "codemirror_mode": {
        "version": 3,
        "name": "ipython"
      }
    }
  },
  "nbformat": 4,
  "nbformat_minor": 1
}