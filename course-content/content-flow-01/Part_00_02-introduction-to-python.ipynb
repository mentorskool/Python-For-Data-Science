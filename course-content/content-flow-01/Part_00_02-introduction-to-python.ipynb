{
  "cells": [
    {
      "metadata": {
        "trusted": true
      },
      "cell_type": "code",
      "source": "# @hidden_cell\n#!pip install opencv2",
      "execution_count": null,
      "outputs": []
    },
    {
      "metadata": {},
      "cell_type": "markdown",
      "source": "# Welcome to the short course on Python for data science and analytics"
    },
    {
      "metadata": {
        "trusted": true
      },
      "cell_type": "code",
      "source": "import pandas as pd",
      "execution_count": null,
      "outputs": []
    },
    {
      "metadata": {},
      "cell_type": "markdown",
      "source": "Make **This** bold"
    },
    {
      "metadata": {},
      "cell_type": "markdown",
      "source": "# Jupyter notebooks\n![url](https://google.com)"
    },
    {
      "metadata": {},
      "cell_type": "markdown",
      "source": "## trying to write something"
    },
    {
      "metadata": {},
      "cell_type": "markdown",
      "source": "# This is a first level heading"
    },
    {
      "metadata": {},
      "cell_type": "markdown",
      "source": "## This is a second level heading"
    },
    {
      "metadata": {},
      "cell_type": "markdown",
      "source": "### This is a third level heading"
    },
    {
      "metadata": {},
      "cell_type": "markdown",
      "source": "*Italic* and **bold**"
    },
    {
      "metadata": {},
      "cell_type": "markdown",
      "source": "I can also use superscripts <sup>like this</sup> and subscripts <sub>like this</sub> as well as most HTML tags"
    },
    {
      "metadata": {},
      "cell_type": "markdown",
      "source": "<b><i>Shift-Enter:</i></b> Run cell and go to next cell - if you are in the last cell, insert a new cell below and go there\n<br><b><i>Ctrl-Enter:</i></b> Run cell in-place and remain in same cell\n<br><b><i>Alt-Enter:</i></b> Run cell, insert new blank cell below and go to new cell"
    },
    {
      "metadata": {},
      "cell_type": "markdown",
      "source": "**Checking, setting and viewing the contents of your working directory**"
    },
    {
      "metadata": {
        "trusted": true
      },
      "cell_type": "code",
      "source": "import os",
      "execution_count": 2,
      "outputs": []
    },
    {
      "metadata": {
        "trusted": true
      },
      "cell_type": "code",
      "source": "os.getcwd()",
      "execution_count": 3,
      "outputs": [
        {
          "output_type": "execute_result",
          "execution_count": 3,
          "data": {
            "text/plain": "'/home/nbuser/library'"
          },
          "metadata": {}
        }
      ]
    },
    {
      "metadata": {
        "trusted": true
      },
      "cell_type": "code",
      "source": "os.chdir('../library')\nos.listdir()",
      "execution_count": 3,
      "outputs": [
        {
          "output_type": "execute_result",
          "execution_count": 3,
          "data": {
            "text/plain": "['Data_handling_in_Python_groupby_aggregation_splitapplycombine.ipynb',\n 'Part_00_Introduction.ipynb',\n 'README.md',\n 'Part_09_Data_handling_in_Python_groupby_aggregation_splitapplycombine.ipynb',\n 'Part_07_Data_handling_in_Python_reshaping_pivoting.ipynb',\n 'Part_03_Data_handling_in_Python_Numpy_arrays_Pandas_series_dataframes.ipynb',\n 'Part_02_Data_handling_in_Python_lists_booleanoperators_tuples_dictionaries.ipynb',\n 'Part_06_Data_handling_in_Python_merging_concatenating.ipynb',\n 'Part_08_Data_handling_in_Python_duplicates_mapping_outliers.ipynb',\n 'data',\n '01-introduction-to-python.ipynb',\n 'Part_05_Data_handling_in_Python_sorting_dealingwithmissingdata.ipynb',\n 'Data_visualisation_in_Python_scatterplots_regressionplots_bubbleplots.ipynb',\n 'Part_01_Data_handling_in_Python_basic_operations_strings.ipynb',\n 'Part_04_Data_handling_in_Python_input_output.ipynb',\n 'Part_11_Data_visualisation_in_Python_boxplots_violin_plots.ipynb',\n '.ipynb_checkpoints',\n 'Anomaly Detection.ipynb',\n 'Part_10_Data_visualisation_in_Python_histograms_jointplots_KDEplots_barplots_subplots.ipynb']"
          },
          "metadata": {}
        }
      ]
    },
    {
      "metadata": {},
      "cell_type": "markdown",
      "source": "**Importing libraries**"
    },
    {
      "metadata": {},
      "cell_type": "markdown",
      "source": "Import a library and give it a shortcut"
    },
    {
      "metadata": {
        "trusted": true
      },
      "cell_type": "code",
      "source": "import numpy as np",
      "execution_count": null,
      "outputs": []
    },
    {
      "metadata": {},
      "cell_type": "markdown",
      "source": "Import a specific function"
    },
    {
      "metadata": {
        "trusted": true
      },
      "cell_type": "code",
      "source": "from numpy.random import randn",
      "execution_count": null,
      "outputs": []
    },
    {
      "metadata": {},
      "cell_type": "markdown",
      "source": "Import a specific module from a library"
    },
    {
      "metadata": {
        "trusted": true
      },
      "cell_type": "code",
      "source": "import matplotlib.pyplot as plt",
      "execution_count": null,
      "outputs": []
    }
  ],
  "metadata": {
    "kernelspec": {
      "name": "python3",
      "display_name": "Python 3",
      "language": "python"
    },
    "language_info": {
      "mimetype": "text/x-python",
      "nbconvert_exporter": "python",
      "name": "python",
      "pygments_lexer": "ipython3",
      "version": "3.5.4",
      "file_extension": ".py",
      "codemirror_mode": {
        "version": 3,
        "name": "ipython"
      }
    }
  },
  "nbformat": 4,
  "nbformat_minor": 2
}