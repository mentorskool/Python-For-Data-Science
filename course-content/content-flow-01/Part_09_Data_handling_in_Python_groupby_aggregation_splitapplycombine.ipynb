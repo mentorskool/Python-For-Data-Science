{
  "cells": [
    {
      "cell_type": "markdown",
      "metadata": {},
      "source": [
        "## What are we going to cover?\n",
        "* Concepts of \"Group By\"\n",
        "* Concepts of Aggregation\n",
        "* Application of the concepts in solving some real world scenarios\n",
        "* Variations of syntax across different scenarios"
      ]
    },
    {
      "cell_type": "code",
      "execution_count": 2,
      "metadata": {
        "trusted": true
      },
      "outputs": [],
      "source": [
        "import numpy as np\n",
        "import pandas as pd\n",
        "from pandas import Series,DataFrame"
      ]
    },
    {
      "cell_type": "code",
      "execution_count": 3,
      "metadata": {
        "trusted": true
      },
      "outputs": [
        {
          "data": {
            "text/html": [
              "<div>\n",
              "<style scoped>\n",
              "    .dataframe tbody tr th:only-of-type {\n",
              "        vertical-align: middle;\n",
              "    }\n",
              "\n",
              "    .dataframe tbody tr th {\n",
              "        vertical-align: top;\n",
              "    }\n",
              "\n",
              "    .dataframe thead th {\n",
              "        text-align: right;\n",
              "    }\n",
              "</style>\n",
              "<table border=\"1\" class=\"dataframe\">\n",
              "  <thead>\n",
              "    <tr style=\"text-align: right;\">\n",
              "      <th></th>\n",
              "      <th>k1</th>\n",
              "      <th>k2</th>\n",
              "      <th>data1</th>\n",
              "      <th>data2</th>\n",
              "    </tr>\n",
              "  </thead>\n",
              "  <tbody>\n",
              "    <tr>\n",
              "      <th>0</th>\n",
              "      <td>X</td>\n",
              "      <td>alpha</td>\n",
              "      <td>0</td>\n",
              "      <td>0</td>\n",
              "    </tr>\n",
              "    <tr>\n",
              "      <th>1</th>\n",
              "      <td>X</td>\n",
              "      <td>beta</td>\n",
              "      <td>1</td>\n",
              "      <td>1</td>\n",
              "    </tr>\n",
              "    <tr>\n",
              "      <th>2</th>\n",
              "      <td>Y</td>\n",
              "      <td>alpha</td>\n",
              "      <td>2</td>\n",
              "      <td>2</td>\n",
              "    </tr>\n",
              "    <tr>\n",
              "      <th>3</th>\n",
              "      <td>Y</td>\n",
              "      <td>beta</td>\n",
              "      <td>3</td>\n",
              "      <td>3</td>\n",
              "    </tr>\n",
              "    <tr>\n",
              "      <th>4</th>\n",
              "      <td>Z</td>\n",
              "      <td>alpha</td>\n",
              "      <td>4</td>\n",
              "      <td>4</td>\n",
              "    </tr>\n",
              "  </tbody>\n",
              "</table>\n",
              "</div>"
            ],
            "text/plain": [
              "  k1     k2  data1  data2\n",
              "0  X  alpha      0      0\n",
              "1  X   beta      1      1\n",
              "2  Y  alpha      2      2\n",
              "3  Y   beta      3      3\n",
              "4  Z  alpha      4      4"
            ]
          },
          "execution_count": 3,
          "metadata": {},
          "output_type": "execute_result"
        }
      ],
      "source": [
        "dframe = DataFrame({'k1':['X','X','Y','Y','Z'],\n",
        "                    'k2':['alpha','beta','alpha','beta','alpha'],\n",
        "                    'data1':np.arange(5),\n",
        "                    'data2':np.arange(5)})\n",
        "dframe"
      ]
    },
    {
      "cell_type": "markdown",
      "metadata": {
        "collapsed": true
      },
      "source": [
        "Group one column according to a key - in this case *k1*; the resulting object is a series\n",
        "\n",
        "Note: this syntax/method does not work for more than one key"
      ]
    },
    {
      "cell_type": "code",
      "execution_count": 4,
      "metadata": {
        "trusted": true
      },
      "outputs": [
        {
          "data": {
            "text/plain": [
              "pandas.core.groupby.generic.SeriesGroupBy"
            ]
          },
          "execution_count": 4,
          "metadata": {},
          "output_type": "execute_result"
        }
      ],
      "source": [
        "group1 = dframe['data1'].groupby(dframe['k1'])\n",
        "type(group1)"
      ]
    },
    {
      "cell_type": "code",
      "execution_count": 5,
      "metadata": {
        "trusted": true
      },
      "outputs": [
        {
          "data": {
            "text/plain": [
              "k1\n",
              "X    0.5\n",
              "Y    2.5\n",
              "Z    4.0\n",
              "Name: data1, dtype: float64"
            ]
          },
          "execution_count": 5,
          "metadata": {},
          "output_type": "execute_result"
        }
      ],
      "source": [
        "group1.mean()"
      ]
    },
    {
      "cell_type": "code",
      "execution_count": 6,
      "metadata": {
        "trusted": true
      },
      "outputs": [
        {
          "data": {
            "text/html": [
              "<div>\n",
              "<style scoped>\n",
              "    .dataframe tbody tr th:only-of-type {\n",
              "        vertical-align: middle;\n",
              "    }\n",
              "\n",
              "    .dataframe tbody tr th {\n",
              "        vertical-align: top;\n",
              "    }\n",
              "\n",
              "    .dataframe thead th {\n",
              "        text-align: right;\n",
              "    }\n",
              "</style>\n",
              "<table border=\"1\" class=\"dataframe\">\n",
              "  <thead>\n",
              "    <tr style=\"text-align: right;\">\n",
              "      <th></th>\n",
              "      <th>k1</th>\n",
              "      <th>k2</th>\n",
              "      <th>data1</th>\n",
              "      <th>data2</th>\n",
              "    </tr>\n",
              "  </thead>\n",
              "  <tbody>\n",
              "    <tr>\n",
              "      <th>0</th>\n",
              "      <td>X</td>\n",
              "      <td>alpha</td>\n",
              "      <td>0</td>\n",
              "      <td>0</td>\n",
              "    </tr>\n",
              "    <tr>\n",
              "      <th>1</th>\n",
              "      <td>X</td>\n",
              "      <td>beta</td>\n",
              "      <td>1</td>\n",
              "      <td>1</td>\n",
              "    </tr>\n",
              "    <tr>\n",
              "      <th>2</th>\n",
              "      <td>Y</td>\n",
              "      <td>alpha</td>\n",
              "      <td>2</td>\n",
              "      <td>2</td>\n",
              "    </tr>\n",
              "    <tr>\n",
              "      <th>3</th>\n",
              "      <td>Y</td>\n",
              "      <td>beta</td>\n",
              "      <td>3</td>\n",
              "      <td>3</td>\n",
              "    </tr>\n",
              "    <tr>\n",
              "      <th>4</th>\n",
              "      <td>Z</td>\n",
              "      <td>alpha</td>\n",
              "      <td>4</td>\n",
              "      <td>4</td>\n",
              "    </tr>\n",
              "  </tbody>\n",
              "</table>\n",
              "</div>"
            ],
            "text/plain": [
              "  k1     k2  data1  data2\n",
              "0  X  alpha      0      0\n",
              "1  X   beta      1      1\n",
              "2  Y  alpha      2      2\n",
              "3  Y   beta      3      3\n",
              "4  Z  alpha      4      4"
            ]
          },
          "execution_count": 6,
          "metadata": {},
          "output_type": "execute_result"
        }
      ],
      "source": [
        "dframe"
      ]
    },
    {
      "cell_type": "markdown",
      "metadata": {
        "collapsed": true
      },
      "source": [
        "Group all columns by *k1* - the resulting object is a data frame"
      ]
    },
    {
      "cell_type": "code",
      "execution_count": 7,
      "metadata": {
        "trusted": true
      },
      "outputs": [
        {
          "data": {
            "text/plain": [
              "<pandas.core.groupby.generic.DataFrameGroupBy object at 0x1194E0B0>"
            ]
          },
          "execution_count": 7,
          "metadata": {},
          "output_type": "execute_result"
        }
      ],
      "source": [
        "dframe.groupby('k1')"
      ]
    },
    {
      "cell_type": "code",
      "execution_count": 8,
      "metadata": {
        "trusted": true
      },
      "outputs": [
        {
          "data": {
            "text/html": [
              "<div>\n",
              "<style scoped>\n",
              "    .dataframe tbody tr th:only-of-type {\n",
              "        vertical-align: middle;\n",
              "    }\n",
              "\n",
              "    .dataframe tbody tr th {\n",
              "        vertical-align: top;\n",
              "    }\n",
              "\n",
              "    .dataframe thead th {\n",
              "        text-align: right;\n",
              "    }\n",
              "</style>\n",
              "<table border=\"1\" class=\"dataframe\">\n",
              "  <thead>\n",
              "    <tr style=\"text-align: right;\">\n",
              "      <th></th>\n",
              "      <th>data1</th>\n",
              "      <th>data2</th>\n",
              "    </tr>\n",
              "    <tr>\n",
              "      <th>k1</th>\n",
              "      <th></th>\n",
              "      <th></th>\n",
              "    </tr>\n",
              "  </thead>\n",
              "  <tbody>\n",
              "    <tr>\n",
              "      <th>X</th>\n",
              "      <td>0.5</td>\n",
              "      <td>0.5</td>\n",
              "    </tr>\n",
              "    <tr>\n",
              "      <th>Y</th>\n",
              "      <td>2.5</td>\n",
              "      <td>2.5</td>\n",
              "    </tr>\n",
              "    <tr>\n",
              "      <th>Z</th>\n",
              "      <td>4.0</td>\n",
              "      <td>4.0</td>\n",
              "    </tr>\n",
              "  </tbody>\n",
              "</table>\n",
              "</div>"
            ],
            "text/plain": [
              "    data1  data2\n",
              "k1              \n",
              "X     0.5    0.5\n",
              "Y     2.5    2.5\n",
              "Z     4.0    4.0"
            ]
          },
          "execution_count": 8,
          "metadata": {},
          "output_type": "execute_result"
        }
      ],
      "source": [
        "dframe.groupby('k1').mean() # groupwise mean"
      ]
    },
    {
      "cell_type": "code",
      "execution_count": 9,
      "metadata": {
        "trusted": true
      },
      "outputs": [
        {
          "data": {
            "text/plain": [
              "k1\n",
              "X    2\n",
              "Y    2\n",
              "Z    1\n",
              "dtype: int64"
            ]
          },
          "execution_count": 9,
          "metadata": {},
          "output_type": "execute_result"
        }
      ],
      "source": [
        "dframe.groupby(['k1']).size() # groupwise count"
      ]
    },
    {
      "cell_type": "code",
      "execution_count": 10,
      "metadata": {
        "trusted": true
      },
      "outputs": [
        {
          "data": {
            "text/html": [
              "<div>\n",
              "<style scoped>\n",
              "    .dataframe tbody tr th:only-of-type {\n",
              "        vertical-align: middle;\n",
              "    }\n",
              "\n",
              "    .dataframe tbody tr th {\n",
              "        vertical-align: top;\n",
              "    }\n",
              "\n",
              "    .dataframe thead th {\n",
              "        text-align: right;\n",
              "    }\n",
              "</style>\n",
              "<table border=\"1\" class=\"dataframe\">\n",
              "  <thead>\n",
              "    <tr style=\"text-align: right;\">\n",
              "      <th></th>\n",
              "      <th></th>\n",
              "      <th>data1</th>\n",
              "      <th>data2</th>\n",
              "    </tr>\n",
              "    <tr>\n",
              "      <th>k1</th>\n",
              "      <th>k2</th>\n",
              "      <th></th>\n",
              "      <th></th>\n",
              "    </tr>\n",
              "  </thead>\n",
              "  <tbody>\n",
              "    <tr>\n",
              "      <th rowspan=\"2\" valign=\"top\">X</th>\n",
              "      <th>alpha</th>\n",
              "      <td>0.0</td>\n",
              "      <td>0.0</td>\n",
              "    </tr>\n",
              "    <tr>\n",
              "      <th>beta</th>\n",
              "      <td>1.0</td>\n",
              "      <td>1.0</td>\n",
              "    </tr>\n",
              "    <tr>\n",
              "      <th rowspan=\"2\" valign=\"top\">Y</th>\n",
              "      <th>alpha</th>\n",
              "      <td>2.0</td>\n",
              "      <td>2.0</td>\n",
              "    </tr>\n",
              "    <tr>\n",
              "      <th>beta</th>\n",
              "      <td>3.0</td>\n",
              "      <td>3.0</td>\n",
              "    </tr>\n",
              "    <tr>\n",
              "      <th>Z</th>\n",
              "      <th>alpha</th>\n",
              "      <td>4.0</td>\n",
              "      <td>4.0</td>\n",
              "    </tr>\n",
              "  </tbody>\n",
              "</table>\n",
              "</div>"
            ],
            "text/plain": [
              "          data1  data2\n",
              "k1 k2                 \n",
              "X  alpha    0.0    0.0\n",
              "   beta     1.0    1.0\n",
              "Y  alpha    2.0    2.0\n",
              "   beta     3.0    3.0\n",
              "Z  alpha    4.0    4.0"
            ]
          },
          "execution_count": 10,
          "metadata": {},
          "output_type": "execute_result"
        }
      ],
      "source": [
        "dframe.groupby(['k1','k2']).mean() # group all columns by k1 and k2"
      ]
    },
    {
      "cell_type": "code",
      "execution_count": 11,
      "metadata": {
        "trusted": true
      },
      "outputs": [
        {
          "data": {
            "text/plain": [
              "k1  k2   \n",
              "X   alpha    1\n",
              "    beta     1\n",
              "Y   alpha    1\n",
              "    beta     1\n",
              "Z   alpha    1\n",
              "dtype: int64"
            ]
          },
          "execution_count": 11,
          "metadata": {},
          "output_type": "execute_result"
        }
      ],
      "source": [
        "dframe.groupby(['k1','k2']).size()"
      ]
    },
    {
      "cell_type": "code",
      "execution_count": 12,
      "metadata": {
        "trusted": true
      },
      "outputs": [
        {
          "data": {
            "text/plain": [
              "array(['NY', 'LA', 'LA', 'NY', 'NY'], dtype='<U2')"
            ]
          },
          "execution_count": 12,
          "metadata": {},
          "output_type": "execute_result"
        }
      ],
      "source": [
        "cities = np.array(['NY','LA','LA','NY','NY'])\n",
        "cities"
      ]
    },
    {
      "cell_type": "code",
      "execution_count": 13,
      "metadata": {
        "trusted": true
      },
      "outputs": [
        {
          "data": {
            "text/plain": [
              "array(['JAN', 'FEB', 'JAN', 'FEB', 'JAN'], dtype='<U3')"
            ]
          },
          "execution_count": 13,
          "metadata": {},
          "output_type": "execute_result"
        }
      ],
      "source": [
        "month = np.array(['JAN','FEB','JAN','FEB','JAN'])\n",
        "month"
      ]
    },
    {
      "cell_type": "code",
      "execution_count": 14,
      "metadata": {
        "trusted": true
      },
      "outputs": [
        {
          "data": {
            "text/plain": [
              "0    0\n",
              "1    1\n",
              "2    2\n",
              "3    3\n",
              "4    4\n",
              "Name: data1, dtype: int32"
            ]
          },
          "execution_count": 14,
          "metadata": {},
          "output_type": "execute_result"
        }
      ],
      "source": [
        "dframe['data1']"
      ]
    },
    {
      "cell_type": "code",
      "execution_count": 15,
      "metadata": {
        "trusted": true
      },
      "outputs": [
        {
          "data": {
            "text/plain": [
              "LA  FEB    1\n",
              "    JAN    1\n",
              "NY  FEB    1\n",
              "    JAN    2\n",
              "Name: data1, dtype: int64"
            ]
          },
          "execution_count": 15,
          "metadata": {},
          "output_type": "execute_result"
        }
      ],
      "source": [
        "g_ds1 = dframe['data1'].groupby([cities,month])\n",
        "g_ds1.size() # grouping by a variable in external series"
      ]
    },
    {
      "cell_type": "markdown",
      "metadata": {},
      "source": [
        "# Data aggregation"
      ]
    },
    {
      "cell_type": "code",
      "execution_count": 16,
      "metadata": {
        "trusted": true
      },
      "outputs": [],
      "source": [
        "import numpy as np\n",
        "import pandas as pd\n",
        "from pandas import Series, DataFrame"
      ]
    },
    {
      "cell_type": "code",
      "execution_count": 17,
      "metadata": {
        "trusted": true
      },
      "outputs": [],
      "source": [
        "dframe_wine = pd.read_csv(\"data/redwines.csv\") # read some data"
      ]
    },
    {
      "cell_type": "code",
      "execution_count": 18,
      "metadata": {
        "trusted": true
      },
      "outputs": [
        {
          "data": {
            "text/html": [
              "<div>\n",
              "<style scoped>\n",
              "    .dataframe tbody tr th:only-of-type {\n",
              "        vertical-align: middle;\n",
              "    }\n",
              "\n",
              "    .dataframe tbody tr th {\n",
              "        vertical-align: top;\n",
              "    }\n",
              "\n",
              "    .dataframe thead th {\n",
              "        text-align: right;\n",
              "    }\n",
              "</style>\n",
              "<table border=\"1\" class=\"dataframe\">\n",
              "  <thead>\n",
              "    <tr style=\"text-align: right;\">\n",
              "      <th></th>\n",
              "      <th>fixed_acidity</th>\n",
              "      <th>volatile_acidity</th>\n",
              "      <th>citric_acid</th>\n",
              "      <th>residual_sugar</th>\n",
              "      <th>chlorides</th>\n",
              "      <th>free_so2</th>\n",
              "      <th>total_so2</th>\n",
              "      <th>density</th>\n",
              "      <th>pH</th>\n",
              "      <th>sulphates</th>\n",
              "      <th>alcohol</th>\n",
              "      <th>quality</th>\n",
              "    </tr>\n",
              "  </thead>\n",
              "  <tbody>\n",
              "    <tr>\n",
              "      <th>0</th>\n",
              "      <td>6.5</td>\n",
              "      <td>0.900</td>\n",
              "      <td>0.00</td>\n",
              "      <td>1.6</td>\n",
              "      <td>0.052</td>\n",
              "      <td>9.0</td>\n",
              "      <td>17.0</td>\n",
              "      <td>0.99467</td>\n",
              "      <td>3.50</td>\n",
              "      <td>0.63</td>\n",
              "      <td>10.9</td>\n",
              "      <td>6</td>\n",
              "    </tr>\n",
              "    <tr>\n",
              "      <th>1</th>\n",
              "      <td>9.1</td>\n",
              "      <td>0.220</td>\n",
              "      <td>0.24</td>\n",
              "      <td>2.1</td>\n",
              "      <td>0.078</td>\n",
              "      <td>1.0</td>\n",
              "      <td>28.0</td>\n",
              "      <td>0.99900</td>\n",
              "      <td>3.41</td>\n",
              "      <td>0.87</td>\n",
              "      <td>10.3</td>\n",
              "      <td>6</td>\n",
              "    </tr>\n",
              "    <tr>\n",
              "      <th>2</th>\n",
              "      <td>6.9</td>\n",
              "      <td>0.520</td>\n",
              "      <td>0.25</td>\n",
              "      <td>2.6</td>\n",
              "      <td>0.081</td>\n",
              "      <td>10.0</td>\n",
              "      <td>37.0</td>\n",
              "      <td>0.99685</td>\n",
              "      <td>3.46</td>\n",
              "      <td>0.50</td>\n",
              "      <td>11.0</td>\n",
              "      <td>5</td>\n",
              "    </tr>\n",
              "    <tr>\n",
              "      <th>3</th>\n",
              "      <td>7.3</td>\n",
              "      <td>0.590</td>\n",
              "      <td>0.26</td>\n",
              "      <td>2.0</td>\n",
              "      <td>0.080</td>\n",
              "      <td>17.0</td>\n",
              "      <td>104.0</td>\n",
              "      <td>0.99584</td>\n",
              "      <td>3.28</td>\n",
              "      <td>0.52</td>\n",
              "      <td>9.9</td>\n",
              "      <td>5</td>\n",
              "    </tr>\n",
              "    <tr>\n",
              "      <th>4</th>\n",
              "      <td>12.5</td>\n",
              "      <td>0.280</td>\n",
              "      <td>0.54</td>\n",
              "      <td>2.3</td>\n",
              "      <td>0.082</td>\n",
              "      <td>12.0</td>\n",
              "      <td>29.0</td>\n",
              "      <td>0.99970</td>\n",
              "      <td>3.11</td>\n",
              "      <td>1.36</td>\n",
              "      <td>9.8</td>\n",
              "      <td>7</td>\n",
              "    </tr>\n",
              "    <tr>\n",
              "      <th>...</th>\n",
              "      <td>...</td>\n",
              "      <td>...</td>\n",
              "      <td>...</td>\n",
              "      <td>...</td>\n",
              "      <td>...</td>\n",
              "      <td>...</td>\n",
              "      <td>...</td>\n",
              "      <td>...</td>\n",
              "      <td>...</td>\n",
              "      <td>...</td>\n",
              "      <td>...</td>\n",
              "      <td>...</td>\n",
              "    </tr>\n",
              "    <tr>\n",
              "      <th>1594</th>\n",
              "      <td>6.5</td>\n",
              "      <td>0.400</td>\n",
              "      <td>0.10</td>\n",
              "      <td>2.0</td>\n",
              "      <td>0.076</td>\n",
              "      <td>30.0</td>\n",
              "      <td>47.0</td>\n",
              "      <td>0.99554</td>\n",
              "      <td>3.36</td>\n",
              "      <td>0.48</td>\n",
              "      <td>9.4</td>\n",
              "      <td>6</td>\n",
              "    </tr>\n",
              "    <tr>\n",
              "      <th>1595</th>\n",
              "      <td>11.6</td>\n",
              "      <td>0.410</td>\n",
              "      <td>0.54</td>\n",
              "      <td>1.5</td>\n",
              "      <td>0.095</td>\n",
              "      <td>22.0</td>\n",
              "      <td>41.0</td>\n",
              "      <td>0.99735</td>\n",
              "      <td>3.02</td>\n",
              "      <td>0.76</td>\n",
              "      <td>9.9</td>\n",
              "      <td>7</td>\n",
              "    </tr>\n",
              "    <tr>\n",
              "      <th>1596</th>\n",
              "      <td>10.2</td>\n",
              "      <td>0.340</td>\n",
              "      <td>0.48</td>\n",
              "      <td>2.1</td>\n",
              "      <td>0.052</td>\n",
              "      <td>5.0</td>\n",
              "      <td>9.0</td>\n",
              "      <td>0.99458</td>\n",
              "      <td>3.20</td>\n",
              "      <td>0.69</td>\n",
              "      <td>12.1</td>\n",
              "      <td>7</td>\n",
              "    </tr>\n",
              "    <tr>\n",
              "      <th>1597</th>\n",
              "      <td>6.6</td>\n",
              "      <td>0.440</td>\n",
              "      <td>0.15</td>\n",
              "      <td>2.1</td>\n",
              "      <td>0.076</td>\n",
              "      <td>22.0</td>\n",
              "      <td>53.0</td>\n",
              "      <td>0.99570</td>\n",
              "      <td>3.32</td>\n",
              "      <td>0.62</td>\n",
              "      <td>9.3</td>\n",
              "      <td>5</td>\n",
              "    </tr>\n",
              "    <tr>\n",
              "      <th>1598</th>\n",
              "      <td>8.2</td>\n",
              "      <td>0.915</td>\n",
              "      <td>0.27</td>\n",
              "      <td>2.1</td>\n",
              "      <td>0.088</td>\n",
              "      <td>7.0</td>\n",
              "      <td>23.0</td>\n",
              "      <td>0.99620</td>\n",
              "      <td>3.26</td>\n",
              "      <td>0.47</td>\n",
              "      <td>10.0</td>\n",
              "      <td>4</td>\n",
              "    </tr>\n",
              "  </tbody>\n",
              "</table>\n",
              "<p>1599 rows × 12 columns</p>\n",
              "</div>"
            ],
            "text/plain": [
              "      fixed_acidity  volatile_acidity  citric_acid  residual_sugar  chlorides  \\\n",
              "0               6.5             0.900         0.00             1.6      0.052   \n",
              "1               9.1             0.220         0.24             2.1      0.078   \n",
              "2               6.9             0.520         0.25             2.6      0.081   \n",
              "3               7.3             0.590         0.26             2.0      0.080   \n",
              "4              12.5             0.280         0.54             2.3      0.082   \n",
              "...             ...               ...          ...             ...        ...   \n",
              "1594            6.5             0.400         0.10             2.0      0.076   \n",
              "1595           11.6             0.410         0.54             1.5      0.095   \n",
              "1596           10.2             0.340         0.48             2.1      0.052   \n",
              "1597            6.6             0.440         0.15             2.1      0.076   \n",
              "1598            8.2             0.915         0.27             2.1      0.088   \n",
              "\n",
              "      free_so2  total_so2  density    pH  sulphates  alcohol  quality  \n",
              "0          9.0       17.0  0.99467  3.50       0.63     10.9        6  \n",
              "1          1.0       28.0  0.99900  3.41       0.87     10.3        6  \n",
              "2         10.0       37.0  0.99685  3.46       0.50     11.0        5  \n",
              "3         17.0      104.0  0.99584  3.28       0.52      9.9        5  \n",
              "4         12.0       29.0  0.99970  3.11       1.36      9.8        7  \n",
              "...        ...        ...      ...   ...        ...      ...      ...  \n",
              "1594      30.0       47.0  0.99554  3.36       0.48      9.4        6  \n",
              "1595      22.0       41.0  0.99735  3.02       0.76      9.9        7  \n",
              "1596       5.0        9.0  0.99458  3.20       0.69     12.1        7  \n",
              "1597      22.0       53.0  0.99570  3.32       0.62      9.3        5  \n",
              "1598       7.0       23.0  0.99620  3.26       0.47     10.0        4  \n",
              "\n",
              "[1599 rows x 12 columns]"
            ]
          },
          "execution_count": 18,
          "metadata": {},
          "output_type": "execute_result"
        }
      ],
      "source": [
        "dframe_wine"
      ]
    },
    {
      "cell_type": "code",
      "execution_count": 19,
      "metadata": {
        "trusted": true
      },
      "outputs": [
        {
          "data": {
            "text/plain": [
              "pandas.core.frame.DataFrame"
            ]
          },
          "execution_count": 19,
          "metadata": {},
          "output_type": "execute_result"
        }
      ],
      "source": [
        "type(dframe_wine)"
      ]
    },
    {
      "cell_type": "code",
      "execution_count": 20,
      "metadata": {
        "trusted": true
      },
      "outputs": [
        {
          "data": {
            "text/html": [
              "<div>\n",
              "<style scoped>\n",
              "    .dataframe tbody tr th:only-of-type {\n",
              "        vertical-align: middle;\n",
              "    }\n",
              "\n",
              "    .dataframe tbody tr th {\n",
              "        vertical-align: top;\n",
              "    }\n",
              "\n",
              "    .dataframe thead th {\n",
              "        text-align: right;\n",
              "    }\n",
              "</style>\n",
              "<table border=\"1\" class=\"dataframe\">\n",
              "  <thead>\n",
              "    <tr style=\"text-align: right;\">\n",
              "      <th></th>\n",
              "      <th>fixed_acidity</th>\n",
              "      <th>volatile_acidity</th>\n",
              "      <th>citric_acid</th>\n",
              "      <th>residual_sugar</th>\n",
              "      <th>chlorides</th>\n",
              "      <th>free_so2</th>\n",
              "      <th>total_so2</th>\n",
              "      <th>density</th>\n",
              "      <th>pH</th>\n",
              "      <th>sulphates</th>\n",
              "      <th>alcohol</th>\n",
              "      <th>quality</th>\n",
              "    </tr>\n",
              "  </thead>\n",
              "  <tbody>\n",
              "    <tr>\n",
              "      <th>0</th>\n",
              "      <td>6.5</td>\n",
              "      <td>0.90</td>\n",
              "      <td>0.00</td>\n",
              "      <td>1.6</td>\n",
              "      <td>0.052</td>\n",
              "      <td>9.0</td>\n",
              "      <td>17.0</td>\n",
              "      <td>0.99467</td>\n",
              "      <td>3.50</td>\n",
              "      <td>0.63</td>\n",
              "      <td>10.9</td>\n",
              "      <td>6</td>\n",
              "    </tr>\n",
              "    <tr>\n",
              "      <th>1</th>\n",
              "      <td>9.1</td>\n",
              "      <td>0.22</td>\n",
              "      <td>0.24</td>\n",
              "      <td>2.1</td>\n",
              "      <td>0.078</td>\n",
              "      <td>1.0</td>\n",
              "      <td>28.0</td>\n",
              "      <td>0.99900</td>\n",
              "      <td>3.41</td>\n",
              "      <td>0.87</td>\n",
              "      <td>10.3</td>\n",
              "      <td>6</td>\n",
              "    </tr>\n",
              "    <tr>\n",
              "      <th>2</th>\n",
              "      <td>6.9</td>\n",
              "      <td>0.52</td>\n",
              "      <td>0.25</td>\n",
              "      <td>2.6</td>\n",
              "      <td>0.081</td>\n",
              "      <td>10.0</td>\n",
              "      <td>37.0</td>\n",
              "      <td>0.99685</td>\n",
              "      <td>3.46</td>\n",
              "      <td>0.50</td>\n",
              "      <td>11.0</td>\n",
              "      <td>5</td>\n",
              "    </tr>\n",
              "    <tr>\n",
              "      <th>3</th>\n",
              "      <td>7.3</td>\n",
              "      <td>0.59</td>\n",
              "      <td>0.26</td>\n",
              "      <td>2.0</td>\n",
              "      <td>0.080</td>\n",
              "      <td>17.0</td>\n",
              "      <td>104.0</td>\n",
              "      <td>0.99584</td>\n",
              "      <td>3.28</td>\n",
              "      <td>0.52</td>\n",
              "      <td>9.9</td>\n",
              "      <td>5</td>\n",
              "    </tr>\n",
              "    <tr>\n",
              "      <th>4</th>\n",
              "      <td>12.5</td>\n",
              "      <td>0.28</td>\n",
              "      <td>0.54</td>\n",
              "      <td>2.3</td>\n",
              "      <td>0.082</td>\n",
              "      <td>12.0</td>\n",
              "      <td>29.0</td>\n",
              "      <td>0.99970</td>\n",
              "      <td>3.11</td>\n",
              "      <td>1.36</td>\n",
              "      <td>9.8</td>\n",
              "      <td>7</td>\n",
              "    </tr>\n",
              "    <tr>\n",
              "      <th>5</th>\n",
              "      <td>5.4</td>\n",
              "      <td>0.74</td>\n",
              "      <td>0.09</td>\n",
              "      <td>1.7</td>\n",
              "      <td>0.089</td>\n",
              "      <td>16.0</td>\n",
              "      <td>26.0</td>\n",
              "      <td>0.99402</td>\n",
              "      <td>3.67</td>\n",
              "      <td>0.56</td>\n",
              "      <td>11.6</td>\n",
              "      <td>6</td>\n",
              "    </tr>\n",
              "    <tr>\n",
              "      <th>6</th>\n",
              "      <td>10.4</td>\n",
              "      <td>0.28</td>\n",
              "      <td>0.54</td>\n",
              "      <td>2.7</td>\n",
              "      <td>0.105</td>\n",
              "      <td>5.0</td>\n",
              "      <td>19.0</td>\n",
              "      <td>0.99880</td>\n",
              "      <td>3.25</td>\n",
              "      <td>0.63</td>\n",
              "      <td>9.5</td>\n",
              "      <td>5</td>\n",
              "    </tr>\n",
              "    <tr>\n",
              "      <th>7</th>\n",
              "      <td>7.9</td>\n",
              "      <td>0.40</td>\n",
              "      <td>0.30</td>\n",
              "      <td>1.8</td>\n",
              "      <td>0.157</td>\n",
              "      <td>2.0</td>\n",
              "      <td>45.0</td>\n",
              "      <td>0.99727</td>\n",
              "      <td>3.31</td>\n",
              "      <td>0.91</td>\n",
              "      <td>9.5</td>\n",
              "      <td>6</td>\n",
              "    </tr>\n",
              "    <tr>\n",
              "      <th>8</th>\n",
              "      <td>7.3</td>\n",
              "      <td>0.39</td>\n",
              "      <td>0.31</td>\n",
              "      <td>2.4</td>\n",
              "      <td>0.074</td>\n",
              "      <td>9.0</td>\n",
              "      <td>46.0</td>\n",
              "      <td>0.99620</td>\n",
              "      <td>3.41</td>\n",
              "      <td>0.54</td>\n",
              "      <td>9.4</td>\n",
              "      <td>6</td>\n",
              "    </tr>\n",
              "    <tr>\n",
              "      <th>9</th>\n",
              "      <td>9.5</td>\n",
              "      <td>0.37</td>\n",
              "      <td>0.52</td>\n",
              "      <td>2.0</td>\n",
              "      <td>0.088</td>\n",
              "      <td>12.0</td>\n",
              "      <td>51.0</td>\n",
              "      <td>0.99613</td>\n",
              "      <td>3.29</td>\n",
              "      <td>0.58</td>\n",
              "      <td>11.1</td>\n",
              "      <td>6</td>\n",
              "    </tr>\n",
              "    <tr>\n",
              "      <th>10</th>\n",
              "      <td>6.8</td>\n",
              "      <td>0.69</td>\n",
              "      <td>0.00</td>\n",
              "      <td>5.6</td>\n",
              "      <td>0.124</td>\n",
              "      <td>21.0</td>\n",
              "      <td>58.0</td>\n",
              "      <td>0.99970</td>\n",
              "      <td>3.46</td>\n",
              "      <td>0.72</td>\n",
              "      <td>10.2</td>\n",
              "      <td>5</td>\n",
              "    </tr>\n",
              "    <tr>\n",
              "      <th>11</th>\n",
              "      <td>8.2</td>\n",
              "      <td>0.28</td>\n",
              "      <td>0.60</td>\n",
              "      <td>3.0</td>\n",
              "      <td>0.104</td>\n",
              "      <td>10.0</td>\n",
              "      <td>22.0</td>\n",
              "      <td>0.99828</td>\n",
              "      <td>3.39</td>\n",
              "      <td>0.68</td>\n",
              "      <td>10.6</td>\n",
              "      <td>5</td>\n",
              "    </tr>\n",
              "  </tbody>\n",
              "</table>\n",
              "</div>"
            ],
            "text/plain": [
              "    fixed_acidity  volatile_acidity  citric_acid  residual_sugar  chlorides  \\\n",
              "0             6.5              0.90         0.00             1.6      0.052   \n",
              "1             9.1              0.22         0.24             2.1      0.078   \n",
              "2             6.9              0.52         0.25             2.6      0.081   \n",
              "3             7.3              0.59         0.26             2.0      0.080   \n",
              "4            12.5              0.28         0.54             2.3      0.082   \n",
              "5             5.4              0.74         0.09             1.7      0.089   \n",
              "6            10.4              0.28         0.54             2.7      0.105   \n",
              "7             7.9              0.40         0.30             1.8      0.157   \n",
              "8             7.3              0.39         0.31             2.4      0.074   \n",
              "9             9.5              0.37         0.52             2.0      0.088   \n",
              "10            6.8              0.69         0.00             5.6      0.124   \n",
              "11            8.2              0.28         0.60             3.0      0.104   \n",
              "\n",
              "    free_so2  total_so2  density    pH  sulphates  alcohol  quality  \n",
              "0        9.0       17.0  0.99467  3.50       0.63     10.9        6  \n",
              "1        1.0       28.0  0.99900  3.41       0.87     10.3        6  \n",
              "2       10.0       37.0  0.99685  3.46       0.50     11.0        5  \n",
              "3       17.0      104.0  0.99584  3.28       0.52      9.9        5  \n",
              "4       12.0       29.0  0.99970  3.11       1.36      9.8        7  \n",
              "5       16.0       26.0  0.99402  3.67       0.56     11.6        6  \n",
              "6        5.0       19.0  0.99880  3.25       0.63      9.5        5  \n",
              "7        2.0       45.0  0.99727  3.31       0.91      9.5        6  \n",
              "8        9.0       46.0  0.99620  3.41       0.54      9.4        6  \n",
              "9       12.0       51.0  0.99613  3.29       0.58     11.1        6  \n",
              "10      21.0       58.0  0.99970  3.46       0.72     10.2        5  \n",
              "11      10.0       22.0  0.99828  3.39       0.68     10.6        5  "
            ]
          },
          "execution_count": 20,
          "metadata": {},
          "output_type": "execute_result"
        }
      ],
      "source": [
        "dframe_wine.head(12)"
      ]
    },
    {
      "cell_type": "code",
      "execution_count": 21,
      "metadata": {
        "trusted": true
      },
      "outputs": [
        {
          "data": {
            "text/plain": [
              "(1599, 12)"
            ]
          },
          "execution_count": 21,
          "metadata": {},
          "output_type": "execute_result"
        }
      ],
      "source": [
        "dframe_wine.shape"
      ]
    },
    {
      "cell_type": "code",
      "execution_count": 22,
      "metadata": {
        "trusted": true
      },
      "outputs": [
        {
          "data": {
            "text/plain": [
              "Index(['fixed_acidity', 'volatile_acidity', 'citric_acid', 'residual_sugar',\n",
              "       'chlorides', 'free_so2', 'total_so2', 'density', 'pH', 'sulphates',\n",
              "       'alcohol', 'quality'],\n",
              "      dtype='object')"
            ]
          },
          "execution_count": 22,
          "metadata": {},
          "output_type": "execute_result"
        }
      ],
      "source": [
        "dframe_wine.columns"
      ]
    },
    {
      "cell_type": "code",
      "execution_count": 23,
      "metadata": {
        "trusted": true
      },
      "outputs": [
        {
          "data": {
            "text/html": [
              "<div>\n",
              "<style scoped>\n",
              "    .dataframe tbody tr th:only-of-type {\n",
              "        vertical-align: middle;\n",
              "    }\n",
              "\n",
              "    .dataframe tbody tr th {\n",
              "        vertical-align: top;\n",
              "    }\n",
              "\n",
              "    .dataframe thead th {\n",
              "        text-align: right;\n",
              "    }\n",
              "</style>\n",
              "<table border=\"1\" class=\"dataframe\">\n",
              "  <thead>\n",
              "    <tr style=\"text-align: right;\">\n",
              "      <th></th>\n",
              "      <th>fixed_acidity</th>\n",
              "      <th>volatile_acidity</th>\n",
              "      <th>citric_acid</th>\n",
              "      <th>residual_sugar</th>\n",
              "      <th>chlorides</th>\n",
              "      <th>free_so2</th>\n",
              "      <th>total_so2</th>\n",
              "      <th>density</th>\n",
              "      <th>pH</th>\n",
              "      <th>sulphates</th>\n",
              "      <th>alcohol</th>\n",
              "      <th>quality</th>\n",
              "    </tr>\n",
              "  </thead>\n",
              "  <tbody>\n",
              "    <tr>\n",
              "      <th>count</th>\n",
              "      <td>1599.000000</td>\n",
              "      <td>1599.000000</td>\n",
              "      <td>1599.000000</td>\n",
              "      <td>1599.000000</td>\n",
              "      <td>1599.000000</td>\n",
              "      <td>1599.000000</td>\n",
              "      <td>1599.000000</td>\n",
              "      <td>1599.000000</td>\n",
              "      <td>1599.000000</td>\n",
              "      <td>1599.000000</td>\n",
              "      <td>1599.000000</td>\n",
              "      <td>1599.000000</td>\n",
              "    </tr>\n",
              "    <tr>\n",
              "      <th>mean</th>\n",
              "      <td>8.319637</td>\n",
              "      <td>0.527821</td>\n",
              "      <td>0.270976</td>\n",
              "      <td>2.538806</td>\n",
              "      <td>0.087467</td>\n",
              "      <td>15.874922</td>\n",
              "      <td>46.467792</td>\n",
              "      <td>0.996747</td>\n",
              "      <td>3.311113</td>\n",
              "      <td>0.658149</td>\n",
              "      <td>10.422983</td>\n",
              "      <td>5.636023</td>\n",
              "    </tr>\n",
              "    <tr>\n",
              "      <th>std</th>\n",
              "      <td>1.741096</td>\n",
              "      <td>0.179060</td>\n",
              "      <td>0.194801</td>\n",
              "      <td>1.409928</td>\n",
              "      <td>0.047065</td>\n",
              "      <td>10.460157</td>\n",
              "      <td>32.895324</td>\n",
              "      <td>0.001887</td>\n",
              "      <td>0.154386</td>\n",
              "      <td>0.169507</td>\n",
              "      <td>1.065668</td>\n",
              "      <td>0.807569</td>\n",
              "    </tr>\n",
              "    <tr>\n",
              "      <th>min</th>\n",
              "      <td>4.600000</td>\n",
              "      <td>0.120000</td>\n",
              "      <td>0.000000</td>\n",
              "      <td>0.900000</td>\n",
              "      <td>0.012000</td>\n",
              "      <td>1.000000</td>\n",
              "      <td>6.000000</td>\n",
              "      <td>0.990070</td>\n",
              "      <td>2.740000</td>\n",
              "      <td>0.330000</td>\n",
              "      <td>8.400000</td>\n",
              "      <td>3.000000</td>\n",
              "    </tr>\n",
              "    <tr>\n",
              "      <th>25%</th>\n",
              "      <td>7.100000</td>\n",
              "      <td>0.390000</td>\n",
              "      <td>0.090000</td>\n",
              "      <td>1.900000</td>\n",
              "      <td>0.070000</td>\n",
              "      <td>7.000000</td>\n",
              "      <td>22.000000</td>\n",
              "      <td>0.995600</td>\n",
              "      <td>3.210000</td>\n",
              "      <td>0.550000</td>\n",
              "      <td>9.500000</td>\n",
              "      <td>5.000000</td>\n",
              "    </tr>\n",
              "    <tr>\n",
              "      <th>50%</th>\n",
              "      <td>7.900000</td>\n",
              "      <td>0.520000</td>\n",
              "      <td>0.260000</td>\n",
              "      <td>2.200000</td>\n",
              "      <td>0.079000</td>\n",
              "      <td>14.000000</td>\n",
              "      <td>38.000000</td>\n",
              "      <td>0.996750</td>\n",
              "      <td>3.310000</td>\n",
              "      <td>0.620000</td>\n",
              "      <td>10.200000</td>\n",
              "      <td>6.000000</td>\n",
              "    </tr>\n",
              "    <tr>\n",
              "      <th>75%</th>\n",
              "      <td>9.200000</td>\n",
              "      <td>0.640000</td>\n",
              "      <td>0.420000</td>\n",
              "      <td>2.600000</td>\n",
              "      <td>0.090000</td>\n",
              "      <td>21.000000</td>\n",
              "      <td>62.000000</td>\n",
              "      <td>0.997835</td>\n",
              "      <td>3.400000</td>\n",
              "      <td>0.730000</td>\n",
              "      <td>11.100000</td>\n",
              "      <td>6.000000</td>\n",
              "    </tr>\n",
              "    <tr>\n",
              "      <th>max</th>\n",
              "      <td>15.900000</td>\n",
              "      <td>1.580000</td>\n",
              "      <td>1.000000</td>\n",
              "      <td>15.500000</td>\n",
              "      <td>0.611000</td>\n",
              "      <td>72.000000</td>\n",
              "      <td>289.000000</td>\n",
              "      <td>1.003690</td>\n",
              "      <td>4.010000</td>\n",
              "      <td>2.000000</td>\n",
              "      <td>14.900000</td>\n",
              "      <td>8.000000</td>\n",
              "    </tr>\n",
              "  </tbody>\n",
              "</table>\n",
              "</div>"
            ],
            "text/plain": [
              "       fixed_acidity  volatile_acidity  citric_acid  residual_sugar  \\\n",
              "count    1599.000000       1599.000000  1599.000000     1599.000000   \n",
              "mean        8.319637          0.527821     0.270976        2.538806   \n",
              "std         1.741096          0.179060     0.194801        1.409928   \n",
              "min         4.600000          0.120000     0.000000        0.900000   \n",
              "25%         7.100000          0.390000     0.090000        1.900000   \n",
              "50%         7.900000          0.520000     0.260000        2.200000   \n",
              "75%         9.200000          0.640000     0.420000        2.600000   \n",
              "max        15.900000          1.580000     1.000000       15.500000   \n",
              "\n",
              "         chlorides     free_so2    total_so2      density           pH  \\\n",
              "count  1599.000000  1599.000000  1599.000000  1599.000000  1599.000000   \n",
              "mean      0.087467    15.874922    46.467792     0.996747     3.311113   \n",
              "std       0.047065    10.460157    32.895324     0.001887     0.154386   \n",
              "min       0.012000     1.000000     6.000000     0.990070     2.740000   \n",
              "25%       0.070000     7.000000    22.000000     0.995600     3.210000   \n",
              "50%       0.079000    14.000000    38.000000     0.996750     3.310000   \n",
              "75%       0.090000    21.000000    62.000000     0.997835     3.400000   \n",
              "max       0.611000    72.000000   289.000000     1.003690     4.010000   \n",
              "\n",
              "         sulphates      alcohol      quality  \n",
              "count  1599.000000  1599.000000  1599.000000  \n",
              "mean      0.658149    10.422983     5.636023  \n",
              "std       0.169507     1.065668     0.807569  \n",
              "min       0.330000     8.400000     3.000000  \n",
              "25%       0.550000     9.500000     5.000000  \n",
              "50%       0.620000    10.200000     6.000000  \n",
              "75%       0.730000    11.100000     6.000000  \n",
              "max       2.000000    14.900000     8.000000  "
            ]
          },
          "execution_count": 23,
          "metadata": {},
          "output_type": "execute_result"
        }
      ],
      "source": [
        "dframe_wine.describe()"
      ]
    },
    {
      "cell_type": "code",
      "execution_count": 24,
      "metadata": {
        "trusted": true
      },
      "outputs": [
        {
          "name": "stdout",
          "output_type": "stream",
          "text": [
            "<class 'pandas.core.frame.DataFrame'>\n",
            "RangeIndex: 1599 entries, 0 to 1598\n",
            "Data columns (total 12 columns):\n",
            " #   Column            Non-Null Count  Dtype  \n",
            "---  ------            --------------  -----  \n",
            " 0   fixed_acidity     1599 non-null   float64\n",
            " 1   volatile_acidity  1599 non-null   float64\n",
            " 2   citric_acid       1599 non-null   float64\n",
            " 3   residual_sugar    1599 non-null   float64\n",
            " 4   chlorides         1599 non-null   float64\n",
            " 5   free_so2          1599 non-null   float64\n",
            " 6   total_so2         1599 non-null   float64\n",
            " 7   density           1599 non-null   float64\n",
            " 8   pH                1599 non-null   float64\n",
            " 9   sulphates         1599 non-null   float64\n",
            " 10  alcohol           1599 non-null   float64\n",
            " 11  quality           1599 non-null   int64  \n",
            "dtypes: float64(11), int64(1)\n",
            "memory usage: 150.0 KB\n"
          ]
        }
      ],
      "source": [
        "dframe_wine.info()"
      ]
    },
    {
      "cell_type": "code",
      "execution_count": 25,
      "metadata": {
        "trusted": true
      },
      "outputs": [
        {
          "data": {
            "text/plain": [
              "10.422983114446529"
            ]
          },
          "execution_count": 25,
          "metadata": {},
          "output_type": "execute_result"
        }
      ],
      "source": [
        "dframe_wine['alcohol'].mean() # aggregating using a built-in function - in this case, mean"
      ]
    },
    {
      "cell_type": "code",
      "execution_count": 26,
      "metadata": {
        "trusted": true
      },
      "outputs": [
        {
          "data": {
            "text/plain": [
              "10.422983114446529"
            ]
          },
          "execution_count": 26,
          "metadata": {},
          "output_type": "execute_result"
        }
      ],
      "source": [
        "dframe_wine.alcohol.mean() # same thing"
      ]
    },
    {
      "cell_type": "markdown",
      "metadata": {},
      "source": [
        "#### Writing a user-defined function"
      ]
    },
    {
      "cell_type": "code",
      "execution_count": 27,
      "metadata": {
        "trusted": true
      },
      "outputs": [],
      "source": [
        "def my_mean(a,b):\n",
        "    m = (a+b)/2\n",
        "    return m"
      ]
    },
    {
      "cell_type": "code",
      "execution_count": 28,
      "metadata": {
        "trusted": true
      },
      "outputs": [],
      "source": [
        "z = my_mean(2,3)"
      ]
    },
    {
      "cell_type": "code",
      "execution_count": 29,
      "metadata": {
        "trusted": true
      },
      "outputs": [
        {
          "data": {
            "text/plain": [
              "2.5"
            ]
          },
          "execution_count": 29,
          "metadata": {},
          "output_type": "execute_result"
        }
      ],
      "source": [
        "z"
      ]
    },
    {
      "cell_type": "code",
      "execution_count": 30,
      "metadata": {
        "trusted": true
      },
      "outputs": [],
      "source": [
        "# creating a user-defined function to aggregate by\n",
        "def max_to_min(arr):\n",
        "    '''\n",
        "    Function to calculate range based on max and min\n",
        "    inputs: numeric array\n",
        "    '''\n",
        "    z = arr.max() - arr.min()\n",
        "    return z"
      ]
    },
    {
      "cell_type": "code",
      "execution_count": 31,
      "metadata": {},
      "outputs": [
        {
          "data": {
            "text/plain": [
              "'\\n    Function to calculate range based on max and min\\n    inputs: numeric array\\n    '"
            ]
          },
          "execution_count": 31,
          "metadata": {},
          "output_type": "execute_result"
        }
      ],
      "source": [
        "#A Python docstring is a string used to document a Python module, class, function or method, \n",
        "# so programmers can understand what it does without having to read the details of the implementation. \n",
        "# Also, it is a common practice to generate online (html) documentation automatically from docstrings.\n",
        "max_to_min.__doc__"
      ]
    },
    {
      "cell_type": "code",
      "execution_count": 32,
      "metadata": {
        "trusted": true
      },
      "outputs": [
        {
          "data": {
            "text/plain": [
              "1.2699999999999996"
            ]
          },
          "execution_count": 32,
          "metadata": {},
          "output_type": "execute_result"
        }
      ],
      "source": [
        "x = max_to_min(dframe_wine['pH'])\n",
        "x"
      ]
    },
    {
      "cell_type": "code",
      "execution_count": 33,
      "metadata": {
        "trusted": true
      },
      "outputs": [],
      "source": [
        "wino = dframe_wine.groupby(['quality'])"
      ]
    },
    {
      "cell_type": "code",
      "execution_count": 34,
      "metadata": {
        "trusted": true
      },
      "outputs": [
        {
          "data": {
            "text/plain": [
              "<pandas.core.groupby.generic.DataFrameGroupBy object at 0x1194EA50>"
            ]
          },
          "execution_count": 34,
          "metadata": {},
          "output_type": "execute_result"
        }
      ],
      "source": [
        "wino"
      ]
    },
    {
      "cell_type": "code",
      "execution_count": 35,
      "metadata": {
        "trusted": true
      },
      "outputs": [
        {
          "data": {
            "text/html": [
              "<div>\n",
              "<style scoped>\n",
              "    .dataframe tbody tr th:only-of-type {\n",
              "        vertical-align: middle;\n",
              "    }\n",
              "\n",
              "    .dataframe tbody tr th {\n",
              "        vertical-align: top;\n",
              "    }\n",
              "\n",
              "    .dataframe thead tr th {\n",
              "        text-align: left;\n",
              "    }\n",
              "\n",
              "    .dataframe thead tr:last-of-type th {\n",
              "        text-align: right;\n",
              "    }\n",
              "</style>\n",
              "<table border=\"1\" class=\"dataframe\">\n",
              "  <thead>\n",
              "    <tr>\n",
              "      <th></th>\n",
              "      <th colspan=\"8\" halign=\"left\">fixed_acidity</th>\n",
              "      <th colspan=\"2\" halign=\"left\">volatile_acidity</th>\n",
              "      <th>...</th>\n",
              "      <th colspan=\"2\" halign=\"left\">sulphates</th>\n",
              "      <th colspan=\"8\" halign=\"left\">alcohol</th>\n",
              "    </tr>\n",
              "    <tr>\n",
              "      <th></th>\n",
              "      <th>count</th>\n",
              "      <th>mean</th>\n",
              "      <th>std</th>\n",
              "      <th>min</th>\n",
              "      <th>25%</th>\n",
              "      <th>50%</th>\n",
              "      <th>75%</th>\n",
              "      <th>max</th>\n",
              "      <th>count</th>\n",
              "      <th>mean</th>\n",
              "      <th>...</th>\n",
              "      <th>75%</th>\n",
              "      <th>max</th>\n",
              "      <th>count</th>\n",
              "      <th>mean</th>\n",
              "      <th>std</th>\n",
              "      <th>min</th>\n",
              "      <th>25%</th>\n",
              "      <th>50%</th>\n",
              "      <th>75%</th>\n",
              "      <th>max</th>\n",
              "    </tr>\n",
              "    <tr>\n",
              "      <th>quality</th>\n",
              "      <th></th>\n",
              "      <th></th>\n",
              "      <th></th>\n",
              "      <th></th>\n",
              "      <th></th>\n",
              "      <th></th>\n",
              "      <th></th>\n",
              "      <th></th>\n",
              "      <th></th>\n",
              "      <th></th>\n",
              "      <th></th>\n",
              "      <th></th>\n",
              "      <th></th>\n",
              "      <th></th>\n",
              "      <th></th>\n",
              "      <th></th>\n",
              "      <th></th>\n",
              "      <th></th>\n",
              "      <th></th>\n",
              "      <th></th>\n",
              "      <th></th>\n",
              "    </tr>\n",
              "  </thead>\n",
              "  <tbody>\n",
              "    <tr>\n",
              "      <th>3</th>\n",
              "      <td>10.0</td>\n",
              "      <td>8.360000</td>\n",
              "      <td>1.770875</td>\n",
              "      <td>6.7</td>\n",
              "      <td>7.15</td>\n",
              "      <td>7.50</td>\n",
              "      <td>9.875</td>\n",
              "      <td>11.6</td>\n",
              "      <td>10.0</td>\n",
              "      <td>0.884500</td>\n",
              "      <td>...</td>\n",
              "      <td>0.615</td>\n",
              "      <td>0.86</td>\n",
              "      <td>10.0</td>\n",
              "      <td>9.955000</td>\n",
              "      <td>0.818009</td>\n",
              "      <td>8.4</td>\n",
              "      <td>9.725</td>\n",
              "      <td>9.925</td>\n",
              "      <td>10.575</td>\n",
              "      <td>11.0</td>\n",
              "    </tr>\n",
              "    <tr>\n",
              "      <th>4</th>\n",
              "      <td>53.0</td>\n",
              "      <td>7.779245</td>\n",
              "      <td>1.626624</td>\n",
              "      <td>4.6</td>\n",
              "      <td>6.80</td>\n",
              "      <td>7.50</td>\n",
              "      <td>8.400</td>\n",
              "      <td>12.5</td>\n",
              "      <td>53.0</td>\n",
              "      <td>0.693962</td>\n",
              "      <td>...</td>\n",
              "      <td>0.600</td>\n",
              "      <td>2.00</td>\n",
              "      <td>53.0</td>\n",
              "      <td>10.265094</td>\n",
              "      <td>0.934776</td>\n",
              "      <td>9.0</td>\n",
              "      <td>9.600</td>\n",
              "      <td>10.000</td>\n",
              "      <td>11.000</td>\n",
              "      <td>13.1</td>\n",
              "    </tr>\n",
              "    <tr>\n",
              "      <th>5</th>\n",
              "      <td>681.0</td>\n",
              "      <td>8.167254</td>\n",
              "      <td>1.563988</td>\n",
              "      <td>5.0</td>\n",
              "      <td>7.10</td>\n",
              "      <td>7.80</td>\n",
              "      <td>8.900</td>\n",
              "      <td>15.9</td>\n",
              "      <td>681.0</td>\n",
              "      <td>0.577041</td>\n",
              "      <td>...</td>\n",
              "      <td>0.660</td>\n",
              "      <td>1.98</td>\n",
              "      <td>681.0</td>\n",
              "      <td>9.899706</td>\n",
              "      <td>0.736521</td>\n",
              "      <td>8.5</td>\n",
              "      <td>9.400</td>\n",
              "      <td>9.700</td>\n",
              "      <td>10.200</td>\n",
              "      <td>14.9</td>\n",
              "    </tr>\n",
              "    <tr>\n",
              "      <th>6</th>\n",
              "      <td>638.0</td>\n",
              "      <td>8.347179</td>\n",
              "      <td>1.797849</td>\n",
              "      <td>4.7</td>\n",
              "      <td>7.00</td>\n",
              "      <td>7.90</td>\n",
              "      <td>9.400</td>\n",
              "      <td>14.3</td>\n",
              "      <td>638.0</td>\n",
              "      <td>0.497484</td>\n",
              "      <td>...</td>\n",
              "      <td>0.750</td>\n",
              "      <td>1.95</td>\n",
              "      <td>638.0</td>\n",
              "      <td>10.629519</td>\n",
              "      <td>1.049639</td>\n",
              "      <td>8.4</td>\n",
              "      <td>9.800</td>\n",
              "      <td>10.500</td>\n",
              "      <td>11.300</td>\n",
              "      <td>14.0</td>\n",
              "    </tr>\n",
              "    <tr>\n",
              "      <th>7</th>\n",
              "      <td>199.0</td>\n",
              "      <td>8.872362</td>\n",
              "      <td>1.992483</td>\n",
              "      <td>4.9</td>\n",
              "      <td>7.40</td>\n",
              "      <td>8.80</td>\n",
              "      <td>10.100</td>\n",
              "      <td>15.6</td>\n",
              "      <td>199.0</td>\n",
              "      <td>0.403920</td>\n",
              "      <td>...</td>\n",
              "      <td>0.830</td>\n",
              "      <td>1.36</td>\n",
              "      <td>199.0</td>\n",
              "      <td>11.465913</td>\n",
              "      <td>0.961933</td>\n",
              "      <td>9.2</td>\n",
              "      <td>10.800</td>\n",
              "      <td>11.500</td>\n",
              "      <td>12.100</td>\n",
              "      <td>14.0</td>\n",
              "    </tr>\n",
              "    <tr>\n",
              "      <th>8</th>\n",
              "      <td>18.0</td>\n",
              "      <td>8.566667</td>\n",
              "      <td>2.119656</td>\n",
              "      <td>5.0</td>\n",
              "      <td>7.25</td>\n",
              "      <td>8.25</td>\n",
              "      <td>10.225</td>\n",
              "      <td>12.6</td>\n",
              "      <td>18.0</td>\n",
              "      <td>0.423333</td>\n",
              "      <td>...</td>\n",
              "      <td>0.820</td>\n",
              "      <td>1.10</td>\n",
              "      <td>18.0</td>\n",
              "      <td>12.094444</td>\n",
              "      <td>1.224011</td>\n",
              "      <td>9.8</td>\n",
              "      <td>11.325</td>\n",
              "      <td>12.150</td>\n",
              "      <td>12.875</td>\n",
              "      <td>14.0</td>\n",
              "    </tr>\n",
              "  </tbody>\n",
              "</table>\n",
              "<p>6 rows × 88 columns</p>\n",
              "</div>"
            ],
            "text/plain": [
              "        fixed_acidity                                                     \\\n",
              "                count      mean       std  min   25%   50%     75%   max   \n",
              "quality                                                                    \n",
              "3                10.0  8.360000  1.770875  6.7  7.15  7.50   9.875  11.6   \n",
              "4                53.0  7.779245  1.626624  4.6  6.80  7.50   8.400  12.5   \n",
              "5               681.0  8.167254  1.563988  5.0  7.10  7.80   8.900  15.9   \n",
              "6               638.0  8.347179  1.797849  4.7  7.00  7.90   9.400  14.3   \n",
              "7               199.0  8.872362  1.992483  4.9  7.40  8.80  10.100  15.6   \n",
              "8                18.0  8.566667  2.119656  5.0  7.25  8.25  10.225  12.6   \n",
              "\n",
              "        volatile_acidity            ... sulphates       alcohol             \\\n",
              "                   count      mean  ...       75%   max   count       mean   \n",
              "quality                             ...                                      \n",
              "3                   10.0  0.884500  ...     0.615  0.86    10.0   9.955000   \n",
              "4                   53.0  0.693962  ...     0.600  2.00    53.0  10.265094   \n",
              "5                  681.0  0.577041  ...     0.660  1.98   681.0   9.899706   \n",
              "6                  638.0  0.497484  ...     0.750  1.95   638.0  10.629519   \n",
              "7                  199.0  0.403920  ...     0.830  1.36   199.0  11.465913   \n",
              "8                   18.0  0.423333  ...     0.820  1.10    18.0  12.094444   \n",
              "\n",
              "                                                      \n",
              "              std  min     25%     50%     75%   max  \n",
              "quality                                               \n",
              "3        0.818009  8.4   9.725   9.925  10.575  11.0  \n",
              "4        0.934776  9.0   9.600  10.000  11.000  13.1  \n",
              "5        0.736521  8.5   9.400   9.700  10.200  14.9  \n",
              "6        1.049639  8.4   9.800  10.500  11.300  14.0  \n",
              "7        0.961933  9.2  10.800  11.500  12.100  14.0  \n",
              "8        1.224011  9.8  11.325  12.150  12.875  14.0  \n",
              "\n",
              "[6 rows x 88 columns]"
            ]
          },
          "execution_count": 35,
          "metadata": {},
          "output_type": "execute_result"
        }
      ],
      "source": [
        "wino.describe()"
      ]
    },
    {
      "cell_type": "code",
      "execution_count": 36,
      "metadata": {
        "trusted": true
      },
      "outputs": [
        {
          "data": {
            "text/html": [
              "<div>\n",
              "<style scoped>\n",
              "    .dataframe tbody tr th:only-of-type {\n",
              "        vertical-align: middle;\n",
              "    }\n",
              "\n",
              "    .dataframe tbody tr th {\n",
              "        vertical-align: top;\n",
              "    }\n",
              "\n",
              "    .dataframe thead th {\n",
              "        text-align: right;\n",
              "    }\n",
              "</style>\n",
              "<table border=\"1\" class=\"dataframe\">\n",
              "  <thead>\n",
              "    <tr style=\"text-align: right;\">\n",
              "      <th></th>\n",
              "      <th>fixed_acidity</th>\n",
              "      <th>volatile_acidity</th>\n",
              "      <th>citric_acid</th>\n",
              "      <th>residual_sugar</th>\n",
              "      <th>chlorides</th>\n",
              "      <th>free_so2</th>\n",
              "      <th>total_so2</th>\n",
              "      <th>density</th>\n",
              "      <th>pH</th>\n",
              "      <th>sulphates</th>\n",
              "      <th>alcohol</th>\n",
              "    </tr>\n",
              "    <tr>\n",
              "      <th>quality</th>\n",
              "      <th></th>\n",
              "      <th></th>\n",
              "      <th></th>\n",
              "      <th></th>\n",
              "      <th></th>\n",
              "      <th></th>\n",
              "      <th></th>\n",
              "      <th></th>\n",
              "      <th></th>\n",
              "      <th></th>\n",
              "      <th></th>\n",
              "    </tr>\n",
              "  </thead>\n",
              "  <tbody>\n",
              "    <tr>\n",
              "      <th>3</th>\n",
              "      <td>8.360000</td>\n",
              "      <td>0.884500</td>\n",
              "      <td>0.171000</td>\n",
              "      <td>2.635000</td>\n",
              "      <td>0.122500</td>\n",
              "      <td>11.000000</td>\n",
              "      <td>24.900000</td>\n",
              "      <td>0.997464</td>\n",
              "      <td>3.398000</td>\n",
              "      <td>0.570000</td>\n",
              "      <td>9.955000</td>\n",
              "    </tr>\n",
              "    <tr>\n",
              "      <th>4</th>\n",
              "      <td>7.779245</td>\n",
              "      <td>0.693962</td>\n",
              "      <td>0.174151</td>\n",
              "      <td>2.694340</td>\n",
              "      <td>0.090679</td>\n",
              "      <td>12.264151</td>\n",
              "      <td>36.245283</td>\n",
              "      <td>0.996542</td>\n",
              "      <td>3.381509</td>\n",
              "      <td>0.596415</td>\n",
              "      <td>10.265094</td>\n",
              "    </tr>\n",
              "    <tr>\n",
              "      <th>5</th>\n",
              "      <td>8.167254</td>\n",
              "      <td>0.577041</td>\n",
              "      <td>0.243686</td>\n",
              "      <td>2.528855</td>\n",
              "      <td>0.092736</td>\n",
              "      <td>16.983847</td>\n",
              "      <td>56.513950</td>\n",
              "      <td>0.997104</td>\n",
              "      <td>3.304949</td>\n",
              "      <td>0.620969</td>\n",
              "      <td>9.899706</td>\n",
              "    </tr>\n",
              "    <tr>\n",
              "      <th>6</th>\n",
              "      <td>8.347179</td>\n",
              "      <td>0.497484</td>\n",
              "      <td>0.273824</td>\n",
              "      <td>2.477194</td>\n",
              "      <td>0.084956</td>\n",
              "      <td>15.711599</td>\n",
              "      <td>40.869906</td>\n",
              "      <td>0.996615</td>\n",
              "      <td>3.318072</td>\n",
              "      <td>0.675329</td>\n",
              "      <td>10.629519</td>\n",
              "    </tr>\n",
              "    <tr>\n",
              "      <th>7</th>\n",
              "      <td>8.872362</td>\n",
              "      <td>0.403920</td>\n",
              "      <td>0.375176</td>\n",
              "      <td>2.720603</td>\n",
              "      <td>0.076588</td>\n",
              "      <td>14.045226</td>\n",
              "      <td>35.020101</td>\n",
              "      <td>0.996104</td>\n",
              "      <td>3.290754</td>\n",
              "      <td>0.741256</td>\n",
              "      <td>11.465913</td>\n",
              "    </tr>\n",
              "    <tr>\n",
              "      <th>8</th>\n",
              "      <td>8.566667</td>\n",
              "      <td>0.423333</td>\n",
              "      <td>0.391111</td>\n",
              "      <td>2.577778</td>\n",
              "      <td>0.068444</td>\n",
              "      <td>13.277778</td>\n",
              "      <td>33.444444</td>\n",
              "      <td>0.995212</td>\n",
              "      <td>3.267222</td>\n",
              "      <td>0.767778</td>\n",
              "      <td>12.094444</td>\n",
              "    </tr>\n",
              "  </tbody>\n",
              "</table>\n",
              "</div>"
            ],
            "text/plain": [
              "         fixed_acidity  volatile_acidity  citric_acid  residual_sugar  \\\n",
              "quality                                                                 \n",
              "3             8.360000          0.884500     0.171000        2.635000   \n",
              "4             7.779245          0.693962     0.174151        2.694340   \n",
              "5             8.167254          0.577041     0.243686        2.528855   \n",
              "6             8.347179          0.497484     0.273824        2.477194   \n",
              "7             8.872362          0.403920     0.375176        2.720603   \n",
              "8             8.566667          0.423333     0.391111        2.577778   \n",
              "\n",
              "         chlorides   free_so2  total_so2   density        pH  sulphates  \\\n",
              "quality                                                                   \n",
              "3         0.122500  11.000000  24.900000  0.997464  3.398000   0.570000   \n",
              "4         0.090679  12.264151  36.245283  0.996542  3.381509   0.596415   \n",
              "5         0.092736  16.983847  56.513950  0.997104  3.304949   0.620969   \n",
              "6         0.084956  15.711599  40.869906  0.996615  3.318072   0.675329   \n",
              "7         0.076588  14.045226  35.020101  0.996104  3.290754   0.741256   \n",
              "8         0.068444  13.277778  33.444444  0.995212  3.267222   0.767778   \n",
              "\n",
              "           alcohol  \n",
              "quality             \n",
              "3         9.955000  \n",
              "4        10.265094  \n",
              "5         9.899706  \n",
              "6        10.629519  \n",
              "7        11.465913  \n",
              "8        12.094444  "
            ]
          },
          "execution_count": 36,
          "metadata": {},
          "output_type": "execute_result"
        }
      ],
      "source": [
        "wino.mean()"
      ]
    },
    {
      "cell_type": "markdown",
      "metadata": {},
      "source": [
        "`agg()` is the general container for the aggregation function - in this case the UDF `max_to_min()`..."
      ]
    },
    {
      "cell_type": "code",
      "execution_count": 37,
      "metadata": {
        "trusted": true
      },
      "outputs": [
        {
          "data": {
            "text/plain": [
              "quality\n",
              "3    2.6\n",
              "4    4.1\n",
              "5    6.4\n",
              "6    5.6\n",
              "7    4.8\n",
              "8    4.2\n",
              "Name: alcohol, dtype: float64"
            ]
          },
          "execution_count": 37,
          "metadata": {},
          "output_type": "execute_result"
        }
      ],
      "source": [
        "wino['alcohol'].agg(max_to_min)"
      ]
    },
    {
      "cell_type": "code",
      "execution_count": 38,
      "metadata": {},
      "outputs": [
        {
          "data": {
            "text/plain": [
              "quality\n",
              "3    2.6\n",
              "4    4.1\n",
              "5    6.4\n",
              "6    5.6\n",
              "7    4.8\n",
              "8    4.2\n",
              "Name: alcohol, dtype: float64"
            ]
          },
          "execution_count": 38,
          "metadata": {},
          "output_type": "execute_result"
        }
      ],
      "source": [
        "wino['alcohol'].apply(max_to_min) #alternative way to apply function on dataframe or column"
      ]
    },
    {
      "cell_type": "markdown",
      "metadata": {},
      "source": [
        "...and in this case `mean()`"
      ]
    },
    {
      "cell_type": "code",
      "execution_count": 39,
      "metadata": {
        "trusted": true
      },
      "outputs": [
        {
          "data": {
            "text/html": [
              "<div>\n",
              "<style scoped>\n",
              "    .dataframe tbody tr th:only-of-type {\n",
              "        vertical-align: middle;\n",
              "    }\n",
              "\n",
              "    .dataframe tbody tr th {\n",
              "        vertical-align: top;\n",
              "    }\n",
              "\n",
              "    .dataframe thead th {\n",
              "        text-align: right;\n",
              "    }\n",
              "</style>\n",
              "<table border=\"1\" class=\"dataframe\">\n",
              "  <thead>\n",
              "    <tr style=\"text-align: right;\">\n",
              "      <th></th>\n",
              "      <th>fixed_acidity</th>\n",
              "      <th>volatile_acidity</th>\n",
              "      <th>citric_acid</th>\n",
              "      <th>residual_sugar</th>\n",
              "      <th>chlorides</th>\n",
              "      <th>free_so2</th>\n",
              "      <th>total_so2</th>\n",
              "      <th>density</th>\n",
              "      <th>pH</th>\n",
              "      <th>sulphates</th>\n",
              "      <th>alcohol</th>\n",
              "    </tr>\n",
              "    <tr>\n",
              "      <th>quality</th>\n",
              "      <th></th>\n",
              "      <th></th>\n",
              "      <th></th>\n",
              "      <th></th>\n",
              "      <th></th>\n",
              "      <th></th>\n",
              "      <th></th>\n",
              "      <th></th>\n",
              "      <th></th>\n",
              "      <th></th>\n",
              "      <th></th>\n",
              "    </tr>\n",
              "  </thead>\n",
              "  <tbody>\n",
              "    <tr>\n",
              "      <th>3</th>\n",
              "      <td>8.360000</td>\n",
              "      <td>0.884500</td>\n",
              "      <td>0.171000</td>\n",
              "      <td>2.635000</td>\n",
              "      <td>0.122500</td>\n",
              "      <td>11.000000</td>\n",
              "      <td>24.900000</td>\n",
              "      <td>0.997464</td>\n",
              "      <td>3.398000</td>\n",
              "      <td>0.570000</td>\n",
              "      <td>9.955000</td>\n",
              "    </tr>\n",
              "    <tr>\n",
              "      <th>4</th>\n",
              "      <td>7.779245</td>\n",
              "      <td>0.693962</td>\n",
              "      <td>0.174151</td>\n",
              "      <td>2.694340</td>\n",
              "      <td>0.090679</td>\n",
              "      <td>12.264151</td>\n",
              "      <td>36.245283</td>\n",
              "      <td>0.996542</td>\n",
              "      <td>3.381509</td>\n",
              "      <td>0.596415</td>\n",
              "      <td>10.265094</td>\n",
              "    </tr>\n",
              "    <tr>\n",
              "      <th>5</th>\n",
              "      <td>8.167254</td>\n",
              "      <td>0.577041</td>\n",
              "      <td>0.243686</td>\n",
              "      <td>2.528855</td>\n",
              "      <td>0.092736</td>\n",
              "      <td>16.983847</td>\n",
              "      <td>56.513950</td>\n",
              "      <td>0.997104</td>\n",
              "      <td>3.304949</td>\n",
              "      <td>0.620969</td>\n",
              "      <td>9.899706</td>\n",
              "    </tr>\n",
              "    <tr>\n",
              "      <th>6</th>\n",
              "      <td>8.347179</td>\n",
              "      <td>0.497484</td>\n",
              "      <td>0.273824</td>\n",
              "      <td>2.477194</td>\n",
              "      <td>0.084956</td>\n",
              "      <td>15.711599</td>\n",
              "      <td>40.869906</td>\n",
              "      <td>0.996615</td>\n",
              "      <td>3.318072</td>\n",
              "      <td>0.675329</td>\n",
              "      <td>10.629519</td>\n",
              "    </tr>\n",
              "    <tr>\n",
              "      <th>7</th>\n",
              "      <td>8.872362</td>\n",
              "      <td>0.403920</td>\n",
              "      <td>0.375176</td>\n",
              "      <td>2.720603</td>\n",
              "      <td>0.076588</td>\n",
              "      <td>14.045226</td>\n",
              "      <td>35.020101</td>\n",
              "      <td>0.996104</td>\n",
              "      <td>3.290754</td>\n",
              "      <td>0.741256</td>\n",
              "      <td>11.465913</td>\n",
              "    </tr>\n",
              "    <tr>\n",
              "      <th>8</th>\n",
              "      <td>8.566667</td>\n",
              "      <td>0.423333</td>\n",
              "      <td>0.391111</td>\n",
              "      <td>2.577778</td>\n",
              "      <td>0.068444</td>\n",
              "      <td>13.277778</td>\n",
              "      <td>33.444444</td>\n",
              "      <td>0.995212</td>\n",
              "      <td>3.267222</td>\n",
              "      <td>0.767778</td>\n",
              "      <td>12.094444</td>\n",
              "    </tr>\n",
              "  </tbody>\n",
              "</table>\n",
              "</div>"
            ],
            "text/plain": [
              "         fixed_acidity  volatile_acidity  citric_acid  residual_sugar  \\\n",
              "quality                                                                 \n",
              "3             8.360000          0.884500     0.171000        2.635000   \n",
              "4             7.779245          0.693962     0.174151        2.694340   \n",
              "5             8.167254          0.577041     0.243686        2.528855   \n",
              "6             8.347179          0.497484     0.273824        2.477194   \n",
              "7             8.872362          0.403920     0.375176        2.720603   \n",
              "8             8.566667          0.423333     0.391111        2.577778   \n",
              "\n",
              "         chlorides   free_so2  total_so2   density        pH  sulphates  \\\n",
              "quality                                                                   \n",
              "3         0.122500  11.000000  24.900000  0.997464  3.398000   0.570000   \n",
              "4         0.090679  12.264151  36.245283  0.996542  3.381509   0.596415   \n",
              "5         0.092736  16.983847  56.513950  0.997104  3.304949   0.620969   \n",
              "6         0.084956  15.711599  40.869906  0.996615  3.318072   0.675329   \n",
              "7         0.076588  14.045226  35.020101  0.996104  3.290754   0.741256   \n",
              "8         0.068444  13.277778  33.444444  0.995212  3.267222   0.767778   \n",
              "\n",
              "           alcohol  \n",
              "quality             \n",
              "3         9.955000  \n",
              "4        10.265094  \n",
              "5         9.899706  \n",
              "6        10.629519  \n",
              "7        11.465913  \n",
              "8        12.094444  "
            ]
          },
          "execution_count": 39,
          "metadata": {},
          "output_type": "execute_result"
        }
      ],
      "source": [
        "wino.agg('mean')"
      ]
    },
    {
      "cell_type": "code",
      "execution_count": 40,
      "metadata": {
        "trusted": true
      },
      "outputs": [
        {
          "data": {
            "text/plain": [
              "quality\n",
              "3    2.6\n",
              "4    4.1\n",
              "5    6.4\n",
              "6    5.6\n",
              "7    4.8\n",
              "8    4.2\n",
              "Name: alcohol, dtype: float64"
            ]
          },
          "execution_count": 40,
          "metadata": {},
          "output_type": "execute_result"
        }
      ],
      "source": [
        "wino['alcohol'].agg(max_to_min)"
      ]
    },
    {
      "cell_type": "code",
      "execution_count": 41,
      "metadata": {
        "trusted": true
      },
      "outputs": [
        {
          "data": {
            "text/html": [
              "<div>\n",
              "<style scoped>\n",
              "    .dataframe tbody tr th:only-of-type {\n",
              "        vertical-align: middle;\n",
              "    }\n",
              "\n",
              "    .dataframe tbody tr th {\n",
              "        vertical-align: top;\n",
              "    }\n",
              "\n",
              "    .dataframe thead th {\n",
              "        text-align: right;\n",
              "    }\n",
              "</style>\n",
              "<table border=\"1\" class=\"dataframe\">\n",
              "  <thead>\n",
              "    <tr style=\"text-align: right;\">\n",
              "      <th></th>\n",
              "      <th>fixed_acidity</th>\n",
              "      <th>volatile_acidity</th>\n",
              "      <th>citric_acid</th>\n",
              "      <th>residual_sugar</th>\n",
              "      <th>chlorides</th>\n",
              "      <th>free_so2</th>\n",
              "      <th>total_so2</th>\n",
              "      <th>density</th>\n",
              "      <th>pH</th>\n",
              "      <th>sulphates</th>\n",
              "      <th>alcohol</th>\n",
              "      <th>quality</th>\n",
              "      <th>qual_alc_ratio</th>\n",
              "    </tr>\n",
              "  </thead>\n",
              "  <tbody>\n",
              "    <tr>\n",
              "      <th>0</th>\n",
              "      <td>6.5</td>\n",
              "      <td>0.90</td>\n",
              "      <td>0.00</td>\n",
              "      <td>1.6</td>\n",
              "      <td>0.052</td>\n",
              "      <td>9.0</td>\n",
              "      <td>17.0</td>\n",
              "      <td>0.99467</td>\n",
              "      <td>3.50</td>\n",
              "      <td>0.63</td>\n",
              "      <td>10.9</td>\n",
              "      <td>6</td>\n",
              "      <td>0.550459</td>\n",
              "    </tr>\n",
              "    <tr>\n",
              "      <th>1</th>\n",
              "      <td>9.1</td>\n",
              "      <td>0.22</td>\n",
              "      <td>0.24</td>\n",
              "      <td>2.1</td>\n",
              "      <td>0.078</td>\n",
              "      <td>1.0</td>\n",
              "      <td>28.0</td>\n",
              "      <td>0.99900</td>\n",
              "      <td>3.41</td>\n",
              "      <td>0.87</td>\n",
              "      <td>10.3</td>\n",
              "      <td>6</td>\n",
              "      <td>0.582524</td>\n",
              "    </tr>\n",
              "    <tr>\n",
              "      <th>2</th>\n",
              "      <td>6.9</td>\n",
              "      <td>0.52</td>\n",
              "      <td>0.25</td>\n",
              "      <td>2.6</td>\n",
              "      <td>0.081</td>\n",
              "      <td>10.0</td>\n",
              "      <td>37.0</td>\n",
              "      <td>0.99685</td>\n",
              "      <td>3.46</td>\n",
              "      <td>0.50</td>\n",
              "      <td>11.0</td>\n",
              "      <td>5</td>\n",
              "      <td>0.454545</td>\n",
              "    </tr>\n",
              "    <tr>\n",
              "      <th>3</th>\n",
              "      <td>7.3</td>\n",
              "      <td>0.59</td>\n",
              "      <td>0.26</td>\n",
              "      <td>2.0</td>\n",
              "      <td>0.080</td>\n",
              "      <td>17.0</td>\n",
              "      <td>104.0</td>\n",
              "      <td>0.99584</td>\n",
              "      <td>3.28</td>\n",
              "      <td>0.52</td>\n",
              "      <td>9.9</td>\n",
              "      <td>5</td>\n",
              "      <td>0.505051</td>\n",
              "    </tr>\n",
              "    <tr>\n",
              "      <th>4</th>\n",
              "      <td>12.5</td>\n",
              "      <td>0.28</td>\n",
              "      <td>0.54</td>\n",
              "      <td>2.3</td>\n",
              "      <td>0.082</td>\n",
              "      <td>12.0</td>\n",
              "      <td>29.0</td>\n",
              "      <td>0.99970</td>\n",
              "      <td>3.11</td>\n",
              "      <td>1.36</td>\n",
              "      <td>9.8</td>\n",
              "      <td>7</td>\n",
              "      <td>0.714286</td>\n",
              "    </tr>\n",
              "  </tbody>\n",
              "</table>\n",
              "</div>"
            ],
            "text/plain": [
              "   fixed_acidity  volatile_acidity  citric_acid  residual_sugar  chlorides  \\\n",
              "0            6.5              0.90         0.00             1.6      0.052   \n",
              "1            9.1              0.22         0.24             2.1      0.078   \n",
              "2            6.9              0.52         0.25             2.6      0.081   \n",
              "3            7.3              0.59         0.26             2.0      0.080   \n",
              "4           12.5              0.28         0.54             2.3      0.082   \n",
              "\n",
              "   free_so2  total_so2  density    pH  sulphates  alcohol  quality  \\\n",
              "0       9.0       17.0  0.99467  3.50       0.63     10.9        6   \n",
              "1       1.0       28.0  0.99900  3.41       0.87     10.3        6   \n",
              "2      10.0       37.0  0.99685  3.46       0.50     11.0        5   \n",
              "3      17.0      104.0  0.99584  3.28       0.52      9.9        5   \n",
              "4      12.0       29.0  0.99970  3.11       1.36      9.8        7   \n",
              "\n",
              "   qual_alc_ratio  \n",
              "0        0.550459  \n",
              "1        0.582524  \n",
              "2        0.454545  \n",
              "3        0.505051  \n",
              "4        0.714286  "
            ]
          },
          "execution_count": 41,
          "metadata": {},
          "output_type": "execute_result"
        }
      ],
      "source": [
        "dframe_wine['qual_alc_ratio'] = dframe_wine['quality']/dframe_wine['alcohol']\n",
        "dframe_wine.head()"
      ]
    },
    {
      "cell_type": "code",
      "execution_count": 42,
      "metadata": {
        "trusted": true
      },
      "outputs": [],
      "source": [
        "wino = dframe_wine.groupby(['quality'])"
      ]
    },
    {
      "cell_type": "code",
      "execution_count": 43,
      "metadata": {
        "trusted": true
      },
      "outputs": [
        {
          "name": "stderr",
          "output_type": "stream",
          "text": [
            "d:\\VSPROJECTS\\jupyterenv\\lib\\site-packages\\ipykernel_launcher.py:1: FutureWarning: Indexing with multiple keys (implicitly converted to a tuple of keys) will be deprecated, use a list instead.\n",
            "  \"\"\"Entry point for launching an IPython kernel.\n"
          ]
        }
      ],
      "source": [
        "df1 = wino[['alcohol','chlorides','citric_acid']].agg({'alcohol':np.size,'chlorides':np.sum,'citric_acid':np.mean})"
      ]
    },
    {
      "cell_type": "code",
      "execution_count": 44,
      "metadata": {
        "trusted": true
      },
      "outputs": [
        {
          "data": {
            "text/html": [
              "<div>\n",
              "<style scoped>\n",
              "    .dataframe tbody tr th:only-of-type {\n",
              "        vertical-align: middle;\n",
              "    }\n",
              "\n",
              "    .dataframe tbody tr th {\n",
              "        vertical-align: top;\n",
              "    }\n",
              "\n",
              "    .dataframe thead th {\n",
              "        text-align: right;\n",
              "    }\n",
              "</style>\n",
              "<table border=\"1\" class=\"dataframe\">\n",
              "  <thead>\n",
              "    <tr style=\"text-align: right;\">\n",
              "      <th></th>\n",
              "      <th>alcohol</th>\n",
              "      <th>chlorides</th>\n",
              "      <th>citric_acid</th>\n",
              "    </tr>\n",
              "    <tr>\n",
              "      <th>quality</th>\n",
              "      <th></th>\n",
              "      <th></th>\n",
              "      <th></th>\n",
              "    </tr>\n",
              "  </thead>\n",
              "  <tbody>\n",
              "    <tr>\n",
              "      <th>3</th>\n",
              "      <td>10</td>\n",
              "      <td>1.225</td>\n",
              "      <td>0.171000</td>\n",
              "    </tr>\n",
              "    <tr>\n",
              "      <th>4</th>\n",
              "      <td>53</td>\n",
              "      <td>4.806</td>\n",
              "      <td>0.174151</td>\n",
              "    </tr>\n",
              "    <tr>\n",
              "      <th>5</th>\n",
              "      <td>681</td>\n",
              "      <td>63.153</td>\n",
              "      <td>0.243686</td>\n",
              "    </tr>\n",
              "    <tr>\n",
              "      <th>6</th>\n",
              "      <td>638</td>\n",
              "      <td>54.202</td>\n",
              "      <td>0.273824</td>\n",
              "    </tr>\n",
              "    <tr>\n",
              "      <th>7</th>\n",
              "      <td>199</td>\n",
              "      <td>15.241</td>\n",
              "      <td>0.375176</td>\n",
              "    </tr>\n",
              "    <tr>\n",
              "      <th>8</th>\n",
              "      <td>18</td>\n",
              "      <td>1.232</td>\n",
              "      <td>0.391111</td>\n",
              "    </tr>\n",
              "  </tbody>\n",
              "</table>\n",
              "</div>"
            ],
            "text/plain": [
              "         alcohol  chlorides  citric_acid\n",
              "quality                                 \n",
              "3             10      1.225     0.171000\n",
              "4             53      4.806     0.174151\n",
              "5            681     63.153     0.243686\n",
              "6            638     54.202     0.273824\n",
              "7            199     15.241     0.375176\n",
              "8             18      1.232     0.391111"
            ]
          },
          "execution_count": 44,
          "metadata": {},
          "output_type": "execute_result"
        }
      ],
      "source": [
        "df1"
      ]
    },
    {
      "cell_type": "markdown",
      "metadata": {},
      "source": [
        "## End of Part 9"
      ]
    }
  ],
  "metadata": {
    "kernelspec": {
      "display_name": "Python 3",
      "language": "python",
      "name": "python3"
    },
    "language_info": {
      "codemirror_mode": {
        "name": "ipython",
        "version": 3
      },
      "file_extension": ".py",
      "mimetype": "text/x-python",
      "name": "python",
      "nbconvert_exporter": "python",
      "pygments_lexer": "ipython3",
      "version": "3.7.9"
    }
  },
  "nbformat": 4,
  "nbformat_minor": 1
}
