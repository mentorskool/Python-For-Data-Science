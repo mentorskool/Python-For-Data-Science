{
  "cells": [
    {
      "metadata": {},
      "cell_type": "markdown",
      "source": "\n# Part 6"
    },
    {
      "metadata": {},
      "cell_type": "markdown",
      "source": "# Merging"
    },
    {
      "metadata": {
        "trusted": true
      },
      "cell_type": "code",
      "source": "import numpy as np\nimport pandas as pd\nfrom pandas import Series,DataFrame",
      "execution_count": 1,
      "outputs": []
    },
    {
      "metadata": {
        "trusted": true
      },
      "cell_type": "code",
      "source": "temp_data = {'customer':['X','Z','Y','Z','X','X'],'product_code': np.arange(6)} # first create a dictionary\ntemp_data",
      "execution_count": 2,
      "outputs": [
        {
          "output_type": "execute_result",
          "execution_count": 2,
          "data": {
            "text/plain": "{'customer': ['X', 'Z', 'Y', 'Z', 'X', 'X'],\n 'product_code': array([0, 1, 2, 3, 4, 5])}"
          },
          "metadata": {}
        }
      ]
    },
    {
      "metadata": {
        "trusted": true
      },
      "cell_type": "code",
      "source": "dframe1 = pd.DataFrame(temp_data) # then create a data frame using the data in this dictionary\ndframe1",
      "execution_count": 3,
      "outputs": [
        {
          "output_type": "execute_result",
          "execution_count": 3,
          "data": {
            "text/plain": "  customer  product_code\n0        X             0\n1        Z             1\n2        Y             2\n3        Z             3\n4        X             4\n5        X             5",
            "text/html": "<div>\n<table border=\"1\" class=\"dataframe\">\n  <thead>\n    <tr style=\"text-align: right;\">\n      <th></th>\n      <th>customer</th>\n      <th>product_code</th>\n    </tr>\n  </thead>\n  <tbody>\n    <tr>\n      <th>0</th>\n      <td>X</td>\n      <td>0</td>\n    </tr>\n    <tr>\n      <th>1</th>\n      <td>Z</td>\n      <td>1</td>\n    </tr>\n    <tr>\n      <th>2</th>\n      <td>Y</td>\n      <td>2</td>\n    </tr>\n    <tr>\n      <th>3</th>\n      <td>Z</td>\n      <td>3</td>\n    </tr>\n    <tr>\n      <th>4</th>\n      <td>X</td>\n      <td>4</td>\n    </tr>\n    <tr>\n      <th>5</th>\n      <td>X</td>\n      <td>5</td>\n    </tr>\n  </tbody>\n</table>\n</div>"
          },
          "metadata": {}
        }
      ]
    },
    {
      "metadata": {
        "trusted": true
      },
      "cell_type": "code",
      "source": "dframe2 = pd.DataFrame({'cust':['Q','Y','Z'],'state':['TN','KA','MH']}) # create the DF from a dict in one step\ndframe2",
      "execution_count": 4,
      "outputs": [
        {
          "output_type": "execute_result",
          "execution_count": 4,
          "data": {
            "text/plain": "  cust state\n0    Q    TN\n1    Y    KA\n2    Z    MH",
            "text/html": "<div>\n<table border=\"1\" class=\"dataframe\">\n  <thead>\n    <tr style=\"text-align: right;\">\n      <th></th>\n      <th>cust</th>\n      <th>state</th>\n    </tr>\n  </thead>\n  <tbody>\n    <tr>\n      <th>0</th>\n      <td>Q</td>\n      <td>TN</td>\n    </tr>\n    <tr>\n      <th>1</th>\n      <td>Y</td>\n      <td>KA</td>\n    </tr>\n    <tr>\n      <th>2</th>\n      <td>Z</td>\n      <td>MH</td>\n    </tr>\n  </tbody>\n</table>\n</div>"
          },
          "metadata": {}
        }
      ]
    },
    {
      "metadata": {
        "trusted": true
      },
      "cell_type": "code",
      "source": "pd.merge(dframe1,dframe2, left_on = 'customer', right_on = 'cust') # inner join; R:merge(x=...,y=...,by=...) or dplyr::inner_join(x,y)",
      "execution_count": 5,
      "outputs": [
        {
          "output_type": "execute_result",
          "execution_count": 5,
          "data": {
            "text/plain": "  customer  product_code cust state\n0        Z             1    Z    MH\n1        Z             3    Z    MH\n2        Y             2    Y    KA",
            "text/html": "<div>\n<table border=\"1\" class=\"dataframe\">\n  <thead>\n    <tr style=\"text-align: right;\">\n      <th></th>\n      <th>customer</th>\n      <th>product_code</th>\n      <th>cust</th>\n      <th>state</th>\n    </tr>\n  </thead>\n  <tbody>\n    <tr>\n      <th>0</th>\n      <td>Z</td>\n      <td>1</td>\n      <td>Z</td>\n      <td>MH</td>\n    </tr>\n    <tr>\n      <th>1</th>\n      <td>Z</td>\n      <td>3</td>\n      <td>Z</td>\n      <td>MH</td>\n    </tr>\n    <tr>\n      <th>2</th>\n      <td>Y</td>\n      <td>2</td>\n      <td>Y</td>\n      <td>KA</td>\n    </tr>\n  </tbody>\n</table>\n</div>"
          },
          "metadata": {}
        }
      ]
    },
    {
      "metadata": {
        "trusted": true
      },
      "cell_type": "code",
      "source": "my_merged_dframe = pd.merge(dframe1,dframe2,left_on = 'customer', right_on = 'cust') # explicitly specify which column to merge by",
      "execution_count": null,
      "outputs": []
    },
    {
      "metadata": {
        "trusted": true
      },
      "cell_type": "code",
      "source": "my_merged_dframe",
      "execution_count": null,
      "outputs": []
    },
    {
      "metadata": {
        "trusted": true
      },
      "cell_type": "code",
      "source": "#For performing joins we need a common key so here we will rename the cust column to customer \ndframe2.rename(columns = {'cust':'customer'}, inplace = True)",
      "execution_count": 6,
      "outputs": []
    },
    {
      "metadata": {
        "trusted": true
      },
      "cell_type": "code",
      "source": "dframe2",
      "execution_count": 7,
      "outputs": [
        {
          "output_type": "execute_result",
          "execution_count": 7,
          "data": {
            "text/plain": "  customer state\n0        Q    TN\n1        Y    KA\n2        Z    MH",
            "text/html": "<div>\n<table border=\"1\" class=\"dataframe\">\n  <thead>\n    <tr style=\"text-align: right;\">\n      <th></th>\n      <th>customer</th>\n      <th>state</th>\n    </tr>\n  </thead>\n  <tbody>\n    <tr>\n      <th>0</th>\n      <td>Q</td>\n      <td>TN</td>\n    </tr>\n    <tr>\n      <th>1</th>\n      <td>Y</td>\n      <td>KA</td>\n    </tr>\n    <tr>\n      <th>2</th>\n      <td>Z</td>\n      <td>MH</td>\n    </tr>\n  </tbody>\n</table>\n</div>"
          },
          "metadata": {}
        }
      ]
    },
    {
      "metadata": {
        "trusted": true
      },
      "cell_type": "code",
      "source": "pd.merge(dframe1,dframe2,on='customer',how = 'left') # left join",
      "execution_count": 8,
      "outputs": [
        {
          "output_type": "execute_result",
          "execution_count": 8,
          "data": {
            "text/plain": "  customer  product_code state\n0        X             0   NaN\n1        Z             1    MH\n2        Y             2    KA\n3        Z             3    MH\n4        X             4   NaN\n5        X             5   NaN",
            "text/html": "<div>\n<table border=\"1\" class=\"dataframe\">\n  <thead>\n    <tr style=\"text-align: right;\">\n      <th></th>\n      <th>customer</th>\n      <th>product_code</th>\n      <th>state</th>\n    </tr>\n  </thead>\n  <tbody>\n    <tr>\n      <th>0</th>\n      <td>X</td>\n      <td>0</td>\n      <td>NaN</td>\n    </tr>\n    <tr>\n      <th>1</th>\n      <td>Z</td>\n      <td>1</td>\n      <td>MH</td>\n    </tr>\n    <tr>\n      <th>2</th>\n      <td>Y</td>\n      <td>2</td>\n      <td>KA</td>\n    </tr>\n    <tr>\n      <th>3</th>\n      <td>Z</td>\n      <td>3</td>\n      <td>MH</td>\n    </tr>\n    <tr>\n      <th>4</th>\n      <td>X</td>\n      <td>4</td>\n      <td>NaN</td>\n    </tr>\n    <tr>\n      <th>5</th>\n      <td>X</td>\n      <td>5</td>\n      <td>NaN</td>\n    </tr>\n  </tbody>\n</table>\n</div>"
          },
          "metadata": {}
        }
      ]
    },
    {
      "metadata": {
        "trusted": true
      },
      "cell_type": "code",
      "source": "pd.merge(dframe1,dframe2,on='customer',how = 'right') # right join",
      "execution_count": null,
      "outputs": []
    },
    {
      "metadata": {
        "trusted": true
      },
      "cell_type": "code",
      "source": "pd.merge(dframe1,dframe2,on='customer',how = 'outer') # outer join",
      "execution_count": null,
      "outputs": []
    },
    {
      "metadata": {},
      "cell_type": "markdown",
      "source": "### Many-to-many merge"
    },
    {
      "metadata": {
        "trusted": true
      },
      "cell_type": "code",
      "source": "dframe3 = pd.DataFrame({'key': ['X', 'X', 'X', 'Y', 'Z', 'Z'],'data_set_3': range(6)})\ndframe3",
      "execution_count": 9,
      "outputs": [
        {
          "output_type": "execute_result",
          "execution_count": 9,
          "data": {
            "text/plain": "   data_set_3 key\n0           0   X\n1           1   X\n2           2   X\n3           3   Y\n4           4   Z\n5           5   Z",
            "text/html": "<div>\n<table border=\"1\" class=\"dataframe\">\n  <thead>\n    <tr style=\"text-align: right;\">\n      <th></th>\n      <th>data_set_3</th>\n      <th>key</th>\n    </tr>\n  </thead>\n  <tbody>\n    <tr>\n      <th>0</th>\n      <td>0</td>\n      <td>X</td>\n    </tr>\n    <tr>\n      <th>1</th>\n      <td>1</td>\n      <td>X</td>\n    </tr>\n    <tr>\n      <th>2</th>\n      <td>2</td>\n      <td>X</td>\n    </tr>\n    <tr>\n      <th>3</th>\n      <td>3</td>\n      <td>Y</td>\n    </tr>\n    <tr>\n      <th>4</th>\n      <td>4</td>\n      <td>Z</td>\n    </tr>\n    <tr>\n      <th>5</th>\n      <td>5</td>\n      <td>Z</td>\n    </tr>\n  </tbody>\n</table>\n</div>"
          },
          "metadata": {}
        }
      ]
    },
    {
      "metadata": {
        "trusted": true
      },
      "cell_type": "code",
      "source": "dframe4 = pd.DataFrame({'key': ['Y', 'Y', 'X', 'X', 'Z'],'data_set_4': range(5)})\ndframe4",
      "execution_count": 10,
      "outputs": [
        {
          "output_type": "execute_result",
          "execution_count": 10,
          "data": {
            "text/plain": "   data_set_4 key\n0           0   Y\n1           1   Y\n2           2   X\n3           3   X\n4           4   Z",
            "text/html": "<div>\n<table border=\"1\" class=\"dataframe\">\n  <thead>\n    <tr style=\"text-align: right;\">\n      <th></th>\n      <th>data_set_4</th>\n      <th>key</th>\n    </tr>\n  </thead>\n  <tbody>\n    <tr>\n      <th>0</th>\n      <td>0</td>\n      <td>Y</td>\n    </tr>\n    <tr>\n      <th>1</th>\n      <td>1</td>\n      <td>Y</td>\n    </tr>\n    <tr>\n      <th>2</th>\n      <td>2</td>\n      <td>X</td>\n    </tr>\n    <tr>\n      <th>3</th>\n      <td>3</td>\n      <td>X</td>\n    </tr>\n    <tr>\n      <th>4</th>\n      <td>4</td>\n      <td>Z</td>\n    </tr>\n  </tbody>\n</table>\n</div>"
          },
          "metadata": {}
        }
      ]
    },
    {
      "metadata": {
        "trusted": true
      },
      "cell_type": "code",
      "source": "pd.merge(dframe3,dframe4)",
      "execution_count": 11,
      "outputs": [
        {
          "output_type": "execute_result",
          "execution_count": 11,
          "data": {
            "text/plain": "   data_set_3 key  data_set_4\n0           0   X           2\n1           0   X           3\n2           1   X           2\n3           1   X           3\n4           2   X           2\n5           2   X           3\n6           3   Y           0\n7           3   Y           1\n8           4   Z           4\n9           5   Z           4",
            "text/html": "<div>\n<table border=\"1\" class=\"dataframe\">\n  <thead>\n    <tr style=\"text-align: right;\">\n      <th></th>\n      <th>data_set_3</th>\n      <th>key</th>\n      <th>data_set_4</th>\n    </tr>\n  </thead>\n  <tbody>\n    <tr>\n      <th>0</th>\n      <td>0</td>\n      <td>X</td>\n      <td>2</td>\n    </tr>\n    <tr>\n      <th>1</th>\n      <td>0</td>\n      <td>X</td>\n      <td>3</td>\n    </tr>\n    <tr>\n      <th>2</th>\n      <td>1</td>\n      <td>X</td>\n      <td>2</td>\n    </tr>\n    <tr>\n      <th>3</th>\n      <td>1</td>\n      <td>X</td>\n      <td>3</td>\n    </tr>\n    <tr>\n      <th>4</th>\n      <td>2</td>\n      <td>X</td>\n      <td>2</td>\n    </tr>\n    <tr>\n      <th>5</th>\n      <td>2</td>\n      <td>X</td>\n      <td>3</td>\n    </tr>\n    <tr>\n      <th>6</th>\n      <td>3</td>\n      <td>Y</td>\n      <td>0</td>\n    </tr>\n    <tr>\n      <th>7</th>\n      <td>3</td>\n      <td>Y</td>\n      <td>1</td>\n    </tr>\n    <tr>\n      <th>8</th>\n      <td>4</td>\n      <td>Z</td>\n      <td>4</td>\n    </tr>\n    <tr>\n      <th>9</th>\n      <td>5</td>\n      <td>Z</td>\n      <td>4</td>\n    </tr>\n  </tbody>\n</table>\n</div>"
          },
          "metadata": {}
        }
      ]
    },
    {
      "metadata": {
        "trusted": true
      },
      "cell_type": "code",
      "source": "# Merging with multiple keys\ndf_left = pd.DataFrame({'key1': ['SF', 'SF', 'LA'],'key2': ['one', 'two', 'one'],'left_data': [10,20,30]})\ndf_left",
      "execution_count": 12,
      "outputs": [
        {
          "output_type": "execute_result",
          "execution_count": 12,
          "data": {
            "text/plain": "  key1 key2  left_data\n0   SF  one         10\n1   SF  two         20\n2   LA  one         30",
            "text/html": "<div>\n<table border=\"1\" class=\"dataframe\">\n  <thead>\n    <tr style=\"text-align: right;\">\n      <th></th>\n      <th>key1</th>\n      <th>key2</th>\n      <th>left_data</th>\n    </tr>\n  </thead>\n  <tbody>\n    <tr>\n      <th>0</th>\n      <td>SF</td>\n      <td>one</td>\n      <td>10</td>\n    </tr>\n    <tr>\n      <th>1</th>\n      <td>SF</td>\n      <td>two</td>\n      <td>20</td>\n    </tr>\n    <tr>\n      <th>2</th>\n      <td>LA</td>\n      <td>one</td>\n      <td>30</td>\n    </tr>\n  </tbody>\n</table>\n</div>"
          },
          "metadata": {}
        }
      ]
    },
    {
      "metadata": {
        "trusted": true
      },
      "cell_type": "code",
      "source": "df_right = pd.DataFrame({'key1': ['SF', 'SF', 'LA', 'LA'],'key2': ['one', 'one', 'one', 'two'],'right_data': [40,50,60,70]})\ndf_right",
      "execution_count": 13,
      "outputs": [
        {
          "output_type": "execute_result",
          "execution_count": 13,
          "data": {
            "text/plain": "  key1 key2  right_data\n0   SF  one          40\n1   SF  one          50\n2   LA  one          60\n3   LA  two          70",
            "text/html": "<div>\n<table border=\"1\" class=\"dataframe\">\n  <thead>\n    <tr style=\"text-align: right;\">\n      <th></th>\n      <th>key1</th>\n      <th>key2</th>\n      <th>right_data</th>\n    </tr>\n  </thead>\n  <tbody>\n    <tr>\n      <th>0</th>\n      <td>SF</td>\n      <td>one</td>\n      <td>40</td>\n    </tr>\n    <tr>\n      <th>1</th>\n      <td>SF</td>\n      <td>one</td>\n      <td>50</td>\n    </tr>\n    <tr>\n      <th>2</th>\n      <td>LA</td>\n      <td>one</td>\n      <td>60</td>\n    </tr>\n    <tr>\n      <th>3</th>\n      <td>LA</td>\n      <td>two</td>\n      <td>70</td>\n    </tr>\n  </tbody>\n</table>\n</div>"
          },
          "metadata": {}
        }
      ]
    },
    {
      "metadata": {
        "trusted": true
      },
      "cell_type": "code",
      "source": "pd.merge(df_left,df_right,how = 'inner')",
      "execution_count": 14,
      "outputs": [
        {
          "output_type": "execute_result",
          "execution_count": 14,
          "data": {
            "text/plain": "  key1 key2  left_data  right_data\n0   SF  one         10          40\n1   SF  one         10          50\n2   LA  one         30          60",
            "text/html": "<div>\n<table border=\"1\" class=\"dataframe\">\n  <thead>\n    <tr style=\"text-align: right;\">\n      <th></th>\n      <th>key1</th>\n      <th>key2</th>\n      <th>left_data</th>\n      <th>right_data</th>\n    </tr>\n  </thead>\n  <tbody>\n    <tr>\n      <th>0</th>\n      <td>SF</td>\n      <td>one</td>\n      <td>10</td>\n      <td>40</td>\n    </tr>\n    <tr>\n      <th>1</th>\n      <td>SF</td>\n      <td>one</td>\n      <td>10</td>\n      <td>50</td>\n    </tr>\n    <tr>\n      <th>2</th>\n      <td>LA</td>\n      <td>one</td>\n      <td>30</td>\n      <td>60</td>\n    </tr>\n  </tbody>\n</table>\n</div>"
          },
          "metadata": {}
        }
      ]
    },
    {
      "metadata": {
        "trusted": true
      },
      "cell_type": "code",
      "source": "pd.merge(df_left, df_right, on=['key1', 'key2'], how = 'inner')",
      "execution_count": null,
      "outputs": []
    },
    {
      "metadata": {
        "trusted": true
      },
      "cell_type": "code",
      "source": "pd.merge(df_left,df_right,on = 'key1') # merging on a single key when there is more than common column",
      "execution_count": null,
      "outputs": []
    },
    {
      "metadata": {},
      "cell_type": "markdown",
      "source": "Automatically renames the columns to identify which is from which df, by adding suffixes _x and _y;\n\nOr we can specify the suffices we want:"
    },
    {
      "metadata": {
        "trusted": true
      },
      "cell_type": "code",
      "source": "pd.merge(df_left,df_right,on = 'key1',suffixes=['_left','_right'])",
      "execution_count": 15,
      "outputs": [
        {
          "output_type": "execute_result",
          "execution_count": 15,
          "data": {
            "text/plain": "  key1 key2_left  left_data key2_right  right_data\n0   SF       one         10        one          40\n1   SF       one         10        one          50\n2   SF       two         20        one          40\n3   SF       two         20        one          50\n4   LA       one         30        one          60\n5   LA       one         30        two          70",
            "text/html": "<div>\n<table border=\"1\" class=\"dataframe\">\n  <thead>\n    <tr style=\"text-align: right;\">\n      <th></th>\n      <th>key1</th>\n      <th>key2_left</th>\n      <th>left_data</th>\n      <th>key2_right</th>\n      <th>right_data</th>\n    </tr>\n  </thead>\n  <tbody>\n    <tr>\n      <th>0</th>\n      <td>SF</td>\n      <td>one</td>\n      <td>10</td>\n      <td>one</td>\n      <td>40</td>\n    </tr>\n    <tr>\n      <th>1</th>\n      <td>SF</td>\n      <td>one</td>\n      <td>10</td>\n      <td>one</td>\n      <td>50</td>\n    </tr>\n    <tr>\n      <th>2</th>\n      <td>SF</td>\n      <td>two</td>\n      <td>20</td>\n      <td>one</td>\n      <td>40</td>\n    </tr>\n    <tr>\n      <th>3</th>\n      <td>SF</td>\n      <td>two</td>\n      <td>20</td>\n      <td>one</td>\n      <td>50</td>\n    </tr>\n    <tr>\n      <th>4</th>\n      <td>LA</td>\n      <td>one</td>\n      <td>30</td>\n      <td>one</td>\n      <td>60</td>\n    </tr>\n    <tr>\n      <th>5</th>\n      <td>LA</td>\n      <td>one</td>\n      <td>30</td>\n      <td>two</td>\n      <td>70</td>\n    </tr>\n  </tbody>\n</table>\n</div>"
          },
          "metadata": {}
        }
      ]
    },
    {
      "metadata": {},
      "cell_type": "markdown",
      "source": "<a name=\"concatenate\"></a>\n# Concatenate"
    },
    {
      "metadata": {
        "trusted": true
      },
      "cell_type": "code",
      "source": "arr1 = np.arange(9).reshape((3,3))\narr1",
      "execution_count": 16,
      "outputs": [
        {
          "output_type": "execute_result",
          "execution_count": 16,
          "data": {
            "text/plain": "array([[0, 1, 2],\n       [3, 4, 5],\n       [6, 7, 8]])"
          },
          "metadata": {}
        }
      ]
    },
    {
      "metadata": {
        "trusted": true
      },
      "cell_type": "code",
      "source": "arr2 = (np.arange(9) + 9).reshape((3,3))\narr2",
      "execution_count": 17,
      "outputs": [
        {
          "output_type": "execute_result",
          "execution_count": 17,
          "data": {
            "text/plain": "array([[ 9, 10, 11],\n       [12, 13, 14],\n       [15, 16, 17]])"
          },
          "metadata": {}
        }
      ]
    },
    {
      "metadata": {},
      "cell_type": "markdown",
      "source": "### Concatenate with <i>numpy</i>"
    },
    {
      "metadata": {
        "trusted": true
      },
      "cell_type": "code",
      "source": "np.concatenate([arr1,arr2],axis=1) # similar to R:cbind",
      "execution_count": 18,
      "outputs": [
        {
          "output_type": "execute_result",
          "execution_count": 18,
          "data": {
            "text/plain": "array([[ 0,  1,  2,  9, 10, 11],\n       [ 3,  4,  5, 12, 13, 14],\n       [ 6,  7,  8, 15, 16, 17]])"
          },
          "metadata": {}
        }
      ]
    },
    {
      "metadata": {
        "trusted": true
      },
      "cell_type": "code",
      "source": "np.concatenate([arr1,arr2],axis=0) # similar to R:rbind",
      "execution_count": 19,
      "outputs": [
        {
          "output_type": "execute_result",
          "execution_count": 19,
          "data": {
            "text/plain": "array([[ 0,  1,  2],\n       [ 3,  4,  5],\n       [ 6,  7,  8],\n       [ 9, 10, 11],\n       [12, 13, 14],\n       [15, 16, 17]])"
          },
          "metadata": {}
        }
      ]
    },
    {
      "metadata": {},
      "cell_type": "markdown",
      "source": "### Concatenate with <i>pandas</i>"
    },
    {
      "metadata": {
        "trusted": true
      },
      "cell_type": "code",
      "source": "ser1 =  Series([0,1,2],index=['T','U','V'])\nser1",
      "execution_count": 20,
      "outputs": [
        {
          "output_type": "execute_result",
          "execution_count": 20,
          "data": {
            "text/plain": "T    0\nU    1\nV    2\ndtype: int64"
          },
          "metadata": {}
        }
      ]
    },
    {
      "metadata": {
        "trusted": true
      },
      "cell_type": "code",
      "source": "ser2 = Series([3,4,5],index=['T','U','X'])\nser2",
      "execution_count": 29,
      "outputs": [
        {
          "output_type": "execute_result",
          "execution_count": 29,
          "data": {
            "text/plain": "T    3\nU    4\nX    5\ndtype: int64"
          },
          "metadata": {}
        }
      ]
    },
    {
      "metadata": {
        "trusted": true
      },
      "cell_type": "code",
      "source": "pd.concat([ser1,ser2]) # default is by row (axis = 0) - result is a series",
      "execution_count": 30,
      "outputs": [
        {
          "output_type": "execute_result",
          "execution_count": 30,
          "data": {
            "text/plain": "T    0\nU    1\nV    2\nT    3\nU    4\nX    5\ndtype: int64"
          },
          "metadata": {}
        }
      ]
    },
    {
      "metadata": {
        "trusted": true
      },
      "cell_type": "code",
      "source": "pd.concat([ser1,ser2],axis=1) # by column (axis = 1) - result is a data frame",
      "execution_count": 31,
      "outputs": [
        {
          "output_type": "execute_result",
          "execution_count": 31,
          "data": {
            "text/plain": "     0    1\nT  0.0  3.0\nU  1.0  4.0\nV  2.0  NaN\nX  NaN  5.0",
            "text/html": "<div>\n<table border=\"1\" class=\"dataframe\">\n  <thead>\n    <tr style=\"text-align: right;\">\n      <th></th>\n      <th>0</th>\n      <th>1</th>\n    </tr>\n  </thead>\n  <tbody>\n    <tr>\n      <th>T</th>\n      <td>0.0</td>\n      <td>3.0</td>\n    </tr>\n    <tr>\n      <th>U</th>\n      <td>1.0</td>\n      <td>4.0</td>\n    </tr>\n    <tr>\n      <th>V</th>\n      <td>2.0</td>\n      <td>NaN</td>\n    </tr>\n    <tr>\n      <th>X</th>\n      <td>NaN</td>\n      <td>5.0</td>\n    </tr>\n  </tbody>\n</table>\n</div>"
          },
          "metadata": {}
        }
      ]
    },
    {
      "metadata": {
        "trusted": true
      },
      "cell_type": "code",
      "source": "pd.concat([ser1,ser2],keys = ['cat1','cat2']) # creates an additional (hierarchical) index",
      "execution_count": 32,
      "outputs": [
        {
          "output_type": "execute_result",
          "execution_count": 32,
          "data": {
            "text/plain": "cat1  T    0\n      U    1\n      V    2\ncat2  T    3\n      U    4\n      X    5\ndtype: int64"
          },
          "metadata": {}
        }
      ]
    },
    {
      "metadata": {
        "trusted": true
      },
      "cell_type": "code",
      "source": "pd.concat([ser1,ser2],keys=['cat1','cat2'],axis = 1) # if we concatenate by column, the keys become column names",
      "execution_count": null,
      "outputs": []
    },
    {
      "metadata": {},
      "cell_type": "markdown",
      "source": "### Works the same way for data frames"
    },
    {
      "metadata": {
        "trusted": true
      },
      "cell_type": "code",
      "source": "from numpy.random import randn # if I don't do this, I can still use function randn by calling np.random.randn",
      "execution_count": 33,
      "outputs": []
    },
    {
      "metadata": {
        "trusted": true
      },
      "cell_type": "code",
      "source": "dframe1 = pd.DataFrame(randn(4,3), columns=['X', 'Y', 'Z'])\ndframe1",
      "execution_count": 34,
      "outputs": [
        {
          "output_type": "execute_result",
          "execution_count": 34,
          "data": {
            "text/plain": "          X         Y         Z\n0 -1.123813  1.396660  0.221301\n1  0.765630 -1.148955 -0.153888\n2  0.510349  0.833771 -0.941815\n3  1.737759 -1.352708  1.748061",
            "text/html": "<div>\n<table border=\"1\" class=\"dataframe\">\n  <thead>\n    <tr style=\"text-align: right;\">\n      <th></th>\n      <th>X</th>\n      <th>Y</th>\n      <th>Z</th>\n    </tr>\n  </thead>\n  <tbody>\n    <tr>\n      <th>0</th>\n      <td>-1.123813</td>\n      <td>1.396660</td>\n      <td>0.221301</td>\n    </tr>\n    <tr>\n      <th>1</th>\n      <td>0.765630</td>\n      <td>-1.148955</td>\n      <td>-0.153888</td>\n    </tr>\n    <tr>\n      <th>2</th>\n      <td>0.510349</td>\n      <td>0.833771</td>\n      <td>-0.941815</td>\n    </tr>\n    <tr>\n      <th>3</th>\n      <td>1.737759</td>\n      <td>-1.352708</td>\n      <td>1.748061</td>\n    </tr>\n  </tbody>\n</table>\n</div>"
          },
          "metadata": {}
        }
      ]
    },
    {
      "metadata": {
        "trusted": true
      },
      "cell_type": "code",
      "source": "dframe2 = pd.DataFrame(randn(3, 3), columns=['Y', 'Q', 'X'])\ndframe2",
      "execution_count": 35,
      "outputs": [
        {
          "output_type": "execute_result",
          "execution_count": 35,
          "data": {
            "text/plain": "          Y         Q         X\n0  1.389217 -0.373733  1.197274\n1 -2.391790 -0.823822  0.397226\n2 -0.260245  1.692877  1.841357",
            "text/html": "<div>\n<table border=\"1\" class=\"dataframe\">\n  <thead>\n    <tr style=\"text-align: right;\">\n      <th></th>\n      <th>Y</th>\n      <th>Q</th>\n      <th>X</th>\n    </tr>\n  </thead>\n  <tbody>\n    <tr>\n      <th>0</th>\n      <td>1.389217</td>\n      <td>-0.373733</td>\n      <td>1.197274</td>\n    </tr>\n    <tr>\n      <th>1</th>\n      <td>-2.391790</td>\n      <td>-0.823822</td>\n      <td>0.397226</td>\n    </tr>\n    <tr>\n      <th>2</th>\n      <td>-0.260245</td>\n      <td>1.692877</td>\n      <td>1.841357</td>\n    </tr>\n  </tbody>\n</table>\n</div>"
          },
          "metadata": {}
        }
      ]
    },
    {
      "metadata": {
        "trusted": true
      },
      "cell_type": "code",
      "source": "pd.concat([dframe1,dframe2]) # preserves the original indices",
      "execution_count": 36,
      "outputs": [
        {
          "output_type": "execute_result",
          "execution_count": 36,
          "data": {
            "text/plain": "          Q         X         Y         Z\n0       NaN -1.123813  1.396660  0.221301\n1       NaN  0.765630 -1.148955 -0.153888\n2       NaN  0.510349  0.833771 -0.941815\n3       NaN  1.737759 -1.352708  1.748061\n0 -0.373733  1.197274  1.389217       NaN\n1 -0.823822  0.397226 -2.391790       NaN\n2  1.692877  1.841357 -0.260245       NaN",
            "text/html": "<div>\n<table border=\"1\" class=\"dataframe\">\n  <thead>\n    <tr style=\"text-align: right;\">\n      <th></th>\n      <th>Q</th>\n      <th>X</th>\n      <th>Y</th>\n      <th>Z</th>\n    </tr>\n  </thead>\n  <tbody>\n    <tr>\n      <th>0</th>\n      <td>NaN</td>\n      <td>-1.123813</td>\n      <td>1.396660</td>\n      <td>0.221301</td>\n    </tr>\n    <tr>\n      <th>1</th>\n      <td>NaN</td>\n      <td>0.765630</td>\n      <td>-1.148955</td>\n      <td>-0.153888</td>\n    </tr>\n    <tr>\n      <th>2</th>\n      <td>NaN</td>\n      <td>0.510349</td>\n      <td>0.833771</td>\n      <td>-0.941815</td>\n    </tr>\n    <tr>\n      <th>3</th>\n      <td>NaN</td>\n      <td>1.737759</td>\n      <td>-1.352708</td>\n      <td>1.748061</td>\n    </tr>\n    <tr>\n      <th>0</th>\n      <td>-0.373733</td>\n      <td>1.197274</td>\n      <td>1.389217</td>\n      <td>NaN</td>\n    </tr>\n    <tr>\n      <th>1</th>\n      <td>-0.823822</td>\n      <td>0.397226</td>\n      <td>-2.391790</td>\n      <td>NaN</td>\n    </tr>\n    <tr>\n      <th>2</th>\n      <td>1.692877</td>\n      <td>1.841357</td>\n      <td>-0.260245</td>\n      <td>NaN</td>\n    </tr>\n  </tbody>\n</table>\n</div>"
          },
          "metadata": {}
        }
      ]
    },
    {
      "metadata": {
        "trusted": true
      },
      "cell_type": "code",
      "source": "pd.concat([dframe1,dframe2],ignore_index = True) # ignores original index and creates new (continuous) index",
      "execution_count": 37,
      "outputs": [
        {
          "output_type": "execute_result",
          "execution_count": 37,
          "data": {
            "text/plain": "          Q         X         Y         Z\n0       NaN -1.123813  1.396660  0.221301\n1       NaN  0.765630 -1.148955 -0.153888\n2       NaN  0.510349  0.833771 -0.941815\n3       NaN  1.737759 -1.352708  1.748061\n4 -0.373733  1.197274  1.389217       NaN\n5 -0.823822  0.397226 -2.391790       NaN\n6  1.692877  1.841357 -0.260245       NaN",
            "text/html": "<div>\n<table border=\"1\" class=\"dataframe\">\n  <thead>\n    <tr style=\"text-align: right;\">\n      <th></th>\n      <th>Q</th>\n      <th>X</th>\n      <th>Y</th>\n      <th>Z</th>\n    </tr>\n  </thead>\n  <tbody>\n    <tr>\n      <th>0</th>\n      <td>NaN</td>\n      <td>-1.123813</td>\n      <td>1.396660</td>\n      <td>0.221301</td>\n    </tr>\n    <tr>\n      <th>1</th>\n      <td>NaN</td>\n      <td>0.765630</td>\n      <td>-1.148955</td>\n      <td>-0.153888</td>\n    </tr>\n    <tr>\n      <th>2</th>\n      <td>NaN</td>\n      <td>0.510349</td>\n      <td>0.833771</td>\n      <td>-0.941815</td>\n    </tr>\n    <tr>\n      <th>3</th>\n      <td>NaN</td>\n      <td>1.737759</td>\n      <td>-1.352708</td>\n      <td>1.748061</td>\n    </tr>\n    <tr>\n      <th>4</th>\n      <td>-0.373733</td>\n      <td>1.197274</td>\n      <td>1.389217</td>\n      <td>NaN</td>\n    </tr>\n    <tr>\n      <th>5</th>\n      <td>-0.823822</td>\n      <td>0.397226</td>\n      <td>-2.391790</td>\n      <td>NaN</td>\n    </tr>\n    <tr>\n      <th>6</th>\n      <td>1.692877</td>\n      <td>1.841357</td>\n      <td>-0.260245</td>\n      <td>NaN</td>\n    </tr>\n  </tbody>\n</table>\n</div>"
          },
          "metadata": {}
        }
      ]
    },
    {
      "metadata": {
        "trusted": true
      },
      "cell_type": "code",
      "source": "pd.concat([dframe1,dframe2],axis = 1)",
      "execution_count": null,
      "outputs": []
    },
    {
      "metadata": {},
      "cell_type": "markdown",
      "source": "## End of video 6"
    }
  ],
  "metadata": {
    "kernelspec": {
      "name": "python3",
      "display_name": "Python 3",
      "language": "python"
    },
    "language_info": {
      "mimetype": "text/x-python",
      "nbconvert_exporter": "python",
      "name": "python",
      "pygments_lexer": "ipython3",
      "version": "3.5.4",
      "file_extension": ".py",
      "codemirror_mode": {
        "version": 3,
        "name": "ipython"
      }
    }
  },
  "nbformat": 4,
  "nbformat_minor": 2
}