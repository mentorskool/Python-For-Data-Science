{
 "cells": [
  {
   "cell_type": "markdown",
   "metadata": {},
   "source": [
    "Hypothesis: A statement on parameters which is yet to be proved but taken for argument.\n",
    "- There are two types of hypotheis: Null and Alternative \n",
    "- Null: Hypothesis of no difference\n",
    "- Alternative: Hypothesis of difference"
   ]
  },
  {
   "cell_type": "markdown",
   "metadata": {},
   "source": [
    "- Type I error: Occurs when we reject a true null hypothesis\n",
    "- Type II error: Not rejecting a false null hypothesis "
   ]
  },
  {
   "cell_type": "markdown",
   "metadata": {},
   "source": [
    "- Significance level: Measure how frequently the conclusion will be wrong. (Type I error - alpha)\n",
    "- Rejection Region: A range of values such that if the test statistics (say z score) falls into that range, we decide to reject null hypothesis in favour of alternative hypothesis\n",
    "    - If calculated test statistics < table value then accept the null hypothesis\n",
    "    - If calculated test statistics > table value(falls in rejection region) then reject null hypothesis\n",
    "- P value: \"Strength of evidence in support of a null hypothesis\"\n",
    "    - P value is the probability of observing a test statistics as extreme as the one computed, assuming that the null hypothesis is true"
   ]
  },
  {
   "cell_type": "markdown",
   "metadata": {},
   "source": [
    "Population mean and standard deviation is known, population is normal(or approx)\n",
    "- $z=\\frac{\\bar{x}-\\mu}{\\frac{\\sigma}{\\sqrt(n)}}$\n",
    "- To apply normal distribution: population mean, population standard deviation, N>=30"
   ]
  },
  {
   "cell_type": "code",
   "execution_count": 8,
   "metadata": {},
   "outputs": [],
   "source": [
    "import pandas as pd\n",
    "import numpy as np"
   ]
  },
  {
   "cell_type": "code",
   "execution_count": 9,
   "metadata": {},
   "outputs": [
    {
     "data": {
      "text/plain": [
       "0    55.000000\n",
       "1    54.000000\n",
       "2    62.589736\n",
       "3    53.000000\n",
       "4    59.372035\n",
       "Name: Minutes, dtype: float64"
      ]
     },
     "execution_count": 9,
     "metadata": {},
     "output_type": "execute_result"
    }
   ],
   "source": [
    "data=pd.read_excel('Hypothesis Testing.xlsx',sheet_name='One Sample z').iloc[:,0]\n",
    "data.head()"
   ]
  },
  {
   "cell_type": "code",
   "execution_count": 10,
   "metadata": {},
   "outputs": [
    {
     "data": {
      "text/plain": [
       "(35,)"
      ]
     },
     "execution_count": 10,
     "metadata": {},
     "output_type": "execute_result"
    }
   ],
   "source": [
    "data.shape"
   ]
  },
  {
   "cell_type": "code",
   "execution_count": 11,
   "metadata": {},
   "outputs": [
    {
     "data": {
      "text/plain": [
       "count    35.000000\n",
       "mean     51.058857\n",
       "std       7.445037\n",
       "min      37.347848\n",
       "25%      46.160073\n",
       "50%      50.400279\n",
       "75%      54.869239\n",
       "max      65.960233\n",
       "Name: Minutes, dtype: float64"
      ]
     },
     "execution_count": 11,
     "metadata": {},
     "output_type": "execute_result"
    }
   ],
   "source": [
    "data.describe()"
   ]
  },
  {
   "cell_type": "code",
   "execution_count": 8,
   "metadata": {},
   "outputs": [],
   "source": [
    "#H0: Average amount of daily televious minutes watched by young adult men is 50. (Sample mean is same as population mean)\n",
    "#H1: Average amount of daily televious minutes watched by young adult men >50. (Sample mean is >50)"
   ]
  },
  {
   "cell_type": "code",
   "execution_count": 15,
   "metadata": {},
   "outputs": [],
   "source": [
    "#Sample mean > population mean : Right tailed --> 1-P(x)"
   ]
  },
  {
   "cell_type": "code",
   "execution_count": 13,
   "metadata": {},
   "outputs": [
    {
     "data": {
      "text/plain": [
       "(0.8414036993777245, 0.20006090686584627)"
      ]
     },
     "execution_count": 13,
     "metadata": {},
     "output_type": "execute_result"
    }
   ],
   "source": [
    "from statsmodels.stats import weightstats as test\n",
    "test.ztest(data,value=50,alternative='larger') #RIght tailed test"
   ]
  },
  {
   "cell_type": "code",
   "execution_count": 21,
   "metadata": {},
   "outputs": [],
   "source": [
    "#Since p value is > alpha accept the null hypothesis."
   ]
  },
  {
   "cell_type": "code",
   "execution_count": 14,
   "metadata": {},
   "outputs": [
    {
     "data": {
      "text/plain": [
       "0     3.03\n",
       "1     6.33\n",
       "2     6.50\n",
       "3     5.22\n",
       "4     3.56\n",
       "5     6.76\n",
       "6     7.98\n",
       "7     4.82\n",
       "8     7.96\n",
       "9     4.54\n",
       "10    5.09\n",
       "11    6.46\n",
       "Name: D.Time, dtype: float64"
      ]
     },
     "execution_count": 14,
     "metadata": {},
     "output_type": "execute_result"
    }
   ],
   "source": [
    "data=pd.read_excel('Hypothesis Testing.xlsx',sheet_name='One sample T').iloc[:,0]\n",
    "data"
   ]
  },
  {
   "cell_type": "code",
   "execution_count": 15,
   "metadata": {},
   "outputs": [],
   "source": [
    "#N=12,pop mean =6 , alpha=0.05"
   ]
  },
  {
   "cell_type": "markdown",
   "metadata": {},
   "source": [
    "Population mean is known and population standard deviation is unknown, population is normal, N<30\n",
    "- $t=\\frac{\\bar{x}-\\mu}{\\frac{s}{\\sqrt(n)}}$"
   ]
  },
  {
   "cell_type": "code",
   "execution_count": 16,
   "metadata": {},
   "outputs": [
    {
     "data": {
      "text/plain": [
       "count    12.000000\n",
       "mean      5.687500\n",
       "std       1.580369\n",
       "min       3.030000\n",
       "25%       4.750000\n",
       "50%       5.775000\n",
       "75%       6.565000\n",
       "max       7.980000\n",
       "Name: D.Time, dtype: float64"
      ]
     },
     "execution_count": 16,
     "metadata": {},
     "output_type": "execute_result"
    }
   ],
   "source": [
    "data.describe()"
   ]
  },
  {
   "cell_type": "code",
   "execution_count": null,
   "metadata": {},
   "outputs": [],
   "source": [
    "#H0: Average delivery time is 6 hours.\n",
    "#H1: Average delivery time is less than 6 hours"
   ]
  },
  {
   "cell_type": "code",
   "execution_count": null,
   "metadata": {},
   "outputs": [],
   "source": [
    "#Sample mean < population mean : left tailed --> p(x)"
   ]
  },
  {
   "cell_type": "code",
   "execution_count": 18,
   "metadata": {},
   "outputs": [
    {
     "data": {
      "text/plain": [
       "Ttest_1sampResult(statistic=-0.6849867420895185, pvalue=0.5075293854463145)"
      ]
     },
     "execution_count": 18,
     "metadata": {},
     "output_type": "execute_result"
    }
   ],
   "source": [
    "from scipy.stats import ttest_1samp\n",
    "ttest_1samp(data,6)"
   ]
  },
  {
   "cell_type": "code",
   "execution_count": null,
   "metadata": {},
   "outputs": [],
   "source": []
  }
 ],
 "metadata": {
  "kernelspec": {
   "display_name": "Python 3",
   "language": "python",
   "name": "python3"
  },
  "language_info": {
   "codemirror_mode": {
    "name": "ipython",
    "version": 3
   },
   "file_extension": ".py",
   "mimetype": "text/x-python",
   "name": "python",
   "nbconvert_exporter": "python",
   "pygments_lexer": "ipython3",
   "version": "3.6.4"
  }
 },
 "nbformat": 4,
 "nbformat_minor": 4
}
