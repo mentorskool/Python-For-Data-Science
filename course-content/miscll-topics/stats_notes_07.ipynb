{
 "cells": [
  {
   "cell_type": "code",
   "execution_count": 24,
   "metadata": {},
   "outputs": [],
   "source": [
    "import pandas as pd\n",
    "df = pd.read_csv(\"https://raw.githubusercontent.com/Opensourcefordatascience/Data-sets/master/crop_yield.csv\")"
   ]
  },
  {
   "cell_type": "code",
   "execution_count": 31,
   "metadata": {},
   "outputs": [
    {
     "name": "stdout",
     "output_type": "stream",
     "text": [
      "69.19199999999982\n",
      "63.3680000000001\n"
     ]
    }
   ],
   "source": [
    "gmean=df['Yield'].mean()\n",
    "\n",
    "#Sum of squares - Fert\n",
    "ssq_fert=sum([(df[df.Fert==f].Yield.mean()-gmean)**2 for f in df.Fert])\n",
    "print(ssq_fert)\n",
    "\n",
    "#Sum of squares - Water\n",
    "ssq_water=sum([(df[df.Water==w].Yield.mean()-gmean)**2 for w in df.Water])\n",
    "print(ssq_water)\n",
    "\n",
    "#Sum of Squares Total\n",
    "ssq_t = sum((df.Yield - gmean)**2)"
   ]
  },
  {
   "cell_type": "code",
   "execution_count": 34,
   "metadata": {},
   "outputs": [
    {
     "name": "stdout",
     "output_type": "stream",
     "text": [
      "192.0\n",
      "15.48800000000017\n"
     ]
    }
   ],
   "source": [
    "df.Fert.unique()\n",
    "\n",
    "df.Water.unique()\n",
    "\n",
    "A = df[df.Fert == 'A']\n",
    "B = df[df.Fert == 'B']\n",
    "\n",
    "A_yield_means = [A[A.Water == w].Yield.mean() for w in A.Water]\n",
    "B_yield_means = [B[B.Water == w].Yield.mean() for w in B.Water]\n",
    "\n",
    "ssq_w = sum((B.Yield - B_yield_means)**2) +sum((A.Yield - A_yield_means)**2)\n",
    "\n",
    "ssq_fw = ssq_t-ssq_fert-ssq_water-ssq_w\n",
    "print(ssq_w)\n",
    "print(ssq_fw)"
   ]
  },
  {
   "cell_type": "code",
   "execution_count": 27,
   "metadata": {},
   "outputs": [],
   "source": [
    "#Degrees of freedom\n",
    "N = len(df.Yield)\n",
    "df_fert = len(df.Fert.unique()) - 1\n",
    "df_water = len(df.Water.unique()) - 1\n",
    "df_fw = df_fert*df_water\n",
    "df_w = N - (len(df.Water.unique())*len(df.Fert.unique()))"
   ]
  },
  {
   "cell_type": "code",
   "execution_count": 28,
   "metadata": {},
   "outputs": [],
   "source": [
    "#Mean squares Fert\n",
    "ms_f=ssq_fert/df_fert\n",
    "\n",
    "#Mean squares Water\n",
    "ms_wt=ssq_water/df_water\n",
    "\n",
    "#Mean square FertxWater\n",
    "ms_fw=ssq_fw/df_fw\n",
    "\n",
    "#Mean square within/error/residual\n",
    "ms_w=ssq_w/df_w"
   ]
  },
  {
   "cell_type": "code",
   "execution_count": 29,
   "metadata": {},
   "outputs": [
    {
     "name": "stdout",
     "output_type": "stream",
     "text": [
      "5.765999999999985\n",
      "5.280666666666675\n",
      "1.2906666666666808\n"
     ]
    }
   ],
   "source": [
    "#F-ratio\n",
    "f_fert = ms_f/ms_w\n",
    "f_water = ms_wt/ms_w\n",
    "f_fw= ms_fw/ms_w\n",
    "\n",
    "print(f_fert)\n",
    "print(f_water)\n",
    "print(f_fw)"
   ]
  },
  {
   "cell_type": "code",
   "execution_count": 3,
   "metadata": {},
   "outputs": [
    {
     "name": "stdout",
     "output_type": "stream",
     "text": [
      "0.25121419743541884\n",
      "0.035386422088568646\n",
      "0.27265603838406544\n"
     ]
    }
   ],
   "source": [
    "from scipy.stats import f\n",
    "p_f = f.sf(f_fert, df_fert, df_water)\n",
    "p_w = f.sf(f_water, df_water, df_w)\n",
    "p_fw =f.sf(f_fw, df_fw, df_w)\n",
    "\n",
    "print(p_f)\n",
    "print(p_w)\n",
    "print(p_fw)"
   ]
  },
  {
   "cell_type": "code",
   "execution_count": null,
   "metadata": {},
   "outputs": [],
   "source": []
  }
 ],
 "metadata": {
  "kernelspec": {
   "display_name": "Python 3",
   "language": "python",
   "name": "python3"
  },
  "language_info": {
   "codemirror_mode": {
    "name": "ipython",
    "version": 3
   },
   "file_extension": ".py",
   "mimetype": "text/x-python",
   "name": "python",
   "nbconvert_exporter": "python",
   "pygments_lexer": "ipython3",
   "version": "3.6.4"
  }
 },
 "nbformat": 4,
 "nbformat_minor": 4
}
