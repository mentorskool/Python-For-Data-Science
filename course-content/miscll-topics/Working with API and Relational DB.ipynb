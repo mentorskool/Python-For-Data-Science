{
 "cells": [
  {
   "cell_type": "code",
   "execution_count": 1,
   "metadata": {},
   "outputs": [],
   "source": [
    "import requests,json\n",
    "import os\n",
    "import csv\n",
    "import pyodbc\n",
    "import pandas as pd"
   ]
  },
  {
   "cell_type": "code",
   "execution_count": 61,
   "metadata": {},
   "outputs": [
    {
     "data": {
      "text/plain": [
       "'G:\\\\My Drive\\\\Business\\\\Fractal\\\\project-imagineers-sep-2021'"
      ]
     },
     "execution_count": 61,
     "metadata": {},
     "output_type": "execute_result"
    }
   ],
   "source": [
    "os.getcwd()"
   ]
  },
  {
   "cell_type": "code",
   "execution_count": 2,
   "metadata": {},
   "outputs": [],
   "source": [
    "cities = ['New York',\n",
    "'Austin',\n",
    "'San Francisco',\n",
    "'Atlanta',\n",
    "'Seattle',\n",
    "'Boston',\n",
    "'Los Angeles',\n",
    "'Houston',\n",
    "'Chicago',\n",
    "'Miami']"
   ]
  },
  {
   "cell_type": "markdown",
   "metadata": {},
   "source": [
    "## Reading data from weather API and save the data in CSV"
   ]
  },
  {
   "cell_type": "code",
   "execution_count": 4,
   "metadata": {},
   "outputs": [],
   "source": [
    "# importing requests and json\n",
    "import requests, json\n",
    "# base URL\n",
    "BASE_URL = \"https://api.openweathermap.org/data/2.5/weather?\"\n",
    "# API key \n",
    "API_KEY = \"1b1d68528c0943235c89c1aa1dd1e0b6\"\n",
    "# upadting the URL\n",
    "row = []\n",
    "\n",
    "with open('./city_weather.csv','w',newline = '\\n') as f :\n",
    "    file_writer = csv.writer(f,delimiter = ',')\n",
    "    file_writer.writerow(['city','humidity','pressure','temperature'])\n",
    "    for city in cities :\n",
    "        response = requests.get(BASE_URL + \"q=\" + city + \"&appid=\" + API_KEY)\n",
    "        row.append(city)\n",
    "        data = response.json()\n",
    "        row.append(data['main']['humidity'])\n",
    "        row.append(data['main']['pressure'])\n",
    "        row.append(data['main']['temp'])\n",
    "        file_writer.writerow(row)\n",
    "        row = []\n",
    "    f.close()     \n",
    "        \n",
    "    "
   ]
  },
  {
   "cell_type": "markdown",
   "metadata": {},
   "source": [
    "## Reading data from an API and save it in a table in Database"
   ]
  },
  {
   "cell_type": "code",
   "execution_count": 5,
   "metadata": {},
   "outputs": [],
   "source": [
    "server = 'mskl-db-server.database.windows.net'\n",
    "database = 'fractal-db'\n",
    "username = 'learner01'\n",
    "password = '!@#sw2aq1'\n",
    "driver= '{ODBC Driver 17 for SQL Server}'"
   ]
  },
  {
   "cell_type": "code",
   "execution_count": 6,
   "metadata": {},
   "outputs": [],
   "source": [
    "cnxn = pyodbc.connect('DRIVER='+driver+';SERVER='+server+';PORT=1433;DATABASE='+database+';UID='+username+';PWD='+ password)\n",
    "cursor = cnxn.cursor()"
   ]
  },
  {
   "cell_type": "code",
   "execution_count": 79,
   "metadata": {},
   "outputs": [],
   "source": [
    "# importing requests and json\n",
    "import requests, json\n",
    "# base URL\n",
    "BASE_URL = \"https://api.openweathermap.org/data/2.5/weather?\"\n",
    "# API key \n",
    "API_KEY = \"1b1d68528c0943235c89c1aa1dd1e0b6\"\n",
    "# upadting the URL\n",
    "row = []\n",
    "df = pd.DataFrame(columns = ['city','humidity','pressure','temperature'])\n",
    "\n",
    "for city in range(len(cities)) :\n",
    "    response = requests.get(BASE_URL + \"q=\" + city + \"&appid=\" + API_KEY)\n",
    "    data = response.json()\n",
    "    cursor.execute(\"INSERT INTO city_temperatures(city_name,humidity,pressure,temperature) values(?,?,?,?)\",\n",
    "                   city,\n",
    "                   data['main']['humidity'],\n",
    "                   data['main']['pressure'],\n",
    "                   data['main']['temp'])\n",
    "    \n",
    "cnxn.commit()\n",
    "cursor.close()  "
   ]
  },
  {
   "cell_type": "code",
   "execution_count": 87,
   "metadata": {
    "scrolled": false
   },
   "outputs": [
    {
     "name": "stdout",
     "output_type": "stream",
     "text": [
      "(18, 'Los Angeles', 75.0, 1015.0, 294.1)\n"
     ]
    }
   ],
   "source": [
    "cursor.execute(\"\"\"\n",
    "               select * from city_temperatures where humidity = \n",
    "               (select min(humidity) from city_temperatures)\n",
    "               \"\"\"\n",
    "              )\n",
    "\n",
    "for row in cursor:\n",
    "    print(row)\n",
    "\n",
    "cnxn.commit()\n",
    "cursor.close()"
   ]
  },
  {
   "cell_type": "markdown",
   "metadata": {},
   "source": [
    "### Question : \n",
    "\n",
    "* Create a summary table of month-wise order statistics : (Use only Python) (Naming Convention : <your_name_initials>_order_summary)\n",
    "* Columns : \n",
    "    * Year\n",
    "    * Month\n",
    "    * No. of Orders\n",
    "    * Total Order Value\n",
    "    * Avg. Basket Value\n",
    "    * Avg. Order-to-Delivery Duration\n",
    "    * Avg. Delay\n",
    "    * No of Late Orders\n",
    "\n",
    "* Use Python to perform data wrangling and prepare a dataframe having structure as shown above\n",
    "* Write the dataframe back to the table\n",
    "* Connect with SQL Server and run a query on the new table"
   ]
  }
 ],
 "metadata": {
  "kernelspec": {
   "display_name": "Python 3",
   "language": "python",
   "name": "python3"
  },
  "language_info": {
   "codemirror_mode": {
    "name": "ipython",
    "version": 3
   },
   "file_extension": ".py",
   "mimetype": "text/x-python",
   "name": "python",
   "nbconvert_exporter": "python",
   "pygments_lexer": "ipython3",
   "version": "3.6.4"
  }
 },
 "nbformat": 4,
 "nbformat_minor": 2
}
