{
  "cells": [
    {
      "metadata": {},
      "cell_type": "markdown",
      "source": "# Part 4"
    },
    {
      "metadata": {},
      "cell_type": "markdown",
      "source": "## Reading and writing text files"
    },
    {
      "metadata": {
        "trusted": true
      },
      "cell_type": "code",
      "source": "import numpy as np\nimport pandas as pd\nfrom pandas import Series,DataFrame",
      "execution_count": 1,
      "outputs": []
    },
    {
      "metadata": {
        "trusted": true
      },
      "cell_type": "code",
      "source": "import os\nos.getcwd()",
      "execution_count": null,
      "outputs": []
    },
    {
      "metadata": {
        "trusted": true
      },
      "cell_type": "code",
      "source": "os.chdir(\"data/\") # same as R:setwd('')",
      "execution_count": null,
      "outputs": []
    },
    {
      "metadata": {
        "trusted": true
      },
      "cell_type": "code",
      "source": "os.listdir()",
      "execution_count": null,
      "outputs": []
    },
    {
      "metadata": {},
      "cell_type": "markdown",
      "source": "Files can be read using functions such as *read()* and *readlines()*, or by treating the file as an iterable object  of lines and working with the lines directly.\n\nHowever in data science and analytics, we most commonly work with rectangular data stored in a familiar format such as CSV"
    },
    {
      "metadata": {
        "trusted": true
      },
      "cell_type": "code",
      "source": "dframe = pd.read_csv(\"dummydata1.csv\",header = None) # R:read.csv",
      "execution_count": null,
      "outputs": []
    },
    {
      "metadata": {
        "trusted": true
      },
      "cell_type": "code",
      "source": "dframe",
      "execution_count": null,
      "outputs": []
    },
    {
      "metadata": {
        "collapsed": true
      },
      "cell_type": "markdown",
      "source": "You don't actually HAVE to change directory; instead, you can leave your working directory unchanged and specify the file path when reading:\n\n*e.g.* `read_csv(\"D:/Training/Datasets/dummydata1.csv\")`"
    },
    {
      "metadata": {},
      "cell_type": "markdown",
      "source": "#### File modes\n\nWhen you open a file, by default it is opened in read mode. However this is not the only mode available. The mode of a file object states whether the file connection that we have opened will treat the file as containing text or binary data and whether we will be reading from or writing to the file or both. The following is a table of modes that file objects can have in Python3.\n\n| Character | Meaning                                                         |\n|-----------|-----------------------------------------------------------------|\n| r         | open for reading (default)                                      |\n| w         | open for writing, truncating the file first                     |\n| x         | open for exclusive creation, failing if the file already exists |\n| a         | open for writing, appending to the end of the file if it exists |\n| b         | binary mode                                                     |\n| t         | text mode (default)                                             |\n| +         | open a disk file for updating (reading and writing)             |"
    },
    {
      "metadata": {
        "trusted": true
      },
      "cell_type": "code",
      "source": "dframe # first row taken as headers",
      "execution_count": null,
      "outputs": []
    },
    {
      "metadata": {
        "trusted": true
      },
      "cell_type": "code",
      "source": "dframe = pd.read_csv(\"dummydata1.csv\",header = None)\ndframe",
      "execution_count": null,
      "outputs": []
    },
    {
      "metadata": {
        "trusted": true
      },
      "cell_type": "code",
      "source": "dframe",
      "execution_count": null,
      "outputs": []
    },
    {
      "metadata": {
        "trusted": true
      },
      "cell_type": "code",
      "source": "import pandas as pd\ndframe = pd.read_table(\"dummydata11.csv\",sep = '|') # generic delimited file input; R:read.table\ndframe",
      "execution_count": null,
      "outputs": []
    },
    {
      "metadata": {
        "trusted": true
      },
      "cell_type": "code",
      "source": "pd.read_csv(\"dummydata1.csv\",header = None,nrows = 2) # read only a specific number of rows",
      "execution_count": null,
      "outputs": []
    },
    {
      "metadata": {
        "trusted": true
      },
      "cell_type": "code",
      "source": "dframe",
      "execution_count": null,
      "outputs": []
    },
    {
      "metadata": {
        "trusted": true
      },
      "cell_type": "code",
      "source": "dframe.to_csv('test.csv')",
      "execution_count": null,
      "outputs": []
    },
    {
      "metadata": {
        "trusted": true
      },
      "cell_type": "code",
      "source": "dframe.to_csv('test2.txt',sep=\"~\")",
      "execution_count": null,
      "outputs": []
    },
    {
      "metadata": {
        "trusted": true
      },
      "cell_type": "code",
      "source": "dframe.columns",
      "execution_count": null,
      "outputs": []
    },
    {
      "metadata": {
        "trusted": true
      },
      "cell_type": "code",
      "source": "dframe.to_csv('test3.csv',columns=['Col1','Col2']) # write only specific columns",
      "execution_count": null,
      "outputs": []
    },
    {
      "metadata": {
        "trusted": true
      },
      "cell_type": "code",
      "source": "tp = pd.read_csv('./data/redwines.csv')",
      "execution_count": null,
      "outputs": []
    },
    {
      "metadata": {
        "trusted": true
      },
      "cell_type": "code",
      "source": "tp.tail(4)",
      "execution_count": null,
      "outputs": []
    },
    {
      "metadata": {
        "trusted": true
      },
      "cell_type": "code",
      "source": "tp.shape",
      "execution_count": null,
      "outputs": []
    },
    {
      "metadata": {
        "trusted": true
      },
      "cell_type": "code",
      "source": "tp.columns",
      "execution_count": null,
      "outputs": []
    },
    {
      "metadata": {
        "trusted": true
      },
      "cell_type": "code",
      "source": "tp.describe()",
      "execution_count": null,
      "outputs": []
    },
    {
      "metadata": {
        "trusted": true
      },
      "cell_type": "code",
      "source": "tp.info()",
      "execution_count": null,
      "outputs": []
    },
    {
      "metadata": {
        "trusted": true
      },
      "cell_type": "code",
      "source": "tp.quality.value_counts()",
      "execution_count": null,
      "outputs": []
    },
    {
      "metadata": {
        "trusted": true
      },
      "cell_type": "code",
      "source": "tp.alcohol.describe()",
      "execution_count": null,
      "outputs": []
    },
    {
      "metadata": {},
      "cell_type": "markdown",
      "source": "## Reading API"
    },
    {
      "metadata": {
        "trusted": true
      },
      "cell_type": "code",
      "source": "df=pd.read_json('https://api.coinmarketcap.com/v1/ticker/?limit=10')\ndf.head()",
      "execution_count": null,
      "outputs": []
    },
    {
      "metadata": {},
      "cell_type": "markdown",
      "source": "## End of part 4"
    }
  ],
  "metadata": {
    "kernelspec": {
      "name": "python3",
      "display_name": "Python 3",
      "language": "python"
    },
    "language_info": {
      "mimetype": "text/x-python",
      "nbconvert_exporter": "python",
      "name": "python",
      "pygments_lexer": "ipython3",
      "version": "3.5.4",
      "file_extension": ".py",
      "codemirror_mode": {
        "version": 3,
        "name": "ipython"
      }
    }
  },
  "nbformat": 4,
  "nbformat_minor": 1
}