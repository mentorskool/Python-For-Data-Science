{
  "cells": [
    {
      "metadata": {},
      "cell_type": "markdown",
      "source": "# Part 8"
    },
    {
      "metadata": {},
      "cell_type": "markdown",
      "source": "# Duplicates in data frames"
    },
    {
      "metadata": {
        "trusted": true
      },
      "cell_type": "code",
      "source": "import numpy as np\nimport pandas as pd\nfrom pandas import Series, DataFrame",
      "execution_count": 1,
      "outputs": []
    },
    {
      "metadata": {
        "trusted": true
      },
      "cell_type": "code",
      "source": "dframe = DataFrame({'col1': ['A'] * 2 + ['B'] * 3, # same as typing ['A','A','B','B','B']\n                  'col2': [2, 2, 2, 3, 3]})\ndframe",
      "execution_count": 2,
      "outputs": [
        {
          "output_type": "execute_result",
          "execution_count": 2,
          "data": {
            "text/html": "<div>\n<table border=\"1\" class=\"dataframe\">\n  <thead>\n    <tr style=\"text-align: right;\">\n      <th></th>\n      <th>col1</th>\n      <th>col2</th>\n    </tr>\n  </thead>\n  <tbody>\n    <tr>\n      <th>0</th>\n      <td>A</td>\n      <td>2</td>\n    </tr>\n    <tr>\n      <th>1</th>\n      <td>A</td>\n      <td>2</td>\n    </tr>\n    <tr>\n      <th>2</th>\n      <td>B</td>\n      <td>2</td>\n    </tr>\n    <tr>\n      <th>3</th>\n      <td>B</td>\n      <td>3</td>\n    </tr>\n    <tr>\n      <th>4</th>\n      <td>B</td>\n      <td>3</td>\n    </tr>\n  </tbody>\n</table>\n</div>",
            "text/plain": "  col1  col2\n0    A     2\n1    A     2\n2    B     2\n3    B     3\n4    B     3"
          },
          "metadata": {}
        }
      ]
    },
    {
      "metadata": {
        "trusted": true
      },
      "cell_type": "code",
      "source": "dframe.duplicated() # find duplicates - exactly the same as the function duplicated() in R",
      "execution_count": 3,
      "outputs": [
        {
          "output_type": "execute_result",
          "execution_count": 3,
          "data": {
            "text/plain": "0    False\n1     True\n2    False\n3    False\n4     True\ndtype: bool"
          },
          "metadata": {}
        }
      ]
    },
    {
      "metadata": {
        "trusted": true
      },
      "cell_type": "code",
      "source": "dframe.duplicated().sum()",
      "execution_count": 4,
      "outputs": [
        {
          "output_type": "execute_result",
          "execution_count": 4,
          "data": {
            "text/plain": "2"
          },
          "metadata": {}
        }
      ]
    },
    {
      "metadata": {
        "trusted": true
      },
      "cell_type": "code",
      "source": "dframe.drop_duplicates() # drop duplicates - by default the first value is retained",
      "execution_count": 9,
      "outputs": [
        {
          "output_type": "execute_result",
          "execution_count": 9,
          "data": {
            "text/plain": "  col1  col2\n0    A     2\n2    B     2\n3    B     3",
            "text/html": "<div>\n<table border=\"1\" class=\"dataframe\">\n  <thead>\n    <tr style=\"text-align: right;\">\n      <th></th>\n      <th>col1</th>\n      <th>col2</th>\n    </tr>\n  </thead>\n  <tbody>\n    <tr>\n      <th>0</th>\n      <td>A</td>\n      <td>2</td>\n    </tr>\n    <tr>\n      <th>2</th>\n      <td>B</td>\n      <td>2</td>\n    </tr>\n    <tr>\n      <th>3</th>\n      <td>B</td>\n      <td>3</td>\n    </tr>\n  </tbody>\n</table>\n</div>"
          },
          "metadata": {}
        }
      ]
    },
    {
      "metadata": {
        "trusted": true
      },
      "cell_type": "code",
      "source": "dframe.drop_duplicates(keep = 'last') # keep the last value - although it makes no difference here",
      "execution_count": 5,
      "outputs": [
        {
          "output_type": "execute_result",
          "execution_count": 5,
          "data": {
            "text/html": "<div>\n<table border=\"1\" class=\"dataframe\">\n  <thead>\n    <tr style=\"text-align: right;\">\n      <th></th>\n      <th>col1</th>\n      <th>col2</th>\n    </tr>\n  </thead>\n  <tbody>\n    <tr>\n      <th>1</th>\n      <td>A</td>\n      <td>2</td>\n    </tr>\n    <tr>\n      <th>2</th>\n      <td>B</td>\n      <td>2</td>\n    </tr>\n    <tr>\n      <th>4</th>\n      <td>B</td>\n      <td>3</td>\n    </tr>\n  </tbody>\n</table>\n</div>",
            "text/plain": "  col1  col2\n1    A     2\n2    B     2\n4    B     3"
          },
          "metadata": {}
        }
      ]
    },
    {
      "metadata": {},
      "cell_type": "markdown",
      "source": "Note that `keep='last'` replaces `keep_last=True` (from earlier versions)"
    },
    {
      "metadata": {
        "trusted": true
      },
      "cell_type": "code",
      "source": "dframe.drop_duplicates(['col1']) # drop duplicates based on a specific column - retaining the first value",
      "execution_count": 6,
      "outputs": [
        {
          "output_type": "execute_result",
          "execution_count": 6,
          "data": {
            "text/html": "<div>\n<table border=\"1\" class=\"dataframe\">\n  <thead>\n    <tr style=\"text-align: right;\">\n      <th></th>\n      <th>col1</th>\n      <th>col2</th>\n    </tr>\n  </thead>\n  <tbody>\n    <tr>\n      <th>0</th>\n      <td>A</td>\n      <td>2</td>\n    </tr>\n    <tr>\n      <th>2</th>\n      <td>B</td>\n      <td>2</td>\n    </tr>\n  </tbody>\n</table>\n</div>",
            "text/plain": "  col1  col2\n0    A     2\n2    B     2"
          },
          "metadata": {}
        }
      ]
    },
    {
      "metadata": {
        "trusted": true
      },
      "cell_type": "code",
      "source": "dframe.drop_duplicates(['col1'],keep = 'last') # retain the last value of each set of duplicates",
      "execution_count": 12,
      "outputs": [
        {
          "output_type": "execute_result",
          "execution_count": 12,
          "data": {
            "text/plain": "  col1  col2\n1    A     2\n4    B     3",
            "text/html": "<div>\n<table border=\"1\" class=\"dataframe\">\n  <thead>\n    <tr style=\"text-align: right;\">\n      <th></th>\n      <th>col1</th>\n      <th>col2</th>\n    </tr>\n  </thead>\n  <tbody>\n    <tr>\n      <th>1</th>\n      <td>A</td>\n      <td>2</td>\n    </tr>\n    <tr>\n      <th>4</th>\n      <td>B</td>\n      <td>3</td>\n    </tr>\n  </tbody>\n</table>\n</div>"
          },
          "metadata": {}
        }
      ]
    },
    {
      "metadata": {
        "trusted": true
      },
      "cell_type": "code",
      "source": "dframe1 = DataFrame({'key1': ['A'] * 2 + ['B'] * 3,'key2': [2, 2, 2, 3, 3],'key3':[1,2,3,3,5]})\ndframe1",
      "execution_count": 7,
      "outputs": [
        {
          "output_type": "execute_result",
          "execution_count": 7,
          "data": {
            "text/html": "<div>\n<table border=\"1\" class=\"dataframe\">\n  <thead>\n    <tr style=\"text-align: right;\">\n      <th></th>\n      <th>key1</th>\n      <th>key2</th>\n      <th>key3</th>\n    </tr>\n  </thead>\n  <tbody>\n    <tr>\n      <th>0</th>\n      <td>A</td>\n      <td>2</td>\n      <td>1</td>\n    </tr>\n    <tr>\n      <th>1</th>\n      <td>A</td>\n      <td>2</td>\n      <td>2</td>\n    </tr>\n    <tr>\n      <th>2</th>\n      <td>B</td>\n      <td>2</td>\n      <td>3</td>\n    </tr>\n    <tr>\n      <th>3</th>\n      <td>B</td>\n      <td>3</td>\n      <td>3</td>\n    </tr>\n    <tr>\n      <th>4</th>\n      <td>B</td>\n      <td>3</td>\n      <td>5</td>\n    </tr>\n  </tbody>\n</table>\n</div>",
            "text/plain": "  key1  key2  key3\n0    A     2     1\n1    A     2     2\n2    B     2     3\n3    B     3     3\n4    B     3     5"
          },
          "metadata": {}
        }
      ]
    },
    {
      "metadata": {
        "trusted": true
      },
      "cell_type": "code",
      "source": "dframe1.drop_duplicates(['key1','key2']).reset_index()",
      "execution_count": 8,
      "outputs": [
        {
          "output_type": "execute_result",
          "execution_count": 8,
          "data": {
            "text/html": "<div>\n<table border=\"1\" class=\"dataframe\">\n  <thead>\n    <tr style=\"text-align: right;\">\n      <th></th>\n      <th>index</th>\n      <th>key1</th>\n      <th>key2</th>\n      <th>key3</th>\n    </tr>\n  </thead>\n  <tbody>\n    <tr>\n      <th>0</th>\n      <td>0</td>\n      <td>A</td>\n      <td>2</td>\n      <td>1</td>\n    </tr>\n    <tr>\n      <th>1</th>\n      <td>2</td>\n      <td>B</td>\n      <td>2</td>\n      <td>3</td>\n    </tr>\n    <tr>\n      <th>2</th>\n      <td>3</td>\n      <td>B</td>\n      <td>3</td>\n      <td>3</td>\n    </tr>\n  </tbody>\n</table>\n</div>",
            "text/plain": "   index key1  key2  key3\n0      0    A     2     1\n1      2    B     2     3\n2      3    B     3     3"
          },
          "metadata": {}
        }
      ]
    },
    {
      "metadata": {},
      "cell_type": "markdown",
      "source": "# Mapping"
    },
    {
      "metadata": {
        "trusted": true
      },
      "cell_type": "code",
      "source": "capitals = DataFrame({'city':['Beijing','New Delhi','Tokyo','Manila','Moscow','New City'],\n                    'population':[20693000,16787949,13189000,12877253,11541000,1000]})\ncapitals",
      "execution_count": 12,
      "outputs": [
        {
          "output_type": "execute_result",
          "execution_count": 12,
          "data": {
            "text/html": "<div>\n<table border=\"1\" class=\"dataframe\">\n  <thead>\n    <tr style=\"text-align: right;\">\n      <th></th>\n      <th>city</th>\n      <th>population</th>\n    </tr>\n  </thead>\n  <tbody>\n    <tr>\n      <th>0</th>\n      <td>Beijing</td>\n      <td>20693000</td>\n    </tr>\n    <tr>\n      <th>1</th>\n      <td>New Delhi</td>\n      <td>16787949</td>\n    </tr>\n    <tr>\n      <th>2</th>\n      <td>Tokyo</td>\n      <td>13189000</td>\n    </tr>\n    <tr>\n      <th>3</th>\n      <td>Manila</td>\n      <td>12877253</td>\n    </tr>\n    <tr>\n      <th>4</th>\n      <td>Moscow</td>\n      <td>11541000</td>\n    </tr>\n    <tr>\n      <th>5</th>\n      <td>New City</td>\n      <td>1000</td>\n    </tr>\n  </tbody>\n</table>\n</div>",
            "text/plain": "        city  population\n0    Beijing    20693000\n1  New Delhi    16787949\n2      Tokyo    13189000\n3     Manila    12877253\n4     Moscow    11541000\n5   New City        1000"
          },
          "metadata": {}
        }
      ]
    },
    {
      "metadata": {
        "trusted": true
      },
      "cell_type": "code",
      "source": "country_map = {'Beijing':'China','New Delhi':'India','Cairo':'Egypt',\n             'Tokyo':'Japan','Jakarta':'Indonesia','Moscow':'Russia',\n               'Seoul':'South Korea','Manila':'Philippines'}",
      "execution_count": 13,
      "outputs": []
    },
    {
      "metadata": {
        "trusted": true
      },
      "cell_type": "code",
      "source": "capitals['country'] = capitals['city'].map(country_map) \n# creates a new column 'state' and fills in values based on 'town' by looking up 'town' in the dict 'state_map'\ncapitals",
      "execution_count": 14,
      "outputs": [
        {
          "output_type": "execute_result",
          "execution_count": 14,
          "data": {
            "text/html": "<div>\n<table border=\"1\" class=\"dataframe\">\n  <thead>\n    <tr style=\"text-align: right;\">\n      <th></th>\n      <th>city</th>\n      <th>population</th>\n      <th>country</th>\n    </tr>\n  </thead>\n  <tbody>\n    <tr>\n      <th>0</th>\n      <td>Beijing</td>\n      <td>20693000</td>\n      <td>China</td>\n    </tr>\n    <tr>\n      <th>1</th>\n      <td>New Delhi</td>\n      <td>16787949</td>\n      <td>India</td>\n    </tr>\n    <tr>\n      <th>2</th>\n      <td>Tokyo</td>\n      <td>13189000</td>\n      <td>Japan</td>\n    </tr>\n    <tr>\n      <th>3</th>\n      <td>Manila</td>\n      <td>12877253</td>\n      <td>Philippines</td>\n    </tr>\n    <tr>\n      <th>4</th>\n      <td>Moscow</td>\n      <td>11541000</td>\n      <td>Russia</td>\n    </tr>\n    <tr>\n      <th>5</th>\n      <td>New City</td>\n      <td>1000</td>\n      <td>NaN</td>\n    </tr>\n  </tbody>\n</table>\n</div>",
            "text/plain": "        city  population      country\n0    Beijing    20693000        China\n1  New Delhi    16787949        India\n2      Tokyo    13189000        Japan\n3     Manila    12877253  Philippines\n4     Moscow    11541000       Russia\n5   New City        1000          NaN"
          },
          "metadata": {}
        }
      ]
    },
    {
      "metadata": {},
      "cell_type": "markdown",
      "source": "# Outliers"
    },
    {
      "metadata": {
        "trusted": true
      },
      "cell_type": "code",
      "source": "import numpy as np\nimport pandas as pd\nfrom numpy.random import randn # optional - otherwise type np.random.randn()",
      "execution_count": 5,
      "outputs": []
    },
    {
      "metadata": {
        "trusted": true
      },
      "cell_type": "code",
      "source": "np.random.seed(123)\nrandn(3)",
      "execution_count": 16,
      "outputs": [
        {
          "output_type": "execute_result",
          "execution_count": 16,
          "data": {
            "text/plain": "array([-1.0856306 ,  0.99734545,  0.2829785 ])"
          },
          "metadata": {}
        }
      ]
    },
    {
      "metadata": {
        "trusted": true
      },
      "cell_type": "code",
      "source": "randn(7,3)",
      "execution_count": 18,
      "outputs": [
        {
          "output_type": "execute_result",
          "execution_count": 18,
          "data": {
            "text/plain": "array([[-0.01183049,  2.39236527,  0.41291216],\n       [ 0.97873601,  2.23814334, -1.29408532],\n       [-1.03878821,  1.74371223, -0.79806274],\n       [ 0.02968323,  1.06931597,  0.89070639],\n       [ 1.75488618,  1.49564414,  1.06939267],\n       [-0.77270871,  0.79486267,  0.31427199],\n       [-1.32626546,  1.41729905,  0.80723653]])"
          },
          "metadata": {}
        }
      ]
    },
    {
      "metadata": {
        "trusted": true
      },
      "cell_type": "code",
      "source": "np.random.seed(12345)\ndframe = pd.DataFrame(randn(1000,4)) # 1000 rows and 4 columns\ndframe.head()",
      "execution_count": 6,
      "outputs": [
        {
          "output_type": "execute_result",
          "execution_count": 6,
          "data": {
            "text/html": "<div>\n<table border=\"1\" class=\"dataframe\">\n  <thead>\n    <tr style=\"text-align: right;\">\n      <th></th>\n      <th>0</th>\n      <th>1</th>\n      <th>2</th>\n      <th>3</th>\n    </tr>\n  </thead>\n  <tbody>\n    <tr>\n      <th>0</th>\n      <td>-0.204708</td>\n      <td>0.478943</td>\n      <td>-0.519439</td>\n      <td>-0.555730</td>\n    </tr>\n    <tr>\n      <th>1</th>\n      <td>1.965781</td>\n      <td>1.393406</td>\n      <td>0.092908</td>\n      <td>0.281746</td>\n    </tr>\n    <tr>\n      <th>2</th>\n      <td>0.769023</td>\n      <td>1.246435</td>\n      <td>1.007189</td>\n      <td>-1.296221</td>\n    </tr>\n    <tr>\n      <th>3</th>\n      <td>0.274992</td>\n      <td>0.228913</td>\n      <td>1.352917</td>\n      <td>0.886429</td>\n    </tr>\n    <tr>\n      <th>4</th>\n      <td>-2.001637</td>\n      <td>-0.371843</td>\n      <td>1.669025</td>\n      <td>-0.438570</td>\n    </tr>\n  </tbody>\n</table>\n</div>",
            "text/plain": "          0         1         2         3\n0 -0.204708  0.478943 -0.519439 -0.555730\n1  1.965781  1.393406  0.092908  0.281746\n2  0.769023  1.246435  1.007189 -1.296221\n3  0.274992  0.228913  1.352917  0.886429\n4 -2.001637 -0.371843  1.669025 -0.438570"
          },
          "metadata": {}
        }
      ]
    },
    {
      "metadata": {
        "trusted": true
      },
      "cell_type": "code",
      "source": "dframe.describe()",
      "execution_count": 20,
      "outputs": [
        {
          "output_type": "execute_result",
          "execution_count": 20,
          "data": {
            "text/html": "<div>\n<table border=\"1\" class=\"dataframe\">\n  <thead>\n    <tr style=\"text-align: right;\">\n      <th></th>\n      <th>0</th>\n      <th>1</th>\n      <th>2</th>\n      <th>3</th>\n    </tr>\n  </thead>\n  <tbody>\n    <tr>\n      <th>count</th>\n      <td>1000.000000</td>\n      <td>1000.000000</td>\n      <td>1000.000000</td>\n      <td>1000.000000</td>\n    </tr>\n    <tr>\n      <th>mean</th>\n      <td>-0.067684</td>\n      <td>0.067924</td>\n      <td>0.025598</td>\n      <td>-0.002298</td>\n    </tr>\n    <tr>\n      <th>std</th>\n      <td>0.998035</td>\n      <td>0.992106</td>\n      <td>1.006835</td>\n      <td>0.996794</td>\n    </tr>\n    <tr>\n      <th>min</th>\n      <td>-3.428254</td>\n      <td>-3.548824</td>\n      <td>-3.184377</td>\n      <td>-3.745356</td>\n    </tr>\n    <tr>\n      <th>25%</th>\n      <td>-0.774890</td>\n      <td>-0.591841</td>\n      <td>-0.641675</td>\n      <td>-0.644144</td>\n    </tr>\n    <tr>\n      <th>50%</th>\n      <td>-0.116401</td>\n      <td>0.101143</td>\n      <td>0.002073</td>\n      <td>-0.013611</td>\n    </tr>\n    <tr>\n      <th>75%</th>\n      <td>0.616366</td>\n      <td>0.780282</td>\n      <td>0.680391</td>\n      <td>0.654328</td>\n    </tr>\n    <tr>\n      <th>max</th>\n      <td>3.366626</td>\n      <td>2.653656</td>\n      <td>3.260383</td>\n      <td>3.927528</td>\n    </tr>\n  </tbody>\n</table>\n</div>",
            "text/plain": "                 0            1            2            3\ncount  1000.000000  1000.000000  1000.000000  1000.000000\nmean     -0.067684     0.067924     0.025598    -0.002298\nstd       0.998035     0.992106     1.006835     0.996794\nmin      -3.428254    -3.548824    -3.184377    -3.745356\n25%      -0.774890    -0.591841    -0.641675    -0.644144\n50%      -0.116401     0.101143     0.002073    -0.013611\n75%       0.616366     0.780282     0.680391     0.654328\nmax       3.366626     2.653656     3.260383     3.927528"
          },
          "metadata": {}
        }
      ]
    },
    {
      "metadata": {
        "trusted": true
      },
      "cell_type": "code",
      "source": "dframe.describe(percentiles = [0.01,0.05,0.87,0.95,0.99])",
      "execution_count": 21,
      "outputs": [
        {
          "output_type": "execute_result",
          "execution_count": 21,
          "data": {
            "text/html": "<div>\n<table border=\"1\" class=\"dataframe\">\n  <thead>\n    <tr style=\"text-align: right;\">\n      <th></th>\n      <th>0</th>\n      <th>1</th>\n      <th>2</th>\n      <th>3</th>\n    </tr>\n  </thead>\n  <tbody>\n    <tr>\n      <th>count</th>\n      <td>1000.000000</td>\n      <td>1000.000000</td>\n      <td>1000.000000</td>\n      <td>1000.000000</td>\n    </tr>\n    <tr>\n      <th>mean</th>\n      <td>-0.067684</td>\n      <td>0.067924</td>\n      <td>0.025598</td>\n      <td>-0.002298</td>\n    </tr>\n    <tr>\n      <th>std</th>\n      <td>0.998035</td>\n      <td>0.992106</td>\n      <td>1.006835</td>\n      <td>0.996794</td>\n    </tr>\n    <tr>\n      <th>min</th>\n      <td>-3.428254</td>\n      <td>-3.548824</td>\n      <td>-3.184377</td>\n      <td>-3.745356</td>\n    </tr>\n    <tr>\n      <th>1%</th>\n      <td>-2.253032</td>\n      <td>-2.311638</td>\n      <td>-2.241267</td>\n      <td>-2.264985</td>\n    </tr>\n    <tr>\n      <th>5%</th>\n      <td>-1.654448</td>\n      <td>-1.596145</td>\n      <td>-1.613868</td>\n      <td>-1.595315</td>\n    </tr>\n    <tr>\n      <th>50%</th>\n      <td>-0.116401</td>\n      <td>0.101143</td>\n      <td>0.002073</td>\n      <td>-0.013611</td>\n    </tr>\n    <tr>\n      <th>87%</th>\n      <td>1.064670</td>\n      <td>1.214509</td>\n      <td>1.170963</td>\n      <td>1.107758</td>\n    </tr>\n    <tr>\n      <th>95%</th>\n      <td>1.634802</td>\n      <td>1.620198</td>\n      <td>1.676643</td>\n      <td>1.653155</td>\n    </tr>\n    <tr>\n      <th>99%</th>\n      <td>2.300858</td>\n      <td>2.259621</td>\n      <td>2.338175</td>\n      <td>2.242728</td>\n    </tr>\n    <tr>\n      <th>max</th>\n      <td>3.366626</td>\n      <td>2.653656</td>\n      <td>3.260383</td>\n      <td>3.927528</td>\n    </tr>\n  </tbody>\n</table>\n</div>",
            "text/plain": "                 0            1            2            3\ncount  1000.000000  1000.000000  1000.000000  1000.000000\nmean     -0.067684     0.067924     0.025598    -0.002298\nstd       0.998035     0.992106     1.006835     0.996794\nmin      -3.428254    -3.548824    -3.184377    -3.745356\n1%       -2.253032    -2.311638    -2.241267    -2.264985\n5%       -1.654448    -1.596145    -1.613868    -1.595315\n50%      -0.116401     0.101143     0.002073    -0.013611\n87%       1.064670     1.214509     1.170963     1.107758\n95%       1.634802     1.620198     1.676643     1.653155\n99%       2.300858     2.259621     2.338175     2.242728\nmax       3.366626     2.653656     3.260383     3.927528"
          },
          "metadata": {}
        }
      ]
    },
    {
      "metadata": {
        "trusted": true
      },
      "cell_type": "code",
      "source": "np.arange(0.1,1.0,0.1)",
      "execution_count": 22,
      "outputs": [
        {
          "output_type": "execute_result",
          "execution_count": 22,
          "data": {
            "text/plain": "array([0.1, 0.2, 0.3, 0.4, 0.5, 0.6, 0.7, 0.8, 0.9])"
          },
          "metadata": {}
        }
      ]
    },
    {
      "metadata": {
        "trusted": true
      },
      "cell_type": "code",
      "source": "dframe.describe(percentiles=np.arange(0.1,1.0,0.1)) # instead of typing percentiles = [0.1,0.2,0.3,...]",
      "execution_count": 23,
      "outputs": [
        {
          "output_type": "execute_result",
          "execution_count": 23,
          "data": {
            "text/html": "<div>\n<table border=\"1\" class=\"dataframe\">\n  <thead>\n    <tr style=\"text-align: right;\">\n      <th></th>\n      <th>0</th>\n      <th>1</th>\n      <th>2</th>\n      <th>3</th>\n    </tr>\n  </thead>\n  <tbody>\n    <tr>\n      <th>count</th>\n      <td>1000.000000</td>\n      <td>1000.000000</td>\n      <td>1000.000000</td>\n      <td>1000.000000</td>\n    </tr>\n    <tr>\n      <th>mean</th>\n      <td>-0.067684</td>\n      <td>0.067924</td>\n      <td>0.025598</td>\n      <td>-0.002298</td>\n    </tr>\n    <tr>\n      <th>std</th>\n      <td>0.998035</td>\n      <td>0.992106</td>\n      <td>1.006835</td>\n      <td>0.996794</td>\n    </tr>\n    <tr>\n      <th>min</th>\n      <td>-3.428254</td>\n      <td>-3.548824</td>\n      <td>-3.184377</td>\n      <td>-3.745356</td>\n    </tr>\n    <tr>\n      <th>10%</th>\n      <td>-1.294593</td>\n      <td>-1.244422</td>\n      <td>-1.255581</td>\n      <td>-1.252993</td>\n    </tr>\n    <tr>\n      <th>20%</th>\n      <td>-0.922123</td>\n      <td>-0.749115</td>\n      <td>-0.816874</td>\n      <td>-0.828466</td>\n    </tr>\n    <tr>\n      <th>30.0%</th>\n      <td>-0.610044</td>\n      <td>-0.459042</td>\n      <td>-0.516017</td>\n      <td>-0.521751</td>\n    </tr>\n    <tr>\n      <th>40%</th>\n      <td>-0.353629</td>\n      <td>-0.177329</td>\n      <td>-0.251260</td>\n      <td>-0.276209</td>\n    </tr>\n    <tr>\n      <th>50%</th>\n      <td>-0.116401</td>\n      <td>0.101143</td>\n      <td>0.002073</td>\n      <td>-0.013611</td>\n    </tr>\n    <tr>\n      <th>60%</th>\n      <td>0.178808</td>\n      <td>0.362091</td>\n      <td>0.285412</td>\n      <td>0.248915</td>\n    </tr>\n    <tr>\n      <th>70%</th>\n      <td>0.451116</td>\n      <td>0.628145</td>\n      <td>0.540566</td>\n      <td>0.504078</td>\n    </tr>\n    <tr>\n      <th>80%</th>\n      <td>0.753032</td>\n      <td>0.937269</td>\n      <td>0.892131</td>\n      <td>0.842022</td>\n    </tr>\n    <tr>\n      <th>90%</th>\n      <td>1.228627</td>\n      <td>1.344403</td>\n      <td>1.297248</td>\n      <td>1.283725</td>\n    </tr>\n    <tr>\n      <th>max</th>\n      <td>3.366626</td>\n      <td>2.653656</td>\n      <td>3.260383</td>\n      <td>3.927528</td>\n    </tr>\n  </tbody>\n</table>\n</div>",
            "text/plain": "                 0            1            2            3\ncount  1000.000000  1000.000000  1000.000000  1000.000000\nmean     -0.067684     0.067924     0.025598    -0.002298\nstd       0.998035     0.992106     1.006835     0.996794\nmin      -3.428254    -3.548824    -3.184377    -3.745356\n10%      -1.294593    -1.244422    -1.255581    -1.252993\n20%      -0.922123    -0.749115    -0.816874    -0.828466\n30.0%    -0.610044    -0.459042    -0.516017    -0.521751\n40%      -0.353629    -0.177329    -0.251260    -0.276209\n50%      -0.116401     0.101143     0.002073    -0.013611\n60%       0.178808     0.362091     0.285412     0.248915\n70%       0.451116     0.628145     0.540566     0.504078\n80%       0.753032     0.937269     0.892131     0.842022\n90%       1.228627     1.344403     1.297248     1.283725\nmax       3.366626     2.653656     3.260383     3.927528"
          },
          "metadata": {}
        }
      ]
    },
    {
      "metadata": {
        "trusted": true
      },
      "cell_type": "code",
      "source": "col = dframe[0] # just select the first column and save it as 'col'\ncol.head()",
      "execution_count": 7,
      "outputs": [
        {
          "output_type": "execute_result",
          "execution_count": 7,
          "data": {
            "text/plain": "0   -0.204708\n1    1.965781\n2    0.769023\n3    0.274992\n4   -2.001637\nName: 0, dtype: float64"
          },
          "metadata": {}
        }
      ]
    },
    {
      "metadata": {
        "trusted": true
      },
      "cell_type": "code",
      "source": "col[col > 3]",
      "execution_count": 8,
      "outputs": [
        {
          "output_type": "execute_result",
          "execution_count": 8,
          "data": {
            "text/plain": "900    3.366626\nName: 0, dtype: float64"
          },
          "metadata": {}
        }
      ]
    },
    {
      "metadata": {
        "trusted": true
      },
      "cell_type": "code",
      "source": "col[np.abs(col) > 3]",
      "execution_count": 9,
      "outputs": [
        {
          "output_type": "execute_result",
          "execution_count": 9,
          "data": {
            "text/plain": "523   -3.428254\n900    3.366626\nName: 0, dtype: float64"
          },
          "metadata": {}
        }
      ]
    },
    {
      "metadata": {
        "trusted": true
      },
      "cell_type": "code",
      "source": "dframe[(np.abs(dframe) > 3).any(1)] # returns all rows in which any column has an absolute value > 3",
      "execution_count": 10,
      "outputs": [
        {
          "output_type": "execute_result",
          "execution_count": 10,
          "data": {
            "text/html": "<div>\n<table border=\"1\" class=\"dataframe\">\n  <thead>\n    <tr style=\"text-align: right;\">\n      <th></th>\n      <th>0</th>\n      <th>1</th>\n      <th>2</th>\n      <th>3</th>\n    </tr>\n  </thead>\n  <tbody>\n    <tr>\n      <th>5</th>\n      <td>-0.539741</td>\n      <td>0.476985</td>\n      <td>3.248944</td>\n      <td>-1.021228</td>\n    </tr>\n    <tr>\n      <th>97</th>\n      <td>-0.774363</td>\n      <td>0.552936</td>\n      <td>0.106061</td>\n      <td>3.927528</td>\n    </tr>\n    <tr>\n      <th>102</th>\n      <td>-0.655054</td>\n      <td>-0.565230</td>\n      <td>3.176873</td>\n      <td>0.959533</td>\n    </tr>\n    <tr>\n      <th>305</th>\n      <td>-2.315555</td>\n      <td>0.457246</td>\n      <td>-0.025907</td>\n      <td>-3.399312</td>\n    </tr>\n    <tr>\n      <th>324</th>\n      <td>0.050188</td>\n      <td>1.951312</td>\n      <td>3.260383</td>\n      <td>0.963301</td>\n    </tr>\n    <tr>\n      <th>400</th>\n      <td>0.146326</td>\n      <td>0.508391</td>\n      <td>-0.196713</td>\n      <td>-3.745356</td>\n    </tr>\n    <tr>\n      <th>499</th>\n      <td>-0.293333</td>\n      <td>-0.242459</td>\n      <td>-3.056990</td>\n      <td>1.918403</td>\n    </tr>\n    <tr>\n      <th>523</th>\n      <td>-3.428254</td>\n      <td>-0.296336</td>\n      <td>-0.439938</td>\n      <td>-0.867165</td>\n    </tr>\n    <tr>\n      <th>586</th>\n      <td>0.275144</td>\n      <td>1.179227</td>\n      <td>-3.184377</td>\n      <td>1.369891</td>\n    </tr>\n    <tr>\n      <th>808</th>\n      <td>-0.362528</td>\n      <td>-3.548824</td>\n      <td>1.553205</td>\n      <td>-2.186301</td>\n    </tr>\n    <tr>\n      <th>900</th>\n      <td>3.366626</td>\n      <td>-2.372214</td>\n      <td>0.851010</td>\n      <td>1.332846</td>\n    </tr>\n  </tbody>\n</table>\n</div>",
            "text/plain": "            0         1         2         3\n5   -0.539741  0.476985  3.248944 -1.021228\n97  -0.774363  0.552936  0.106061  3.927528\n102 -0.655054 -0.565230  3.176873  0.959533\n305 -2.315555  0.457246 -0.025907 -3.399312\n324  0.050188  1.951312  3.260383  0.963301\n400  0.146326  0.508391 -0.196713 -3.745356\n499 -0.293333 -0.242459 -3.056990  1.918403\n523 -3.428254 -0.296336 -0.439938 -0.867165\n586  0.275144  1.179227 -3.184377  1.369891\n808 -0.362528 -3.548824  1.553205 -2.186301\n900  3.366626 -2.372214  0.851010  1.332846"
          },
          "metadata": {}
        }
      ]
    },
    {
      "metadata": {
        "trusted": true
      },
      "cell_type": "code",
      "source": "# fix all values > 3 to 3\ndframe[dframe > 3] = 3",
      "execution_count": 11,
      "outputs": []
    },
    {
      "metadata": {
        "trusted": true
      },
      "cell_type": "code",
      "source": "# fix all values < -3 to -3\ndframe[dframe < -3] = -3",
      "execution_count": 12,
      "outputs": []
    },
    {
      "metadata": {},
      "cell_type": "markdown",
      "source": "## Another Approach :\n\n### Detecting outliers via the IQR technique and replacing the lower and higher outliers with the end points"
    },
    {
      "metadata": {
        "trusted": true
      },
      "cell_type": "code",
      "source": "# finding the interquartile range for every column\nQ1 = dframe.quantile(0.25)\nQ3 = dframe.quantile(0.75)\n# finding values Q1 - 1.5*IQR and Q3 + 1.5*IQR\nIQR  = Q3 - Q1\n# set all values < Q1 - 1.5*IQR w\nlower_band = Q1 - 1.5*IQR\nupper_band = Q3 + 1.5*IQR",
      "execution_count": 13,
      "outputs": []
    },
    {
      "metadata": {
        "trusted": true
      },
      "cell_type": "code",
      "source": "print(lower_band)\nprint(upper_band)",
      "execution_count": 14,
      "outputs": [
        {
          "output_type": "stream",
          "text": "0   -2.861773\n1   -2.650026\n2   -2.624774\n3   -2.591853\ndtype: float64\n0    2.703249\n1    2.838466\n2    2.663491\n3    2.602037\ndtype: float64\n",
          "name": "stdout"
        }
      ]
    },
    {
      "metadata": {
        "trusted": true
      },
      "cell_type": "code",
      "source": "for i in range(3):\n    dframe.loc[dframe[i]<lower_band[i],[i]] = lower_band[i]\n    dframe.loc[dframe[i]<upper_band[i],[i]] = upper_band[i]",
      "execution_count": 15,
      "outputs": []
    },
    {
      "metadata": {
        "trusted": true
      },
      "cell_type": "code",
      "source": "dframe.loc[dframe[0]<-2.861773,[0]]",
      "execution_count": 16,
      "outputs": [
        {
          "output_type": "execute_result",
          "execution_count": 16,
          "data": {
            "text/html": "<div>\n<table border=\"1\" class=\"dataframe\">\n  <thead>\n    <tr style=\"text-align: right;\">\n      <th></th>\n      <th>0</th>\n    </tr>\n  </thead>\n  <tbody>\n  </tbody>\n</table>\n</div>",
            "text/plain": "Empty DataFrame\nColumns: [0]\nIndex: []"
          },
          "metadata": {}
        }
      ]
    },
    {
      "metadata": {},
      "cell_type": "markdown",
      "source": "## End of part 8"
    }
  ],
  "metadata": {
    "kernelspec": {
      "name": "python3",
      "display_name": "Python 3",
      "language": "python"
    },
    "language_info": {
      "mimetype": "text/x-python",
      "nbconvert_exporter": "python",
      "name": "python",
      "pygments_lexer": "ipython3",
      "version": "3.5.4",
      "file_extension": ".py",
      "codemirror_mode": {
        "version": 3,
        "name": "ipython"
      }
    }
  },
  "nbformat": 4,
  "nbformat_minor": 2
}