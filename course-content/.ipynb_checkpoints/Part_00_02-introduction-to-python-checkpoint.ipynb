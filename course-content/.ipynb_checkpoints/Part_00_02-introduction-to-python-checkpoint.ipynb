{
  "cells": [
    {
      "metadata": {},
      "cell_type": "markdown",
      "source": "# Welcome to the short course on Python for data science and analytics"
    },
    {
      "metadata": {},
      "cell_type": "markdown",
      "source": "# Jupyter notebooks"
    },
    {
      "metadata": {},
      "cell_type": "markdown",
      "source": "### trying to write something"
    },
    {
      "metadata": {},
      "cell_type": "markdown",
      "source": "# This is a first level heading"
    },
    {
      "metadata": {},
      "cell_type": "markdown",
      "source": "## This is a second level heading"
    },
    {
      "metadata": {},
      "cell_type": "markdown",
      "source": "### This is a third level heading"
    },
    {
      "metadata": {},
      "cell_type": "markdown",
      "source": "*Italic* and **bold**"
    },
    {
      "metadata": {},
      "cell_type": "markdown",
      "source": "I can also use superscripts <sup>like this</sup> and subscripts <sub>like this</sub> as well as most HTML tags"
    },
    {
      "metadata": {},
      "cell_type": "markdown",
      "source": "<b><i>Shift-Enter:</i></b> Run cell and go to next cell - if you are in the last cell, insert a new cell below and go there\n<br><b><i>Ctrl-Enter:</i></b> Run cell in-place and remain in same cell\n<br><b><i>Alt-Enter:</i></b> Run cell, insert new blank cell below and go to new cell"
    },
    {
      "metadata": {},
      "cell_type": "markdown",
      "source": "**Checking, setting and viewing the contents of your working directory**"
    },
    {
      "metadata": {
        "trusted": true
      },
      "cell_type": "code",
      "source": "import os",
      "execution_count": null,
      "outputs": []
    },
    {
      "metadata": {
        "trusted": true
      },
      "cell_type": "code",
      "source": "os.getcwd()",
      "execution_count": null,
      "outputs": []
    },
    {
      "metadata": {
        "trusted": true
      },
      "cell_type": "code",
      "source": "os.chdir('../library')\nos.listdir()",
      "execution_count": null,
      "outputs": []
    },
    {
      "metadata": {},
      "cell_type": "markdown",
      "source": "**Importing libraries**"
    },
    {
      "metadata": {},
      "cell_type": "markdown",
      "source": "Import a library and give it a shortcut"
    },
    {
      "metadata": {
        "trusted": true
      },
      "cell_type": "code",
      "source": "import numpy as np",
      "execution_count": null,
      "outputs": []
    },
    {
      "metadata": {},
      "cell_type": "markdown",
      "source": "Import a specific function"
    },
    {
      "metadata": {
        "trusted": true
      },
      "cell_type": "code",
      "source": "from numpy.random import randn",
      "execution_count": null,
      "outputs": []
    },
    {
      "metadata": {},
      "cell_type": "markdown",
      "source": "Import a specific module from a library"
    },
    {
      "metadata": {
        "trusted": true
      },
      "cell_type": "code",
      "source": "import matplotlib.pyplot as plt",
      "execution_count": null,
      "outputs": []
    }
  ],
  "metadata": {
    "kernelspec": {
      "name": "python3",
      "display_name": "Python 3",
      "language": "python"
    },
    "language_info": {
      "mimetype": "text/x-python",
      "nbconvert_exporter": "python",
      "name": "python",
      "pygments_lexer": "ipython3",
      "version": "3.5.4",
      "file_extension": ".py",
      "codemirror_mode": {
        "version": 3,
        "name": "ipython"
      }
    }
  },
  "nbformat": 4,
  "nbformat_minor": 2
}