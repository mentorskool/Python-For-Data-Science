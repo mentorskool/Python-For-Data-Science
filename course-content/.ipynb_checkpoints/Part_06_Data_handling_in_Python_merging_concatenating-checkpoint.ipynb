{
  "cells": [
    {
      "metadata": {},
      "cell_type": "markdown",
      "source": "\n# Part 6"
    },
    {
      "metadata": {},
      "cell_type": "markdown",
      "source": "# Merging"
    },
    {
      "metadata": {
        "trusted": true
      },
      "cell_type": "code",
      "source": "import numpy as np\nimport pandas as pd\nfrom pandas import Series,DataFrame",
      "execution_count": null,
      "outputs": []
    },
    {
      "metadata": {
        "trusted": true
      },
      "cell_type": "code",
      "source": "temp_data = {'customer':['X','Z','Y','Z','X','X'],'product_code': np.arange(6)} # first create a dictionary\ntemp_data",
      "execution_count": null,
      "outputs": []
    },
    {
      "metadata": {
        "trusted": true
      },
      "cell_type": "code",
      "source": "dframe1 = pd.DataFrame(temp_data) # then create a data frame using the data in this dictionary\ndframe1",
      "execution_count": null,
      "outputs": []
    },
    {
      "metadata": {
        "trusted": true
      },
      "cell_type": "code",
      "source": "dframe2 = pd.DataFrame({'cust':['Q','Y','Z'],'state':['TN','KA','MH']}) # create the DF from a dict in one step\ndframe2",
      "execution_count": null,
      "outputs": []
    },
    {
      "metadata": {
        "trusted": true
      },
      "cell_type": "code",
      "source": "pd.merge(dframe1,dframe2, left_on = 'customer', right_on = 'cust') # inner join; R:merge(x=...,y=...,by=...) or dplyr::inner_join(x,y)",
      "execution_count": null,
      "outputs": []
    },
    {
      "metadata": {
        "trusted": true
      },
      "cell_type": "code",
      "source": "my_merged_dframe = pd.merge(dframe1,dframe2,left_on = 'customer', right_on = 'cust') # explicitly specify which column to merge by",
      "execution_count": null,
      "outputs": []
    },
    {
      "metadata": {
        "trusted": true
      },
      "cell_type": "code",
      "source": "my_merged_dframe",
      "execution_count": null,
      "outputs": []
    },
    {
      "metadata": {
        "trusted": true
      },
      "cell_type": "code",
      "source": "#For performing joins we need a common key so here we will rename the cust column to customer \ndframe2.rename(columns = {'cust':'customer'}, inplace = True)",
      "execution_count": null,
      "outputs": []
    },
    {
      "metadata": {
        "trusted": true
      },
      "cell_type": "code",
      "source": "dframe2",
      "execution_count": null,
      "outputs": []
    },
    {
      "metadata": {
        "trusted": true
      },
      "cell_type": "code",
      "source": "pd.merge(dframe1,dframe2,on='customer',how = 'left') # left join",
      "execution_count": null,
      "outputs": []
    },
    {
      "metadata": {
        "trusted": true
      },
      "cell_type": "code",
      "source": "pd.merge(dframe1,dframe2,on='customer',how = 'right') # right join",
      "execution_count": null,
      "outputs": []
    },
    {
      "metadata": {
        "trusted": true
      },
      "cell_type": "code",
      "source": "pd.merge(dframe1,dframe2,on='customer',how = 'outer') # outer join",
      "execution_count": null,
      "outputs": []
    },
    {
      "metadata": {},
      "cell_type": "markdown",
      "source": "### Many-to-many merge"
    },
    {
      "metadata": {
        "trusted": true
      },
      "cell_type": "code",
      "source": "dframe3 = pd.DataFrame({'key': ['X', 'X', 'X', 'Y', 'Z', 'Z'],'data_set_3': range(6)})\ndframe3",
      "execution_count": null,
      "outputs": []
    },
    {
      "metadata": {
        "trusted": true
      },
      "cell_type": "code",
      "source": "dframe4 = pd.DataFrame({'key': ['Y', 'Y', 'X', 'X', 'Z'],'data_set_4': range(5)})\ndframe4",
      "execution_count": null,
      "outputs": []
    },
    {
      "metadata": {
        "trusted": true
      },
      "cell_type": "code",
      "source": "pd.merge(dframe3,dframe4)",
      "execution_count": null,
      "outputs": []
    },
    {
      "metadata": {
        "trusted": true
      },
      "cell_type": "code",
      "source": "# Merging with multiple keys\ndf_left = pd.DataFrame({'key1': ['SF', 'SF', 'LA'],'key2': ['one', 'two', 'one'],'left_data': [10,20,30]})\ndf_left",
      "execution_count": null,
      "outputs": []
    },
    {
      "metadata": {
        "trusted": true
      },
      "cell_type": "code",
      "source": "df_right = pd.DataFrame({'key1': ['SF', 'SF', 'LA', 'LA'],'key2': ['one', 'one', 'one', 'two'],'right_data': [40,50,60,70]})\ndf_right",
      "execution_count": null,
      "outputs": []
    },
    {
      "metadata": {
        "trusted": true
      },
      "cell_type": "code",
      "source": "pd.merge(df_left,df_right,how = 'inner')",
      "execution_count": null,
      "outputs": []
    },
    {
      "metadata": {
        "trusted": true
      },
      "cell_type": "code",
      "source": "pd.merge(df_left, df_right, on=['key1', 'key2'], how = 'inner')",
      "execution_count": null,
      "outputs": []
    },
    {
      "metadata": {
        "trusted": true
      },
      "cell_type": "code",
      "source": "pd.merge(df_left,df_right,on = 'key1') # merging on a single key when there is more than common column",
      "execution_count": null,
      "outputs": []
    },
    {
      "metadata": {},
      "cell_type": "markdown",
      "source": "Automatically renames the columns to identify which is from which df, by adding suffixes _x and _y; \n\n<i>Or we can specify the suffices we want:</i>"
    },
    {
      "metadata": {
        "trusted": true
      },
      "cell_type": "code",
      "source": "pd.merge(df_left,df_right,on = 'key1',suffixes=['_left','_right'])",
      "execution_count": null,
      "outputs": []
    },
    {
      "metadata": {},
      "cell_type": "markdown",
      "source": "# Merge on index"
    },
    {
      "metadata": {
        "trusted": true
      },
      "cell_type": "code",
      "source": "df_left = pd.DataFrame({'key': ['X','Y','Z','X','Y'],'data': range(5)})\ndf_left",
      "execution_count": null,
      "outputs": []
    },
    {
      "metadata": {
        "trusted": true
      },
      "cell_type": "code",
      "source": "df_right = pd.DataFrame({'group_data': [10, 20]}, index=['X', 'Y'])\ndf_right",
      "execution_count": null,
      "outputs": []
    },
    {
      "metadata": {
        "trusted": true
      },
      "cell_type": "code",
      "source": "pd.merge(df_left,df_right,left_on = 'key',right_index = True)",
      "execution_count": null,
      "outputs": []
    },
    {
      "metadata": {
        "trusted": true
      },
      "cell_type": "code",
      "source": "df_left_hr = pd.DataFrame({'key1': ['SF','SF','SF','LA','LA'],\n                   'key2': [10, 20, 30, 20, 30],\n                   'data_set': np.arange(5.)})\ndf_left_hr",
      "execution_count": null,
      "outputs": []
    },
    {
      "metadata": {
        "trusted": true
      },
      "cell_type": "code",
      "source": "df_right_hr = pd.DataFrame(np.arange(10).reshape((5, 2)),\n                   index=[['LA','LA','SF','SF','SF'],[20, 10, 10, 10, 20]],\n                   columns=['col_1', 'col_2'])\ndf_right_hr",
      "execution_count": null,
      "outputs": []
    },
    {
      "metadata": {
        "trusted": true
      },
      "cell_type": "code",
      "source": "pd.merge(df_left_hr,df_right_hr,left_on=['key1','key2'],right_index=True)",
      "execution_count": null,
      "outputs": []
    },
    {
      "metadata": {},
      "cell_type": "markdown",
      "source": "Alternative to merge - join"
    },
    {
      "metadata": {
        "trusted": true
      },
      "cell_type": "code",
      "source": "df_left.join(df_right)",
      "execution_count": null,
      "outputs": []
    },
    {
      "metadata": {},
      "cell_type": "markdown",
      "source": "<a name=\"concatenate\"></a>\n# Concatenate"
    },
    {
      "metadata": {
        "trusted": true
      },
      "cell_type": "code",
      "source": "arr1 = np.arange(9).reshape((3,3))\narr1",
      "execution_count": null,
      "outputs": []
    },
    {
      "metadata": {
        "trusted": true
      },
      "cell_type": "code",
      "source": "arr2 = (np.arange(9) + 9).reshape((3,3))\narr2",
      "execution_count": null,
      "outputs": []
    },
    {
      "metadata": {},
      "cell_type": "markdown",
      "source": "### Concatenate with <i>numpy</i>"
    },
    {
      "metadata": {
        "trusted": true
      },
      "cell_type": "code",
      "source": "np.concatenate([arr1,arr2],axis=1) # similar to R:cbind",
      "execution_count": null,
      "outputs": []
    },
    {
      "metadata": {
        "trusted": true
      },
      "cell_type": "code",
      "source": "np.concatenate([arr1,arr2],axis=0) # similar to R:rbind",
      "execution_count": null,
      "outputs": []
    },
    {
      "metadata": {},
      "cell_type": "markdown",
      "source": "### Concatenate with <i>pandas</i>"
    },
    {
      "metadata": {
        "trusted": true
      },
      "cell_type": "code",
      "source": "ser1 =  Series([0,1,2],index=['T','U','V'])\nser1",
      "execution_count": null,
      "outputs": []
    },
    {
      "metadata": {
        "trusted": true
      },
      "cell_type": "code",
      "source": "ser2 = Series([3,4],index=['X','Y'])\nser2",
      "execution_count": null,
      "outputs": []
    },
    {
      "metadata": {
        "trusted": true
      },
      "cell_type": "code",
      "source": "pd.concat([ser1,ser2]) # default is by row (axis = 0) - result is a series",
      "execution_count": null,
      "outputs": []
    },
    {
      "metadata": {
        "trusted": true
      },
      "cell_type": "code",
      "source": "pd.concat([ser1,ser2],axis=1) # by column (axis = 1) - result is a data frame",
      "execution_count": null,
      "outputs": []
    },
    {
      "metadata": {
        "trusted": true
      },
      "cell_type": "code",
      "source": "pd.concat([ser1,ser2],keys = ['cat1','cat2']) # creates an additional (hierarchical) index",
      "execution_count": null,
      "outputs": []
    },
    {
      "metadata": {
        "trusted": true
      },
      "cell_type": "code",
      "source": "pd.concat([ser1,ser2],keys=['cat1','cat2'],axis = 1) # if we concatenate by column, the keys become column names",
      "execution_count": null,
      "outputs": []
    },
    {
      "metadata": {},
      "cell_type": "markdown",
      "source": "### Works the same way for data frames"
    },
    {
      "metadata": {
        "trusted": true
      },
      "cell_type": "code",
      "source": "from numpy.random import randn # if I don't do this, I can still use function randn by calling np.random.randn",
      "execution_count": null,
      "outputs": []
    },
    {
      "metadata": {
        "trusted": true
      },
      "cell_type": "code",
      "source": "dframe1 = pd.DataFrame(randn(4,3), columns=['X', 'Y', 'Z'])\ndframe1",
      "execution_count": null,
      "outputs": []
    },
    {
      "metadata": {
        "trusted": true
      },
      "cell_type": "code",
      "source": "dframe2 = pd.DataFrame(randn(3, 3), columns=['Y', 'Q', 'X'])\ndframe2",
      "execution_count": null,
      "outputs": []
    },
    {
      "metadata": {
        "trusted": true
      },
      "cell_type": "code",
      "source": "pd.concat([dframe1,dframe2]) # preserves the original indices",
      "execution_count": null,
      "outputs": []
    },
    {
      "metadata": {
        "trusted": true
      },
      "cell_type": "code",
      "source": "pd.concat([dframe1,dframe2],ignore_index = True) # ignores original index and creates new (continuous) index",
      "execution_count": null,
      "outputs": []
    },
    {
      "metadata": {
        "trusted": true
      },
      "cell_type": "code",
      "source": "pd.concat([dframe1,dframe2],axis = 1)",
      "execution_count": null,
      "outputs": []
    },
    {
      "metadata": {},
      "cell_type": "markdown",
      "source": "## End of video 6"
    }
  ],
  "metadata": {
    "kernelspec": {
      "name": "python3",
      "display_name": "Python 3",
      "language": "python"
    },
    "language_info": {
      "mimetype": "text/x-python",
      "nbconvert_exporter": "python",
      "name": "python",
      "pygments_lexer": "ipython3",
      "version": "3.5.4",
      "file_extension": ".py",
      "codemirror_mode": {
        "version": 3,
        "name": "ipython"
      }
    }
  },
  "nbformat": 4,
  "nbformat_minor": 2
}