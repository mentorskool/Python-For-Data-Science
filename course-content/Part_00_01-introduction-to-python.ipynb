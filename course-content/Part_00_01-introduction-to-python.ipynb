{
  "cells": [
    {
      "metadata": {},
      "cell_type": "markdown",
      "source": "## What are we going to cover?\n* Why should you learn Python?\n* What makes Python easy to learn?\n* What does Python offer for Data Scientists?"
    },
    {
      "metadata": {},
      "cell_type": "markdown",
      "source": "## Ok, Let's Begin!\n\n![name](http://4.bp.blogspot.com/-vKHLPvNgs2I/VlUtHLdhFDI/AAAAAAAAF5I/kuyZxt55l1c/s1600/keep-calm-and-let-s-start-25.png)"
    },
    {
      "metadata": {},
      "cell_type": "markdown",
      "source": "## Why should you learn Python?\n* **Automate your day-to-day repetitive work**\n    * Do you work with lots of excel sheet data in your day-to-day job?\n    * Does it involve lot of copy pasting, transforming data into some other format and presenting in some visuals at the end?\n    * Does your work involve steps like going to a website, navigate to a specific page and copy the content?\n    * Do you need to regularly send your work as an email to your stakeholders?\n<br/><br/>\n* **Build cool web applications**\n    * You have a great idea and you wish to expose the same to your customers through a cool web application\n    * You have nice collection of datasets which you would like to share with others to collaborate and build great stuff\n    \n## Eager to explore more? : \n* We recommend this book to realize the true power of Python\n<br><br/>\n![book](https://images-na.ssl-images-amazon.com/images/I/517XL4pO6jL._SX376_BO1,204,203,200_.jpg)"
    },
    {
      "metadata": {},
      "cell_type": "markdown",
      "source": "## What makes Python easy to learn?\n* It's pretty much English like"
    },
    {
      "metadata": {
        "trusted": true
      },
      "cell_type": "code",
      "source": "# Ex : I need to loop through files in a folder\nfor files in filepath :\n    doSomething()",
      "execution_count": null,
      "outputs": []
    },
    {
      "metadata": {},
      "cell_type": "markdown",
      "source": "* Wherever possible syntax has been made lighter (Comes from it's core design philosophy)"
    },
    {
      "metadata": {
        "trusted": true
      },
      "cell_type": "code",
      "source": "# Syntax in Java : \nfor (i = 0;i< 10;i++)\n    {\n        doSomething()\n    }\n\n# Syntax in Python\nfor i in range(1,10):\n    doSomething()",
      "execution_count": null,
      "outputs": []
    },
    {
      "metadata": {},
      "cell_type": "markdown",
      "source": "* It's a dynamically typed language - makes coding more human like"
    },
    {
      "metadata": {
        "trusted": true
      },
      "cell_type": "code",
      "source": "# In Java/C/C++ we write \nint x = 0\n# Or\nfloat y = 2.5\n# In Python we write\nx = 0\ny = 2.5\n# That's it!",
      "execution_count": null,
      "outputs": []
    },
    {
      "metadata": {},
      "cell_type": "markdown",
      "source": "* Extensive library support alongwith an everactive community (Code once, reuse always!)"
    },
    {
      "metadata": {
        "trusted": true
      },
      "cell_type": "code",
      "source": "# library to work with files, folders\nimport os\n#library to work with webpages and fetching data from web\nimport urllib2\n#library to create games\nimport pygame\n#library to develop web-application\nimport flask, django\n#libraries to achieve almost anything possible in the programming universe",
      "execution_count": null,
      "outputs": []
    },
    {
      "metadata": {},
      "cell_type": "markdown",
      "source": "## But, Wait a minute!\n### We thought we are Data Scientists, What has all this to do with me?"
    },
    {
      "metadata": {},
      "cell_type": "markdown",
      "source": "![](https://telecomenggeek.files.wordpress.com/2016/02/python-snake.jpg?w=663)"
    },
    {
      "metadata": {},
      "cell_type": "markdown",
      "source": "## Here's where the real fun starts!\n### Let's look at the day-to-day job of a Data Scientist :\n* Collect data from a number of sources in unimaginably varied formats\n    * Ex. Excel sheets\n    * Text documents\n    * CSVs\n    * Web pages\n    * APIs\n    * Databases\n    * Cloud Repositories and many more!"
    },
    {
      "metadata": {},
      "cell_type": "markdown",
      "source": "* Look for irregularities, mistyped data, blanks, erroneous inputs etc. and clean it"
    },
    {
      "metadata": {},
      "cell_type": "markdown",
      "source": "* Push the cleaned data into a centralized repository ex. a Database"
    },
    {
      "metadata": {},
      "cell_type": "markdown",
      "source": "* Perform lot of Data Manipulation like joins, aggregations etc."
    },
    {
      "metadata": {},
      "cell_type": "markdown",
      "source": "* Perform extensive exploratory data analyses"
    },
    {
      "metadata": {},
      "cell_type": "markdown",
      "source": "* Build lot of visualizations and create appealing user stories"
    },
    {
      "metadata": {},
      "cell_type": "markdown",
      "source": "* Perform lot of statistical analyses"
    },
    {
      "metadata": {},
      "cell_type": "markdown",
      "source": "* Building lot of machine learning & deep learning models"
    },
    {
      "metadata": {},
      "cell_type": "markdown",
      "source": "* Expose the models as APIs for ease of usage"
    }
  ],
  "metadata": {
    "kernelspec": {
      "name": "python36",
      "display_name": "Python 3.6",
      "language": "python"
    },
    "language_info": {
      "mimetype": "text/x-python",
      "nbconvert_exporter": "python",
      "name": "python",
      "pygments_lexer": "ipython3",
      "version": "3.6.6",
      "file_extension": ".py",
      "codemirror_mode": {
        "version": 3,
        "name": "ipython"
      }
    }
  },
  "nbformat": 4,
  "nbformat_minor": 2
}