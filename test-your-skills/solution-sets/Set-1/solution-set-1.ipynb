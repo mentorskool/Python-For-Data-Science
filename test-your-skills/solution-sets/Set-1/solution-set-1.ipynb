{
  "cells": [
    {
      "metadata": {},
      "cell_type": "markdown",
      "source": "# Python data manipulation exercise - Airline Performance Analysis"
    },
    {
      "metadata": {},
      "cell_type": "markdown",
      "source": "## Problem\n\nAirlines are always run on tight schedules and very thin operating margins. To top this, the customers are extremely demanding expecting their flights to be on time always. Airline carriers try to overcome this challenge by detailed planning and prompt execution. However, there are factors like weather, technical glitches, unexpected challenges at airports which end up causing delay in arrival or departure of aircrafts. Since, the flights hop multiple cities any delay caused at one nodal city adds up and results in significant delays in subsequent stoppages if not taken care of early. \n\n## What is expected from you?\nYou have been provided with 3 datasets : \n1. airline-performance.csv\n2. air-carrier-details.csv\n3. airports.csv\n\nBelow are a set of questions of interest related to the problem statement at hand. Leverage your Python data wrangling skills to solve them"
    },
    {
      "metadata": {
        "trusted": true
      },
      "cell_type": "code",
      "source": "file_path = '../../problem-sets/Set-1/data'",
      "execution_count": 1,
      "outputs": []
    },
    {
      "metadata": {
        "trusted": true
      },
      "cell_type": "code",
      "source": "# Let us read the datasets first\nimport pandas as pd\nar_pf = pd.read_csv(file_path+'/airline-performance.csv')\nar_cr = pd.read_csv(file_path+'/air-carrier-details.csv')\narp = pd.read_csv(file_path+'/airports.csv')",
      "execution_count": 2,
      "outputs": []
    },
    {
      "metadata": {
        "trusted": true
      },
      "cell_type": "code",
      "source": "ar_pf.columns",
      "execution_count": null,
      "outputs": []
    },
    {
      "metadata": {},
      "cell_type": "markdown",
      "source": "## Question : 1"
    },
    {
      "metadata": {},
      "cell_type": "markdown",
      "source": "* Which airline carrier is busiest in terms of volume?"
    },
    {
      "metadata": {},
      "cell_type": "markdown",
      "source": "Let's analyze the question here. We need to find out the name of the airline carrier\n* Also, busiest in terms of volume would mean calculating count of trips\n* As we find out, each row of the dataset airline-performance corresponds to a trip\n* This dataset also has reference to airline carrier called **UniqueCarrierCode** and refers to the dataset air-carrier-details which has the name of the carrier in the column **Description**"
    },
    {
      "metadata": {
        "trusted": true
      },
      "cell_type": "code",
      "source": "# Let's first look at sample data in the dataframe ar_cr\nar_cr.head()",
      "execution_count": 3,
      "outputs": [
        {
          "output_type": "execute_result",
          "execution_count": 3,
          "data": {
            "text/html": "<div>\n<table border=\"1\" class=\"dataframe\">\n  <thead>\n    <tr style=\"text-align: right;\">\n      <th></th>\n      <th>Code</th>\n      <th>Description</th>\n    </tr>\n  </thead>\n  <tbody>\n    <tr>\n      <th>0</th>\n      <td>19031</td>\n      <td>Mackey International Inc.: MAC</td>\n    </tr>\n    <tr>\n      <th>1</th>\n      <td>19032</td>\n      <td>Munz Northern Airlines Inc.: XY</td>\n    </tr>\n    <tr>\n      <th>2</th>\n      <td>19033</td>\n      <td>Cochise Airlines Inc.: COC</td>\n    </tr>\n    <tr>\n      <th>3</th>\n      <td>19034</td>\n      <td>Golden Gate Airlines Inc.: GSA</td>\n    </tr>\n    <tr>\n      <th>4</th>\n      <td>19035</td>\n      <td>Aeromech Inc.: RZZ</td>\n    </tr>\n  </tbody>\n</table>\n</div>",
            "text/plain": "    Code                      Description\n0  19031   Mackey International Inc.: MAC\n1  19032  Munz Northern Airlines Inc.: XY\n2  19033       Cochise Airlines Inc.: COC\n3  19034   Golden Gate Airlines Inc.: GSA\n4  19035               Aeromech Inc.: RZZ"
          },
          "metadata": {}
        }
      ]
    },
    {
      "metadata": {
        "trusted": true
      },
      "cell_type": "code",
      "source": "# Looking at the data above, it seems the value which is required to join with the datasets ar_pf is a part of \n# the Description column\n# We need to extract the letters after the : symbol, which would then be used to join the dataset ar_pf using the \n# column UniqueCarrierCode\n# This can be easily done by the below code\n\nar_cr[['airline_name','airline_code']] = ar_cr['Description'].str.split(':',expand = True)",
      "execution_count": 4,
      "outputs": []
    },
    {
      "metadata": {
        "trusted": true
      },
      "cell_type": "code",
      "source": "ar_cr.head()",
      "execution_count": 5,
      "outputs": [
        {
          "output_type": "execute_result",
          "execution_count": 5,
          "data": {
            "text/html": "<div>\n<table border=\"1\" class=\"dataframe\">\n  <thead>\n    <tr style=\"text-align: right;\">\n      <th></th>\n      <th>Code</th>\n      <th>Description</th>\n      <th>airline_name</th>\n      <th>airline_code</th>\n    </tr>\n  </thead>\n  <tbody>\n    <tr>\n      <th>0</th>\n      <td>19031</td>\n      <td>Mackey International Inc.: MAC</td>\n      <td>Mackey International Inc.</td>\n      <td>MAC</td>\n    </tr>\n    <tr>\n      <th>1</th>\n      <td>19032</td>\n      <td>Munz Northern Airlines Inc.: XY</td>\n      <td>Munz Northern Airlines Inc.</td>\n      <td>XY</td>\n    </tr>\n    <tr>\n      <th>2</th>\n      <td>19033</td>\n      <td>Cochise Airlines Inc.: COC</td>\n      <td>Cochise Airlines Inc.</td>\n      <td>COC</td>\n    </tr>\n    <tr>\n      <th>3</th>\n      <td>19034</td>\n      <td>Golden Gate Airlines Inc.: GSA</td>\n      <td>Golden Gate Airlines Inc.</td>\n      <td>GSA</td>\n    </tr>\n    <tr>\n      <th>4</th>\n      <td>19035</td>\n      <td>Aeromech Inc.: RZZ</td>\n      <td>Aeromech Inc.</td>\n      <td>RZZ</td>\n    </tr>\n  </tbody>\n</table>\n</div>",
            "text/plain": "    Code                      Description                 airline_name  \\\n0  19031   Mackey International Inc.: MAC    Mackey International Inc.   \n1  19032  Munz Northern Airlines Inc.: XY  Munz Northern Airlines Inc.   \n2  19033       Cochise Airlines Inc.: COC        Cochise Airlines Inc.   \n3  19034   Golden Gate Airlines Inc.: GSA    Golden Gate Airlines Inc.   \n4  19035               Aeromech Inc.: RZZ                Aeromech Inc.   \n\n  airline_code  \n0          MAC  \n1           XY  \n2          COC  \n3          GSA  \n4          RZZ  "
          },
          "metadata": {}
        }
      ]
    },
    {
      "metadata": {},
      "cell_type": "markdown",
      "source": "Have a look at the reference [here](https://www.geeksforgeeks.org/split-a-text-column-into-two-columns-in-pandas-dataframe/) to understand the above code"
    },
    {
      "metadata": {
        "trusted": true
      },
      "cell_type": "code",
      "source": "# Just for hygiene purposes we strip off all possible whitespaces from the code\nar_cr['airline_code'] = ar_cr['airline_code'].str.strip()",
      "execution_count": 6,
      "outputs": []
    },
    {
      "metadata": {
        "scrolled": true,
        "trusted": true
      },
      "cell_type": "code",
      "source": "# Let's now look how the dataframe looks like :\nar_cr.head()",
      "execution_count": 7,
      "outputs": [
        {
          "output_type": "execute_result",
          "execution_count": 7,
          "data": {
            "text/html": "<div>\n<table border=\"1\" class=\"dataframe\">\n  <thead>\n    <tr style=\"text-align: right;\">\n      <th></th>\n      <th>Code</th>\n      <th>Description</th>\n      <th>airline_name</th>\n      <th>airline_code</th>\n    </tr>\n  </thead>\n  <tbody>\n    <tr>\n      <th>0</th>\n      <td>19031</td>\n      <td>Mackey International Inc.: MAC</td>\n      <td>Mackey International Inc.</td>\n      <td>MAC</td>\n    </tr>\n    <tr>\n      <th>1</th>\n      <td>19032</td>\n      <td>Munz Northern Airlines Inc.: XY</td>\n      <td>Munz Northern Airlines Inc.</td>\n      <td>XY</td>\n    </tr>\n    <tr>\n      <th>2</th>\n      <td>19033</td>\n      <td>Cochise Airlines Inc.: COC</td>\n      <td>Cochise Airlines Inc.</td>\n      <td>COC</td>\n    </tr>\n    <tr>\n      <th>3</th>\n      <td>19034</td>\n      <td>Golden Gate Airlines Inc.: GSA</td>\n      <td>Golden Gate Airlines Inc.</td>\n      <td>GSA</td>\n    </tr>\n    <tr>\n      <th>4</th>\n      <td>19035</td>\n      <td>Aeromech Inc.: RZZ</td>\n      <td>Aeromech Inc.</td>\n      <td>RZZ</td>\n    </tr>\n  </tbody>\n</table>\n</div>",
            "text/plain": "    Code                      Description                 airline_name  \\\n0  19031   Mackey International Inc.: MAC    Mackey International Inc.   \n1  19032  Munz Northern Airlines Inc.: XY  Munz Northern Airlines Inc.   \n2  19033       Cochise Airlines Inc.: COC        Cochise Airlines Inc.   \n3  19034   Golden Gate Airlines Inc.: GSA    Golden Gate Airlines Inc.   \n4  19035               Aeromech Inc.: RZZ                Aeromech Inc.   \n\n  airline_code  \n0          MAC  \n1           XY  \n2          COC  \n3          GSA  \n4          RZZ  "
          },
          "metadata": {}
        }
      ]
    },
    {
      "metadata": {
        "trusted": true
      },
      "cell_type": "code",
      "source": "# Cool, now all that is left is joining with the ar_pf dataframe on UniqueCarrierCode column\n# we do this using merge function of pandas\n# Why do we do left join?\ndfq1 = pd.merge(ar_pf,ar_cr,left_on='UniqueCarrierCode',right_on='airline_code',how='left')",
      "execution_count": 8,
      "outputs": []
    },
    {
      "metadata": {
        "trusted": true
      },
      "cell_type": "code",
      "source": "# Ok, merge is done. Let's see how the new dataframe looks like\ndfq1.loc[:0,]",
      "execution_count": 9,
      "outputs": [
        {
          "output_type": "execute_result",
          "execution_count": 9,
          "data": {
            "text/html": "<div>\n<table border=\"1\" class=\"dataframe\">\n  <thead>\n    <tr style=\"text-align: right;\">\n      <th></th>\n      <th>RowNo</th>\n      <th>Month</th>\n      <th>DayofMonth</th>\n      <th>DayOfWeek</th>\n      <th>DepTime</th>\n      <th>ShDepTime</th>\n      <th>ArrTime</th>\n      <th>ShArrTime</th>\n      <th>UniqueCarrierCode</th>\n      <th>FlightNum</th>\n      <th>...</th>\n      <th>Diverted</th>\n      <th>CarrierDelay</th>\n      <th>WeatherDelay</th>\n      <th>NASDelay</th>\n      <th>SecurityDelay</th>\n      <th>LateAircraftDelay</th>\n      <th>Code</th>\n      <th>Description</th>\n      <th>airline_name</th>\n      <th>airline_code</th>\n    </tr>\n  </thead>\n  <tbody>\n    <tr>\n      <th>0</th>\n      <td>1</td>\n      <td>9</td>\n      <td>16</td>\n      <td>2</td>\n      <td>1725.0</td>\n      <td>1730</td>\n      <td>1857.0</td>\n      <td>1909.0</td>\n      <td>CO</td>\n      <td>1197</td>\n      <td>...</td>\n      <td>0</td>\n      <td>NaN</td>\n      <td>NaN</td>\n      <td>NaN</td>\n      <td>NaN</td>\n      <td>NaN</td>\n      <td>19704.0</td>\n      <td>Continental Air Lines Inc.: CO</td>\n      <td>Continental Air Lines Inc.</td>\n      <td>CO</td>\n    </tr>\n  </tbody>\n</table>\n<p>1 rows × 33 columns</p>\n</div>",
            "text/plain": "   RowNo  Month  DayofMonth  DayOfWeek  DepTime  ShDepTime  ArrTime  \\\n0      1      9          16          2   1725.0       1730   1857.0   \n\n   ShArrTime UniqueCarrierCode  FlightNum      ...      Diverted  \\\n0     1909.0                CO       1197      ...             0   \n\n   CarrierDelay  WeatherDelay  NASDelay  SecurityDelay  LateAircraftDelay  \\\n0           NaN           NaN       NaN            NaN                NaN   \n\n      Code                     Description                airline_name  \\\n0  19704.0  Continental Air Lines Inc.: CO  Continental Air Lines Inc.   \n\n   airline_code  \n0            CO  \n\n[1 rows x 33 columns]"
          },
          "metadata": {}
        }
      ]
    },
    {
      "metadata": {
        "trusted": true
      },
      "cell_type": "code",
      "source": "# Just a check to see which all columns have missing values (we just did a left join above)\ndfq1.info()",
      "execution_count": 10,
      "outputs": [
        {
          "output_type": "stream",
          "text": "<class 'pandas.core.frame.DataFrame'>\nInt64Index: 25000 entries, 0 to 24999\nData columns (total 33 columns):\nRowNo                25000 non-null int64\nMonth                25000 non-null int64\nDayofMonth           25000 non-null int64\nDayOfWeek            25000 non-null int64\nDepTime              24518 non-null float64\nShDepTime            25000 non-null int64\nArrTime              24464 non-null float64\nShArrTime            24995 non-null float64\nUniqueCarrierCode    25000 non-null object\nFlightNum            25000 non-null int64\nTailNum              24705 non-null object\nActualElapsedTime    24451 non-null float64\nShElapsedTime        24998 non-null float64\nAirTime              24451 non-null float64\nArrDelay             24418 non-null float64\nDepDelay             24508 non-null float64\nOriginCode           25000 non-null object\nDestCode             25000 non-null object\nDistance             24994 non-null float64\nTaxiIn               24464 non-null float64\nTaxiOut              24516 non-null float64\nCancelled            25000 non-null int64\nCancellationCode     485 non-null object\nDiverted             25000 non-null int64\nCarrierDelay         5414 non-null float64\nWeatherDelay         5414 non-null float64\nNASDelay             5414 non-null float64\nSecurityDelay        5414 non-null float64\nLateAircraftDelay    5414 non-null float64\nCode                 23382 non-null float64\nDescription          23382 non-null object\nairline_name         23382 non-null object\nairline_code         23382 non-null object\ndtypes: float64(17), int64(8), object(8)\nmemory usage: 6.5+ MB\n",
          "name": "stdout"
        }
      ]
    },
    {
      "metadata": {
        "trusted": true
      },
      "cell_type": "code",
      "source": "# Let's set missing values in airline_name column with NA\ndfq1['airline_name'].fillna('NA',inplace = True)\n# Why inplace = True above?\n# Because fillna function without inplace = True does not replace the actual data in the dataframe. \n# For the fillna function to take effect inplace = True needs to be supplied",
      "execution_count": 11,
      "outputs": []
    },
    {
      "metadata": {
        "scrolled": false,
        "trusted": true
      },
      "cell_type": "code",
      "source": "# Now, we can group by airline_name\n# take count of rows using the size function\n# sort the data by the count\n# and slice out the top row\ndfq1.groupby('airline_name').size().sort_values(ascending=False)[:1]",
      "execution_count": 12,
      "outputs": [
        {
          "output_type": "execute_result",
          "execution_count": 12,
          "data": {
            "text/plain": "airline_name\nSouthwest Airlines Co.    4297\ndtype: int64"
          },
          "metadata": {}
        }
      ]
    },
    {
      "metadata": {
        "trusted": true
      },
      "cell_type": "code",
      "source": "# Let's store the name and value separately (of the top most airline)\nairline_name = dfq1.groupby('airline_name').size().sort_values(ascending=False).index[0]\nvalue = dfq1.groupby('airline_name').size().sort_values(ascending=False).values[0]",
      "execution_count": 13,
      "outputs": []
    },
    {
      "metadata": {
        "trusted": true
      },
      "cell_type": "code",
      "source": "# Let's print the final result in a readable format\nprint(\"Airline %s is the busiest in terms of volume having trip count = %d\"%(airline_name,value))",
      "execution_count": 14,
      "outputs": [
        {
          "output_type": "stream",
          "text": "Airline Southwest Airlines Co. is the busiest in terms of volume having trip count = 4297\n",
          "name": "stdout"
        }
      ]
    },
    {
      "metadata": {},
      "cell_type": "markdown",
      "source": "## Question : 2"
    },
    {
      "metadata": {},
      "cell_type": "markdown",
      "source": "* Which city is busiest in terms of traffic?\n    * Please note that you need to print out the city names against the traffic number and not just the airport name\n    * Ex. an airport name entry looks like : **New York, NY: John F Kennedy International**. The city name from this entry is **New York** "
    },
    {
      "metadata": {
        "trusted": true
      },
      "cell_type": "code",
      "source": "# Step 1 : Take count of trips by source city = This gives the departure count by city\ndf_dep = dfq1.groupby('OriginCode').size()\nprint(type(df_dep))\ndf_dep[:3]",
      "execution_count": 15,
      "outputs": [
        {
          "output_type": "stream",
          "text": "<class 'pandas.core.series.Series'>\n",
          "name": "stdout"
        },
        {
          "output_type": "execute_result",
          "execution_count": 15,
          "data": {
            "text/plain": "OriginCode\nABE     13\nABI     17\nABQ    169\ndtype: int64"
          },
          "metadata": {}
        }
      ]
    },
    {
      "metadata": {
        "trusted": true
      },
      "cell_type": "code",
      "source": "# Step 2 : Repeat the above by destination city = This gives the arrival count by city\ndf_arr = dfq1.groupby('DestCode').size()\nprint(type(df_arr))\ndf_arr[:3]",
      "execution_count": 32,
      "outputs": [
        {
          "output_type": "stream",
          "text": "<class 'pandas.core.series.Series'>\n",
          "name": "stdout"
        },
        {
          "output_type": "execute_result",
          "execution_count": 32,
          "data": {
            "text/plain": "DestCode\nABE     23\nABI      7\nABQ    146\ndtype: int64"
          },
          "metadata": {}
        }
      ]
    },
    {
      "metadata": {
        "trusted": true
      },
      "cell_type": "code",
      "source": "# To calculate total traffic, total arrivals and departures need to be added up \n# Let's create a new series which is a sum total of departure series and arrival series\ndf_tot = df_dep.add(df_arr)",
      "execution_count": 17,
      "outputs": []
    },
    {
      "metadata": {
        "scrolled": true,
        "trusted": true
      },
      "cell_type": "code",
      "source": "# Now, let's create a dataframe which would include the 3 series : departures, arrivals and totals\n# We also do a reset index at the end as this process would set the series starting from 0\nfinal_df = pd.concat([df_dep,df_arr,df_tot], axis=1).reset_index()",
      "execution_count": 18,
      "outputs": []
    },
    {
      "metadata": {
        "trusted": true
      },
      "cell_type": "code",
      "source": "final_df.columns = ['City_Code','#Departures','#Arrivals','Total Traffic']",
      "execution_count": 19,
      "outputs": []
    },
    {
      "metadata": {
        "scrolled": true,
        "trusted": true
      },
      "cell_type": "code",
      "source": "# Let's look at first few rows of the dataframe\nfinal_df.head()",
      "execution_count": 20,
      "outputs": [
        {
          "output_type": "execute_result",
          "execution_count": 20,
          "data": {
            "text/html": "<div>\n<table border=\"1\" class=\"dataframe\">\n  <thead>\n    <tr style=\"text-align: right;\">\n      <th></th>\n      <th>City_Code</th>\n      <th>#Departures</th>\n      <th>#Arrivals</th>\n      <th>Total Traffic</th>\n    </tr>\n  </thead>\n  <tbody>\n    <tr>\n      <th>0</th>\n      <td>ABE</td>\n      <td>13.0</td>\n      <td>23.0</td>\n      <td>36.0</td>\n    </tr>\n    <tr>\n      <th>1</th>\n      <td>ABI</td>\n      <td>17.0</td>\n      <td>7.0</td>\n      <td>24.0</td>\n    </tr>\n    <tr>\n      <th>2</th>\n      <td>ABQ</td>\n      <td>169.0</td>\n      <td>146.0</td>\n      <td>315.0</td>\n    </tr>\n    <tr>\n      <th>3</th>\n      <td>ABY</td>\n      <td>4.0</td>\n      <td>3.0</td>\n      <td>7.0</td>\n    </tr>\n    <tr>\n      <th>4</th>\n      <td>ACK</td>\n      <td>2.0</td>\n      <td>2.0</td>\n      <td>4.0</td>\n    </tr>\n  </tbody>\n</table>\n</div>",
            "text/plain": "  City_Code  #Departures  #Arrivals  Total Traffic\n0       ABE         13.0       23.0           36.0\n1       ABI         17.0        7.0           24.0\n2       ABQ        169.0      146.0          315.0\n3       ABY          4.0        3.0            7.0\n4       ACK          2.0        2.0            4.0"
          },
          "metadata": {}
        }
      ]
    },
    {
      "metadata": {
        "trusted": true
      },
      "cell_type": "code",
      "source": "# join with arp dataframe to fetch names of cities\narp.head()",
      "execution_count": 21,
      "outputs": [
        {
          "output_type": "execute_result",
          "execution_count": 21,
          "data": {
            "text/html": "<div>\n<table border=\"1\" class=\"dataframe\">\n  <thead>\n    <tr style=\"text-align: right;\">\n      <th></th>\n      <th>Code</th>\n      <th>Description</th>\n    </tr>\n  </thead>\n  <tbody>\n    <tr>\n      <th>0</th>\n      <td>01A</td>\n      <td>Afognak Lake, AK: Afognak Lake Airport</td>\n    </tr>\n    <tr>\n      <th>1</th>\n      <td>03A</td>\n      <td>Granite Mountain, AK: Bear Creek Mining Strip</td>\n    </tr>\n    <tr>\n      <th>2</th>\n      <td>04A</td>\n      <td>Lik, AK: Lik Mining Camp</td>\n    </tr>\n    <tr>\n      <th>3</th>\n      <td>05A</td>\n      <td>Little Squaw, AK: Little Squaw Airport</td>\n    </tr>\n    <tr>\n      <th>4</th>\n      <td>06A</td>\n      <td>Kizhuyak, AK: Kizhuyak Bay</td>\n    </tr>\n  </tbody>\n</table>\n</div>",
            "text/plain": "  Code                                    Description\n0  01A         Afognak Lake, AK: Afognak Lake Airport\n1  03A  Granite Mountain, AK: Bear Creek Mining Strip\n2  04A                       Lik, AK: Lik Mining Camp\n3  05A         Little Squaw, AK: Little Squaw Airport\n4  06A                     Kizhuyak, AK: Kizhuyak Bay"
          },
          "metadata": {}
        }
      ]
    },
    {
      "metadata": {
        "trusted": true
      },
      "cell_type": "code",
      "source": "#again splitting the description column as done before\narp[['city','airport_name']] = arp['Description'].str.split(':',expand = True)",
      "execution_count": 22,
      "outputs": []
    },
    {
      "metadata": {
        "trusted": true
      },
      "cell_type": "code",
      "source": "arp.head()",
      "execution_count": 23,
      "outputs": [
        {
          "output_type": "execute_result",
          "execution_count": 23,
          "data": {
            "text/html": "<div>\n<table border=\"1\" class=\"dataframe\">\n  <thead>\n    <tr style=\"text-align: right;\">\n      <th></th>\n      <th>Code</th>\n      <th>Description</th>\n      <th>city</th>\n      <th>airport_name</th>\n    </tr>\n  </thead>\n  <tbody>\n    <tr>\n      <th>0</th>\n      <td>01A</td>\n      <td>Afognak Lake, AK: Afognak Lake Airport</td>\n      <td>Afognak Lake, AK</td>\n      <td>Afognak Lake Airport</td>\n    </tr>\n    <tr>\n      <th>1</th>\n      <td>03A</td>\n      <td>Granite Mountain, AK: Bear Creek Mining Strip</td>\n      <td>Granite Mountain, AK</td>\n      <td>Bear Creek Mining Strip</td>\n    </tr>\n    <tr>\n      <th>2</th>\n      <td>04A</td>\n      <td>Lik, AK: Lik Mining Camp</td>\n      <td>Lik, AK</td>\n      <td>Lik Mining Camp</td>\n    </tr>\n    <tr>\n      <th>3</th>\n      <td>05A</td>\n      <td>Little Squaw, AK: Little Squaw Airport</td>\n      <td>Little Squaw, AK</td>\n      <td>Little Squaw Airport</td>\n    </tr>\n    <tr>\n      <th>4</th>\n      <td>06A</td>\n      <td>Kizhuyak, AK: Kizhuyak Bay</td>\n      <td>Kizhuyak, AK</td>\n      <td>Kizhuyak Bay</td>\n    </tr>\n  </tbody>\n</table>\n</div>",
            "text/plain": "  Code                                    Description                  city  \\\n0  01A         Afognak Lake, AK: Afognak Lake Airport      Afognak Lake, AK   \n1  03A  Granite Mountain, AK: Bear Creek Mining Strip  Granite Mountain, AK   \n2  04A                       Lik, AK: Lik Mining Camp               Lik, AK   \n3  05A         Little Squaw, AK: Little Squaw Airport      Little Squaw, AK   \n4  06A                     Kizhuyak, AK: Kizhuyak Bay          Kizhuyak, AK   \n\n               airport_name  \n0      Afognak Lake Airport  \n1   Bear Creek Mining Strip  \n2           Lik Mining Camp  \n3      Little Squaw Airport  \n4              Kizhuyak Bay  "
          },
          "metadata": {}
        }
      ]
    },
    {
      "metadata": {
        "trusted": true
      },
      "cell_type": "code",
      "source": "# split the city column further to fetch the first value\n# please note the argument 1 below. This means fetch the value at the \"first\" occurrence of \",\"\narp[['city_name','state_code']] = arp['city'].str.split(',',1,expand = True)",
      "execution_count": 24,
      "outputs": []
    },
    {
      "metadata": {
        "trusted": true
      },
      "cell_type": "code",
      "source": "arp.head()",
      "execution_count": 25,
      "outputs": [
        {
          "output_type": "execute_result",
          "execution_count": 25,
          "data": {
            "text/html": "<div>\n<table border=\"1\" class=\"dataframe\">\n  <thead>\n    <tr style=\"text-align: right;\">\n      <th></th>\n      <th>Code</th>\n      <th>Description</th>\n      <th>city</th>\n      <th>airport_name</th>\n      <th>city_name</th>\n      <th>state_code</th>\n    </tr>\n  </thead>\n  <tbody>\n    <tr>\n      <th>0</th>\n      <td>01A</td>\n      <td>Afognak Lake, AK: Afognak Lake Airport</td>\n      <td>Afognak Lake, AK</td>\n      <td>Afognak Lake Airport</td>\n      <td>Afognak Lake</td>\n      <td>AK</td>\n    </tr>\n    <tr>\n      <th>1</th>\n      <td>03A</td>\n      <td>Granite Mountain, AK: Bear Creek Mining Strip</td>\n      <td>Granite Mountain, AK</td>\n      <td>Bear Creek Mining Strip</td>\n      <td>Granite Mountain</td>\n      <td>AK</td>\n    </tr>\n    <tr>\n      <th>2</th>\n      <td>04A</td>\n      <td>Lik, AK: Lik Mining Camp</td>\n      <td>Lik, AK</td>\n      <td>Lik Mining Camp</td>\n      <td>Lik</td>\n      <td>AK</td>\n    </tr>\n    <tr>\n      <th>3</th>\n      <td>05A</td>\n      <td>Little Squaw, AK: Little Squaw Airport</td>\n      <td>Little Squaw, AK</td>\n      <td>Little Squaw Airport</td>\n      <td>Little Squaw</td>\n      <td>AK</td>\n    </tr>\n    <tr>\n      <th>4</th>\n      <td>06A</td>\n      <td>Kizhuyak, AK: Kizhuyak Bay</td>\n      <td>Kizhuyak, AK</td>\n      <td>Kizhuyak Bay</td>\n      <td>Kizhuyak</td>\n      <td>AK</td>\n    </tr>\n  </tbody>\n</table>\n</div>",
            "text/plain": "  Code                                    Description                  city  \\\n0  01A         Afognak Lake, AK: Afognak Lake Airport      Afognak Lake, AK   \n1  03A  Granite Mountain, AK: Bear Creek Mining Strip  Granite Mountain, AK   \n2  04A                       Lik, AK: Lik Mining Camp               Lik, AK   \n3  05A         Little Squaw, AK: Little Squaw Airport      Little Squaw, AK   \n4  06A                     Kizhuyak, AK: Kizhuyak Bay          Kizhuyak, AK   \n\n               airport_name         city_name state_code  \n0      Afognak Lake Airport      Afognak Lake         AK  \n1   Bear Creek Mining Strip  Granite Mountain         AK  \n2           Lik Mining Camp               Lik         AK  \n3      Little Squaw Airport      Little Squaw         AK  \n4              Kizhuyak Bay          Kizhuyak         AK  "
          },
          "metadata": {}
        }
      ]
    },
    {
      "metadata": {
        "trusted": true
      },
      "cell_type": "code",
      "source": "# get rid of columns which are not required\narp.drop(['Description','city','airport_name','state_code'],axis = 1,inplace=True)",
      "execution_count": 26,
      "outputs": []
    },
    {
      "metadata": {
        "trusted": true
      },
      "cell_type": "code",
      "source": "arp.head()",
      "execution_count": 33,
      "outputs": [
        {
          "output_type": "execute_result",
          "execution_count": 33,
          "data": {
            "text/html": "<div>\n<table border=\"1\" class=\"dataframe\">\n  <thead>\n    <tr style=\"text-align: right;\">\n      <th></th>\n      <th>Code</th>\n      <th>city_name</th>\n    </tr>\n  </thead>\n  <tbody>\n    <tr>\n      <th>0</th>\n      <td>01A</td>\n      <td>Afognak Lake</td>\n    </tr>\n    <tr>\n      <th>1</th>\n      <td>03A</td>\n      <td>Granite Mountain</td>\n    </tr>\n    <tr>\n      <th>2</th>\n      <td>04A</td>\n      <td>Lik</td>\n    </tr>\n    <tr>\n      <th>3</th>\n      <td>05A</td>\n      <td>Little Squaw</td>\n    </tr>\n    <tr>\n      <th>4</th>\n      <td>06A</td>\n      <td>Kizhuyak</td>\n    </tr>\n  </tbody>\n</table>\n</div>",
            "text/plain": "  Code         city_name\n0  01A      Afognak Lake\n1  03A  Granite Mountain\n2  04A               Lik\n3  05A      Little Squaw\n4  06A          Kizhuyak"
          },
          "metadata": {}
        }
      ]
    },
    {
      "metadata": {
        "scrolled": true,
        "trusted": true
      },
      "cell_type": "code",
      "source": "# As an hygiene we should ensure there are no whitespaces in the city_name\narp['city_name'] = arp['city_name'].str.strip()",
      "execution_count": 28,
      "outputs": []
    },
    {
      "metadata": {
        "trusted": true
      },
      "cell_type": "code",
      "source": "# Cool, now all that is left is joining with the ar_pf dataframe on City_Code column\ndfq2 = pd.merge(final_df,arp,left_on='City_Code',right_on='Code',how='left')",
      "execution_count": 34,
      "outputs": []
    },
    {
      "metadata": {
        "trusted": true
      },
      "cell_type": "code",
      "source": "dfq2.head()",
      "execution_count": 30,
      "outputs": [
        {
          "output_type": "execute_result",
          "execution_count": 30,
          "data": {
            "text/html": "<div>\n<table border=\"1\" class=\"dataframe\">\n  <thead>\n    <tr style=\"text-align: right;\">\n      <th></th>\n      <th>City_Code</th>\n      <th>#Departures</th>\n      <th>#Arrivals</th>\n      <th>Total Traffic</th>\n      <th>Code</th>\n      <th>city_name</th>\n    </tr>\n  </thead>\n  <tbody>\n    <tr>\n      <th>0</th>\n      <td>ABE</td>\n      <td>13.0</td>\n      <td>23.0</td>\n      <td>36.0</td>\n      <td>ABE</td>\n      <td>Allentown/Bethlehem/Easton</td>\n    </tr>\n    <tr>\n      <th>1</th>\n      <td>ABI</td>\n      <td>17.0</td>\n      <td>7.0</td>\n      <td>24.0</td>\n      <td>ABI</td>\n      <td>Abilene</td>\n    </tr>\n    <tr>\n      <th>2</th>\n      <td>ABQ</td>\n      <td>169.0</td>\n      <td>146.0</td>\n      <td>315.0</td>\n      <td>NaN</td>\n      <td>NaN</td>\n    </tr>\n    <tr>\n      <th>3</th>\n      <td>ABY</td>\n      <td>4.0</td>\n      <td>3.0</td>\n      <td>7.0</td>\n      <td>ABY</td>\n      <td>Albany</td>\n    </tr>\n    <tr>\n      <th>4</th>\n      <td>ACK</td>\n      <td>2.0</td>\n      <td>2.0</td>\n      <td>4.0</td>\n      <td>ACK</td>\n      <td>Nantucket</td>\n    </tr>\n  </tbody>\n</table>\n</div>",
            "text/plain": "  City_Code  #Departures  #Arrivals  Total Traffic Code  \\\n0       ABE         13.0       23.0           36.0  ABE   \n1       ABI         17.0        7.0           24.0  ABI   \n2       ABQ        169.0      146.0          315.0  NaN   \n3       ABY          4.0        3.0            7.0  ABY   \n4       ACK          2.0        2.0            4.0  ACK   \n\n                    city_name  \n0  Allentown/Bethlehem/Easton  \n1                     Abilene  \n2                         NaN  \n3                      Albany  \n4                   Nantucket  "
          },
          "metadata": {}
        }
      ]
    },
    {
      "metadata": {
        "trusted": true
      },
      "cell_type": "code",
      "source": "# We sort the final dataframe to ensure the city with highest traffic comes at the top\ndfq2.sort_values(by='Total Traffic',ascending=False)[:1]",
      "execution_count": 35,
      "outputs": [
        {
          "output_type": "execute_result",
          "execution_count": 35,
          "data": {
            "text/html": "<div>\n<table border=\"1\" class=\"dataframe\">\n  <thead>\n    <tr style=\"text-align: right;\">\n      <th></th>\n      <th>City_Code</th>\n      <th>#Departures</th>\n      <th>#Arrivals</th>\n      <th>Total Traffic</th>\n      <th>Code</th>\n      <th>city_name</th>\n    </tr>\n  </thead>\n  <tbody>\n    <tr>\n      <th>15</th>\n      <td>ATL</td>\n      <td>1524.0</td>\n      <td>1483.0</td>\n      <td>3007.0</td>\n      <td>ATL</td>\n      <td>Atlanta</td>\n    </tr>\n  </tbody>\n</table>\n</div>",
            "text/plain": "   City_Code  #Departures  #Arrivals  Total Traffic Code city_name\n15       ATL       1524.0     1483.0         3007.0  ATL   Atlanta"
          },
          "metadata": {}
        }
      ]
    },
    {
      "metadata": {
        "trusted": true
      },
      "cell_type": "code",
      "source": "# Let's store the name and value separately (of the top most airline)\n# iloc index 0 means first row of dataframe, index -1 means last value\ncity_name = dfq2.sort_values(by='Total Traffic',ascending=False).iloc[0][-1]\nvalue = dfq2.sort_values(by='Total Traffic',ascending=False).iloc[0][-3]",
      "execution_count": null,
      "outputs": []
    },
    {
      "metadata": {
        "trusted": true
      },
      "cell_type": "code",
      "source": "# Let's print the final result in a readable format\nprint(\"%s City is the busiest in terms of traffic with value = %d\"%(city_name,value))",
      "execution_count": null,
      "outputs": []
    },
    {
      "metadata": {},
      "cell_type": "markdown",
      "source": "## Question : 3"
    },
    {
      "metadata": {},
      "cell_type": "markdown",
      "source": "* Which carrier has got the highest air time?"
    },
    {
      "metadata": {
        "trusted": true
      },
      "cell_type": "code",
      "source": "# type your code below\ndfq3 = dfq1.groupby('airline_name')['AirTime'].sum().sort_values(ascending=False)  ",
      "execution_count": 36,
      "outputs": []
    },
    {
      "metadata": {
        "trusted": true
      },
      "cell_type": "code",
      "source": "dfq3.head()",
      "execution_count": 37,
      "outputs": [
        {
          "output_type": "execute_result",
          "execution_count": 37,
          "data": {
            "text/plain": "airline_name\nSouthwest Airlines Co.    391738.0\nAmerican Airlines Inc.    304847.0\nUnited Air Lines Inc.     226330.0\nDelta Air Lines Inc.      202495.0\nNA                        186664.0\nName: AirTime, dtype: float64"
          },
          "metadata": {}
        }
      ]
    },
    {
      "metadata": {
        "trusted": true
      },
      "cell_type": "code",
      "source": "# Let's store the name and value separately (of the top most airline)\n# iloc index 0 means first row of dataframe, index -1 means last value\ncarrier_name = dfq3.index[0]\nvalue = dfq3.values[0]",
      "execution_count": 38,
      "outputs": []
    },
    {
      "metadata": {
        "trusted": true
      },
      "cell_type": "code",
      "source": "# Let's print the final result in a readable format\nprint(\"Airline %s has got the highest airtime with value as %d minutes\"%(carrier_name,value))",
      "execution_count": 39,
      "outputs": [
        {
          "output_type": "stream",
          "text": "Airline Southwest Airlines Co. has got the highest airtime with value as 391738 minutes\n",
          "name": "stdout"
        }
      ]
    },
    {
      "metadata": {},
      "cell_type": "markdown",
      "source": "## Question : 4"
    },
    {
      "metadata": {},
      "cell_type": "markdown",
      "source": "* List top 5 cities which are busiest in terms of average flights handled per day for the month of June?"
    },
    {
      "metadata": {
        "trusted": true
      },
      "cell_type": "code",
      "source": "# let's first find out how many inbound or outbound flights are there for every city for each day of the month\n# Let's look for all departures first, and then arrivals\ndep_jun = ar_pf[ar_pf['Month'] == 6].groupby(['OriginCode','DayofMonth']).size()\narr_jun = ar_pf[ar_pf['Month'] == 6].groupby(['DestCode','DayofMonth']).size()",
      "execution_count": 40,
      "outputs": []
    },
    {
      "metadata": {
        "trusted": true
      },
      "cell_type": "code",
      "source": "# let's convert both series obtained above to pandas dataframes\ndep_jun = pd.DataFrame(dep_jun)\narr_jun = pd.DataFrame(arr_jun)",
      "execution_count": 41,
      "outputs": []
    },
    {
      "metadata": {
        "trusted": true
      },
      "cell_type": "code",
      "source": "",
      "execution_count": null,
      "outputs": []
    },
    {
      "metadata": {
        "trusted": true
      },
      "cell_type": "code",
      "source": "# let's give a meaningful name to columns in both dataframes\ndep_jun.columns =['#Departures']\narr_jun.columns =['#Arrivals']",
      "execution_count": 42,
      "outputs": []
    },
    {
      "metadata": {
        "trusted": true
      },
      "cell_type": "code",
      "source": "dep_jun.head()",
      "execution_count": 43,
      "outputs": [
        {
          "output_type": "execute_result",
          "execution_count": 43,
          "data": {
            "text/html": "<div>\n<table border=\"1\" class=\"dataframe\">\n  <thead>\n    <tr style=\"text-align: right;\">\n      <th></th>\n      <th></th>\n      <th>#Departures</th>\n    </tr>\n    <tr>\n      <th>OriginCode</th>\n      <th>DayofMonth</th>\n      <th></th>\n    </tr>\n  </thead>\n  <tbody>\n    <tr>\n      <th>ABE</th>\n      <th>29</th>\n      <td>1</td>\n    </tr>\n    <tr>\n      <th>ABI</th>\n      <th>28</th>\n      <td>1</td>\n    </tr>\n    <tr>\n      <th rowspan=\"3\" valign=\"top\">ABQ</th>\n      <th>2</th>\n      <td>1</td>\n    </tr>\n    <tr>\n      <th>4</th>\n      <td>1</td>\n    </tr>\n    <tr>\n      <th>6</th>\n      <td>1</td>\n    </tr>\n  </tbody>\n</table>\n</div>",
            "text/plain": "                       #Departures\nOriginCode DayofMonth             \nABE        29                    1\nABI        28                    1\nABQ        2                     1\n           4                     1\n           6                     1"
          },
          "metadata": {}
        }
      ]
    },
    {
      "metadata": {
        "trusted": true
      },
      "cell_type": "code",
      "source": "# Since both dataframes have hierarchical index, in order to perform join between them, the hierarchical indices\n# need to be converted to columns first\n# We use the reset_index function for this purpose\ndep_jun.reset_index(inplace=True)\narr_jun.reset_index(inplace=True)",
      "execution_count": 44,
      "outputs": []
    },
    {
      "metadata": {
        "trusted": true
      },
      "cell_type": "code",
      "source": "# We are good to join the 2 dataframes now\nfinal = pd.merge(dep_jun,arr_jun,left_on=['OriginCode','DayofMonth']\n                 ,right_on=['DestCode','DayofMonth']\n                 ,how='outer')",
      "execution_count": 45,
      "outputs": []
    },
    {
      "metadata": {
        "trusted": true
      },
      "cell_type": "code",
      "source": "# let's fill all null values for #Departures or #Arrivals columns to 0\nfinal['#Departures'].fillna(0,inplace = True)\nfinal['#Arrivals'].fillna(0,inplace = True)",
      "execution_count": 46,
      "outputs": []
    },
    {
      "metadata": {
        "trusted": true
      },
      "cell_type": "code",
      "source": "# Now let's calculate the total traffic column\nfinal['Total_Traffic'] = final['#Departures'] + final['#Arrivals']",
      "execution_count": 47,
      "outputs": []
    },
    {
      "metadata": {
        "trusted": true
      },
      "cell_type": "code",
      "source": "# Since, Either the Origin City or the Destination City can be blank at a time, let's do a coalesce of the two columns\n# to obtain the new column City\nfinal['City'] = final['OriginCode'].combine_first(final['DestCode'])",
      "execution_count": 48,
      "outputs": []
    },
    {
      "metadata": {
        "trusted": true
      },
      "cell_type": "code",
      "source": "final.head()",
      "execution_count": 54,
      "outputs": [
        {
          "output_type": "execute_result",
          "execution_count": 54,
          "data": {
            "text/html": "<div>\n<table border=\"1\" class=\"dataframe\">\n  <thead>\n    <tr style=\"text-align: right;\">\n      <th></th>\n      <th>OriginCode</th>\n      <th>DayofMonth</th>\n      <th>#Departures</th>\n      <th>DestCode</th>\n      <th>#Arrivals</th>\n      <th>Total_Traffic</th>\n      <th>City</th>\n    </tr>\n  </thead>\n  <tbody>\n    <tr>\n      <th>0</th>\n      <td>ABE</td>\n      <td>29</td>\n      <td>1.0</td>\n      <td>NaN</td>\n      <td>0.0</td>\n      <td>1.0</td>\n      <td>ABE</td>\n    </tr>\n    <tr>\n      <th>1</th>\n      <td>ABI</td>\n      <td>28</td>\n      <td>1.0</td>\n      <td>ABI</td>\n      <td>1.0</td>\n      <td>2.0</td>\n      <td>ABI</td>\n    </tr>\n    <tr>\n      <th>2</th>\n      <td>ABQ</td>\n      <td>2</td>\n      <td>1.0</td>\n      <td>ABQ</td>\n      <td>1.0</td>\n      <td>2.0</td>\n      <td>ABQ</td>\n    </tr>\n    <tr>\n      <th>3</th>\n      <td>ABQ</td>\n      <td>4</td>\n      <td>1.0</td>\n      <td>ABQ</td>\n      <td>1.0</td>\n      <td>2.0</td>\n      <td>ABQ</td>\n    </tr>\n    <tr>\n      <th>4</th>\n      <td>ABQ</td>\n      <td>6</td>\n      <td>1.0</td>\n      <td>NaN</td>\n      <td>0.0</td>\n      <td>1.0</td>\n      <td>ABQ</td>\n    </tr>\n  </tbody>\n</table>\n</div>",
            "text/plain": "  OriginCode  DayofMonth  #Departures DestCode  #Arrivals  Total_Traffic City\n0        ABE          29          1.0      NaN        0.0            1.0  ABE\n1        ABI          28          1.0      ABI        1.0            2.0  ABI\n2        ABQ           2          1.0      ABQ        1.0            2.0  ABQ\n3        ABQ           4          1.0      ABQ        1.0            2.0  ABQ\n4        ABQ           6          1.0      NaN        0.0            1.0  ABQ"
          },
          "metadata": {}
        }
      ]
    },
    {
      "metadata": {
        "trusted": true
      },
      "cell_type": "code",
      "source": "import numpy as np",
      "execution_count": 50,
      "outputs": []
    },
    {
      "metadata": {
        "trusted": true
      },
      "cell_type": "code",
      "source": "# Finally, we'll group by city and calculate the total traffic and total no. of days flights occurred\nresult = final.groupby('City')['Total_Traffic','DayofMonth'].agg({'Total_Traffic':np.sum\n                                    ,'DayofMonth':lambda x:x.nunique()})",
      "execution_count": 55,
      "outputs": []
    },
    {
      "metadata": {
        "trusted": true
      },
      "cell_type": "code",
      "source": "# let's calculate the average as asked in the question\nresult['Average'] = result['Total_Traffic']/result['DayofMonth']",
      "execution_count": 56,
      "outputs": []
    },
    {
      "metadata": {
        "trusted": true
      },
      "cell_type": "code",
      "source": "# sort the final result by Average in descending order and slice to fetch the top 5\nresult.sort_values(by='Average',ascending=False)[:5]",
      "execution_count": 53,
      "outputs": [
        {
          "output_type": "execute_result",
          "execution_count": 53,
          "data": {
            "text/html": "<div>\n<table border=\"1\" class=\"dataframe\">\n  <thead>\n    <tr style=\"text-align: right;\">\n      <th></th>\n      <th>Total_Traffic</th>\n      <th>DayofMonth</th>\n      <th>Average</th>\n    </tr>\n    <tr>\n      <th>City</th>\n      <th></th>\n      <th></th>\n      <th></th>\n    </tr>\n  </thead>\n  <tbody>\n    <tr>\n      <th>ATL</th>\n      <td>218.0</td>\n      <td>30</td>\n      <td>7.266667</td>\n    </tr>\n    <tr>\n      <th>ORD</th>\n      <td>210.0</td>\n      <td>30</td>\n      <td>7.000000</td>\n    </tr>\n    <tr>\n      <th>DFW</th>\n      <td>179.0</td>\n      <td>30</td>\n      <td>5.966667</td>\n    </tr>\n    <tr>\n      <th>DEN</th>\n      <td>162.0</td>\n      <td>30</td>\n      <td>5.400000</td>\n    </tr>\n    <tr>\n      <th>LAX</th>\n      <td>140.0</td>\n      <td>30</td>\n      <td>4.666667</td>\n    </tr>\n  </tbody>\n</table>\n</div>",
            "text/plain": "      Total_Traffic  DayofMonth   Average\nCity                                     \nATL           218.0          30  7.266667\nORD           210.0          30  7.000000\nDFW           179.0          30  5.966667\nDEN           162.0          30  5.400000\nLAX           140.0          30  4.666667"
          },
          "metadata": {}
        }
      ]
    },
    {
      "metadata": {
        "trusted": true
      },
      "cell_type": "code",
      "source": "# Only thing left out is to join the City column with dfq2 to fetch exact city names\n# Join the dataframe result with dfq2 dataframe (as shown above)\n# created in the previous question to fetch the city names",
      "execution_count": null,
      "outputs": []
    },
    {
      "metadata": {},
      "cell_type": "markdown",
      "source": "## Question 5\n* Which day of the week is busiest in terms of traffic?\n* Please note : Total traffic = Total #arrivals + Total #departures"
    },
    {
      "metadata": {
        "trusted": true
      },
      "cell_type": "code",
      "source": "# type your code below\n",
      "execution_count": 58,
      "outputs": []
    },
    {
      "metadata": {},
      "cell_type": "markdown",
      "source": "## Question 6 : "
    },
    {
      "metadata": {},
      "cell_type": "markdown",
      "source": "* Are weekends busier than weekdays?"
    },
    {
      "metadata": {
        "trusted": true
      },
      "cell_type": "code",
      "source": "# type your code below\n",
      "execution_count": null,
      "outputs": []
    },
    {
      "metadata": {},
      "cell_type": "markdown",
      "source": "## Question 7 :"
    },
    {
      "metadata": {},
      "cell_type": "markdown",
      "source": "* Longer duration flights have a larger tendency to have arrival delays. Analyze the hypothesis with appropriate visuals"
    },
    {
      "metadata": {
        "trusted": true
      },
      "cell_type": "code",
      "source": "# type your code below\nimport matplotlib.pyplot as plt",
      "execution_count": 59,
      "outputs": [
        {
          "output_type": "stream",
          "text": "/home/nbuser/anaconda3_420/lib/python3.5/site-packages/matplotlib/font_manager.py:281: UserWarning: Matplotlib is building the font cache using fc-list. This may take a moment.\n  'Matplotlib is building the font cache using fc-list. '\n",
          "name": "stderr"
        }
      ]
    },
    {
      "metadata": {
        "trusted": true
      },
      "cell_type": "code",
      "source": "plt.scatter(dfq1.AirTime, dfq1.ArrDelay)",
      "execution_count": 60,
      "outputs": [
        {
          "output_type": "execute_result",
          "execution_count": 60,
          "data": {
            "text/plain": "<matplotlib.collections.PathCollection at 0x7f3b2c2e85c0>"
          },
          "metadata": {}
        },
        {
          "output_type": "display_data",
          "data": {
            "image/png": "[encoded data removed]",
            "text/plain": "<matplotlib.figure.Figure at 0x7f3b2c312ef0>"
          },
          "metadata": {}
        }
      ]
    },
    {
      "metadata": {},
      "cell_type": "markdown",
      "source": "## Question 8 : "
    },
    {
      "metadata": {},
      "cell_type": "markdown",
      "source": "* Consider the below bucketing logic for \"Actual departure Time\" :\n    * Any flight departing between 4am - 12pm : Morning flight\n    * Any flight departing between 12pm - 4pm : Afternoon flight\n    * Any flight departing between 4pm - 9pm : Evening flight\n    * Any flight departing between 9pm - 4am : Night flight\n* Based on the above logic, answer the below questions : \n    * Which time of the day observes highest departure delays?\n    * Create a pivot table with time of day in rows and type of delay in columns and #of occurrences in values\n    * Which type of delay is most frequent in evening flights?\n    * Which airport sees the highest occurrences of security related delay in the morning?"
    },
    {
      "metadata": {
        "trusted": true
      },
      "cell_type": "code",
      "source": "# type your code below\n",
      "execution_count": null,
      "outputs": []
    },
    {
      "metadata": {},
      "cell_type": "markdown",
      "source": "## Question 9 :"
    },
    {
      "metadata": {},
      "cell_type": "markdown",
      "source": "* Consider the term \"delay\" as :\n    * Any flight arriving more than 15 min later than the expected arrival time is considered \"arrival delay\"\n    * Any flight departing more than 15 min later than the expected departure time is considered \"departure delay\"\n    * A flight is considered delayed when any one of the above conditions is true\n    * Based on the above, answer the below questions :\n        * Which airline carriers have caused the highest % of delays?\n        * Which airports are facing the highest % of delayed flights?"
    },
    {
      "metadata": {
        "trusted": true
      },
      "cell_type": "code",
      "source": "# type your code below\n",
      "execution_count": null,
      "outputs": []
    },
    {
      "metadata": {},
      "cell_type": "markdown",
      "source": "## Question : 10"
    },
    {
      "metadata": {},
      "cell_type": "markdown",
      "source": "* List down top 10 cities in terms of total traffic between June and September\n* Please note : Total traffic = Total #arrivals + Total #departures"
    },
    {
      "metadata": {
        "trusted": true
      },
      "cell_type": "code",
      "source": "# type your code below\n",
      "execution_count": null,
      "outputs": []
    }
  ],
  "metadata": {
    "kernelspec": {
      "name": "python3",
      "display_name": "Python 3",
      "language": "python"
    },
    "language_info": {
      "mimetype": "text/x-python",
      "nbconvert_exporter": "python",
      "name": "python",
      "file_extension": ".py",
      "version": "3.5.4",
      "pygments_lexer": "ipython3",
      "codemirror_mode": {
        "version": 3,
        "name": "ipython"
      }
    }
  },
  "nbformat": 4,
  "nbformat_minor": 1
}